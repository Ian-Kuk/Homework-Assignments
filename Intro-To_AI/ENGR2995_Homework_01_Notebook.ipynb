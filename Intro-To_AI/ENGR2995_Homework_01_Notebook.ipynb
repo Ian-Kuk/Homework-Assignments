{
  "nbformat": 4,
  "nbformat_minor": 0,
  "metadata": {
    "colab": {
      "provenance": [],
      "collapsed_sections": [
        "XAOnb4o7uL9x",
        "WovEWCjsHDJh",
        "xxuxnTB_UlbJ"
      ]
    },
    "kernelspec": {
      "name": "python3",
      "display_name": "Python 3"
    },
    "language_info": {
      "name": "python"
    }
  },
  "cells": [
    {
      "cell_type": "markdown",
      "source": [
        "# Python programming language\n",
        "\n",
        "This is high-level overview of the Python programming language presented mostly from-scratch but may require understanding of core programming concepts covered in previous course. You are responsible for reading and understanding the handout material (try modifying the code and re-running it to test your understanding!) as well as completing the exercises (`Exercises`) listed after each main heading (`1. Basics`, `2. Collections`, `3. Conditionals and Iteration`)"
      ],
      "metadata": {
        "id": "OUGYMWuDt_La"
      }
    },
    {
      "cell_type": "markdown",
      "source": [
        "## 1. Basics"
      ],
      "metadata": {
        "id": "XAOnb4o7uL9x"
      }
    },
    {
      "cell_type": "markdown",
      "source": [
        "### Programs\n",
        "\n",
        "What is a program?\n",
        "\n",
        "- **input**: get data from keyboard, disk, or device.\n",
        "- **output**: display data on the screen or send data to file/device.\n",
        "- **math**: perform mathematical operations (addition/multiplication/etc.)\n",
        "- **conditional execution**: check for certain conditions and execute the appropriate sequence of statements.\n",
        "- **repetition**: perform some action repeatedly with some variation."
      ],
      "metadata": {
        "id": "0ybuoN73bs80"
      }
    },
    {
      "cell_type": "markdown",
      "source": [
        "### Values and types\n",
        "\n",
        "- **value**: fundamental \"thing\" (letters/numbers) that a program manipulates. Stored in a *variable* or computed from an *expression*.\n",
        "- **type**: the type of a value determines how it can be used in expressions. Example: integers (`int`), floating point numbers (`float`), boolean (`bool`), and strings (`str`). The type of a value is *inferred* rather than declared. Note the difference in how we declare 4 as either an integer, float, or string. Integers have no decimal point. Floats *must* have a decimal point. Strings are enclosed in either single (`'`) or double (`\"`) quotes."
      ],
      "metadata": {
        "id": "kY5tgGIRuaKJ"
      }
    },
    {
      "cell_type": "code",
      "source": [
        "# this cell show how to represent the value 4 as an integer\n",
        "print(4)\n",
        "type(4)"
      ],
      "metadata": {
        "id": "W9RiO0hIuA8Z"
      },
      "execution_count": null,
      "outputs": []
    },
    {
      "cell_type": "code",
      "source": [
        "# this cell show how to represent the value 4 as a floating point number\n",
        "print(4.)\n",
        "type(4.)"
      ],
      "metadata": {
        "id": "7TwwokV1coXb"
      },
      "execution_count": null,
      "outputs": []
    },
    {
      "cell_type": "code",
      "source": [
        "# this cell show how to represent the value 4 as a string\n",
        "print(\"4\")\n",
        "type(\"4\")"
      ],
      "metadata": {
        "id": "UX1WZ8Zgcoar"
      },
      "execution_count": null,
      "outputs": []
    },
    {
      "cell_type": "code",
      "source": [
        "# this cell demonstrates that commas are used to separate argument to a function\n",
        "# and can't be used in a floating point or integer value\n",
        "print(1,000,000)"
      ],
      "metadata": {
        "id": "0R2bKTONcodr"
      },
      "execution_count": null,
      "outputs": []
    },
    {
      "cell_type": "code",
      "source": [
        "# example of a boolean\n",
        "print(True)\n",
        "type(True)"
      ],
      "metadata": {
        "id": "mRzCYzgTRo3q"
      },
      "execution_count": null,
      "outputs": []
    },
    {
      "cell_type": "markdown",
      "source": [
        "### Variables and variable names\n",
        "\n",
        "A **variable** is a name that refers to a value. The **assignment statement** creates new variables and assigns values. **Variable names** should \"document\" what the variable is used for.\n",
        "- Can use letters and numbers (must start with a letter)\n",
        "- Case-sensitive.\n",
        "- Arbitrary length.\n",
        "- Can use underscore (`_`) to separate words.\n",
        "- Cannot use `python` keywords"
      ],
      "metadata": {
        "id": "tgvjCE62ucxx"
      }
    },
    {
      "cell_type": "code",
      "source": [
        "# an assignment statement contains the equal \"=\" sign.\n",
        "# the left-hand side should be a variable name\n",
        "# the right-hand side should be a value\n",
        "x = 4\n",
        "print(x)\n",
        "type(x)"
      ],
      "metadata": {
        "id": "A0BCM9YZgBbT"
      },
      "execution_count": null,
      "outputs": []
    },
    {
      "cell_type": "code",
      "source": [
        "a_descriptive_variable_name = \"easier to read\""
      ],
      "metadata": {
        "id": "UBqP6XNKg2Qz"
      },
      "execution_count": null,
      "outputs": []
    },
    {
      "cell_type": "code",
      "source": [
        "# incompatible variable names are an example of a SyntaxErorr\n",
        "# uncomment the next line to run\n",
        "#more$ = 1000000"
      ],
      "metadata": {
        "id": "jDR9Efu0gBmr"
      },
      "execution_count": null,
      "outputs": []
    },
    {
      "cell_type": "code",
      "source": [
        "# this cell prints out a complete list of python keywords\n",
        "import keyword\n",
        "print(keyword.kwlist)"
      ],
      "metadata": {
        "id": "u_GYwumpuhKI"
      },
      "execution_count": null,
      "outputs": []
    },
    {
      "cell_type": "markdown",
      "source": [
        "### Statements and expressions\n",
        "\n",
        "**Statements** are instructions the `python` interpreter can execute. `python` executes statements and displays the result if there is one. Can you identify what statements/results we have seen so far?\n",
        "\n",
        "Code blocks contain a sequence of statements. The results appear one at a time as the statements execute."
      ],
      "metadata": {
        "id": "G5x7ZGUIuhqp"
      }
    },
    {
      "cell_type": "code",
      "source": [
        "print(1)\n",
        "x = 2\n",
        "print(x)"
      ],
      "metadata": {
        "id": "ZfqThHibunQI"
      },
      "execution_count": null,
      "outputs": []
    },
    {
      "cell_type": "markdown",
      "source": [
        "### Operators and expressions\n",
        "\n",
        "**operators**: symbols that represent computations. The evaluation of expressions containing operators follow common order-of-operations rules (PEMDAS). Some common operators are given below.\n",
        "- `+`: addition\n",
        "- `-`: subtraction\n",
        "- `*`: multiplication\n",
        "- `/`: division\n",
        "- `(` `)`: parenthesis\n",
        "- `**`: exponentiation\n",
        "- `//`: floor division\n",
        "- `%`: modulus\n",
        "\n",
        "Operators can be combined with assignment statements (ex: `+=`, `-=`, `*=`) to perform tasks such as variable incrementing or decrementing."
      ],
      "metadata": {
        "id": "fILMZLNIvl7J"
      }
    },
    {
      "cell_type": "code",
      "source": [
        "print(\"5+4=\",5+4)\n",
        "print(\"5-4=\",5-4)\n",
        "print(\"5*4=\",5*4)\n",
        "print(\"5/4=\",5/4)\n",
        "print(\"5**(4/2)=\",5**(4/2))\n",
        "print(\"5//4=\",5//4)\n",
        "print(\"5%4=\",5%4)"
      ],
      "metadata": {
        "id": "BXlaOWaqvnEw"
      },
      "execution_count": null,
      "outputs": []
    },
    {
      "cell_type": "code",
      "source": [
        "a = 1\n",
        "b = 0\n",
        "a -= 1\n",
        "b += 1\n",
        "print(\"a =\", a)\n",
        "print(\"b =\", b)"
      ],
      "metadata": {
        "id": "kCRFSuly7fxF"
      },
      "execution_count": null,
      "outputs": []
    },
    {
      "cell_type": "markdown",
      "source": [
        "### Function calls\n",
        "\n",
        "**Functions** contain code that is run by performing a function call. We've already seen several examples of built-in Python function like `type` and `print`. Functions are run by calling the function name followed by a set of parentheses. Functions may accept input (**arguments**, enclosed in the parantheses of the function call) and return output (**return value**, specified by a return statement at the end of function)\n",
        "\n",
        "In this example, we are calling the `type` function. We pass in the argument `\"32\"`, a string-typed value. The return value is an object `<type 'string'>` that indicates the data type of the value passed as an argument to the `type` function. We can assign return values to variables using an assignment statement.\n",
        "\n",
        "Some functions, like `print`, do not have a return value. The `print` function here simply displays the argument passed in and returns a `None` value."
      ],
      "metadata": {
        "id": "BuZ3FC2bvqMZ"
      }
    },
    {
      "cell_type": "code",
      "source": [
        "type(\"32\")"
      ],
      "metadata": {
        "id": "HjW5cKPiN4LT"
      },
      "execution_count": null,
      "outputs": []
    },
    {
      "cell_type": "code",
      "source": [
        "type_of_32 = type(\"32\")\n",
        "print(type_of_32)"
      ],
      "metadata": {
        "id": "sZqLDysX9ySd"
      },
      "execution_count": null,
      "outputs": []
    },
    {
      "cell_type": "code",
      "source": [
        "x = print(3)\n",
        "print(x)"
      ],
      "metadata": {
        "id": "VgvSSRhzyDiY"
      },
      "execution_count": null,
      "outputs": []
    },
    {
      "cell_type": "markdown",
      "source": [
        "### Modules\n",
        "\n",
        "A module is a file that contains a collection of function definitions. Modules can be imported in their entirety, or select functions or submodules can be import individually. There are many [default modules](https://docs.python.org/3/py-modindex.html) distributed with python, and others can be installed with a python package manager such as `pip` or `conda`. The python environment in Colab contains a loadout of common data science and machine learning packages in addition to the default python modules. We have some examples of importing an entire library (`math`), calling imported math functions using \"dot notation\", and importing a select function."
      ],
      "metadata": {
        "id": "M511DVEwyEBI"
      }
    },
    {
      "cell_type": "code",
      "source": [
        "# the math module\n",
        "import math"
      ],
      "metadata": {
        "id": "USC9TuosyFMn"
      },
      "execution_count": null,
      "outputs": []
    },
    {
      "cell_type": "code",
      "source": [
        "# a list of function contained in the math module\n",
        "help(math)"
      ],
      "metadata": {
        "id": "-ApT1sdIIp9Z"
      },
      "execution_count": null,
      "outputs": []
    },
    {
      "cell_type": "code",
      "source": [
        "decibel = math.log10(17.0)\n",
        "angle = 1.5\n",
        "height = math.sin(angle)"
      ],
      "metadata": {
        "id": "TntHwwLZDaiF"
      },
      "execution_count": null,
      "outputs": []
    },
    {
      "cell_type": "code",
      "source": [
        "# numpy is an array-based computing library\n",
        "# sklearn is a machine learning library, which contains the function train_test_split within the model_selection submodule\n",
        "import numpy as np\n",
        "from sklearn.model_selection import train_test_split"
      ],
      "metadata": {
        "id": "ccCUda80DamT"
      },
      "execution_count": null,
      "outputs": []
    },
    {
      "cell_type": "code",
      "source": [
        "# this creates an array of zeros of shape (100, 3)\n",
        "X = np.zeros((100, 3))\n",
        "# this splits the newly created array\n",
        "X_train, X_test = train_test_split(X)"
      ],
      "metadata": {
        "id": "Ps8kSkzXDasu"
      },
      "execution_count": null,
      "outputs": []
    },
    {
      "cell_type": "markdown",
      "source": [
        "### Defining functions\n",
        "\n",
        "We can \"define\" our own functions, as well. A valid function definition requires the python keyword `def`, the function name, indented statements and/or expressions, and optionally function arguments enclosed in parenthesis followed by a colon. The python interpreter determines the end of a function from or the next line of unindented code. A `return` statement may also be used to end the execution of a function and return some result(s).\n",
        "\n",
        "```python\n",
        "def function_name(argument1, argument2, ..):\n",
        "  val1 = indented_statement_1\n",
        "  val2 = indented_statement_2\n",
        "  return val1, val2\n",
        "\n",
        "```"
      ],
      "metadata": {
        "id": "5Mv-cLCnyL1I"
      }
    },
    {
      "cell_type": "code",
      "source": [
        "def print_twice(x):\n",
        "  print(x, x)\n",
        "#this unindented line ends the function definition\n",
        "y = 10\n",
        "# example of function with no return statement\n",
        "print_twice(y)"
      ],
      "metadata": {
        "id": "vVmREC2iyLZo"
      },
      "execution_count": null,
      "outputs": []
    },
    {
      "cell_type": "code",
      "source": [
        "def cat(x, y):\n",
        "  return x+y\n",
        "\n",
        "x = \"Thermo\"\n",
        "y = \"dynamics\"\n",
        "# example of a function with a return statement\n",
        "xy = cat(x, y)\n",
        "print(xy)"
      ],
      "metadata": {
        "id": "etC5KLPwKxCk"
      },
      "execution_count": null,
      "outputs": []
    },
    {
      "cell_type": "markdown",
      "source": [
        "### Debugging errors\n",
        "\n",
        "There are three main types of errors to be aware of:\n",
        "\n",
        "1. **Syntax errors**: the code is invalid due to errors regarding the structure of the program and the rules about that structure. Example: variable names violate convention, there is a typo in a function call or variable reference, improper indentation\n",
        "2. **Runtime errors**: the code is valid but something \"bad\" happens at program execution. Example: you try to open a file that is missing\n",
        "3. **Semantic errors**: the code is valid but the program you wrote is not the program you wanted. Example: switching two variable name references in a function definition, incorrect setting of keyword function arguments.\n",
        "\n",
        "The tried-and-true method to begin the process of debugging syntax and runtime errors is to copy and paste the error message into Google search and find the most relevant StackOverflow discussion thread."
      ],
      "metadata": {
        "id": "7e68zddtcWtG"
      }
    },
    {
      "cell_type": "markdown",
      "source": [
        "## Exercises"
      ],
      "metadata": {
        "id": "WovEWCjsHDJh"
      }
    },
    {
      "cell_type": "markdown",
      "source": [
        "### 1. Compute the area of a triangle\n",
        "\n",
        "Write a function to compute the area of an arbitrary triangle using the lengths of the three sides (`a`, `b`, `c`). Use the function to determine area of a triangle with side lengths of 3 cm, 5 cm, and 7 cm."
      ],
      "metadata": {
        "id": "TltjmWtRHGx5"
      }
    },
    {
      "cell_type": "code",
      "source": [],
      "metadata": {
        "id": "wXFC8caoIWQZ"
      },
      "execution_count": null,
      "outputs": []
    },
    {
      "cell_type": "markdown",
      "source": [
        "### 2. Debug the code\n",
        "\n",
        "The following code cells all contain errors. Fix the errors so each code cell runs successfully. Some cells have comments regarding the intending outcome of the operation that should be followed."
      ],
      "metadata": {
        "id": "te9Yopu3IaPS"
      }
    },
    {
      "cell_type": "code",
      "source": [
        "today = \"Friday\""
      ],
      "metadata": {
        "id": "O2wQuJPAIk7J"
      },
      "execution_count": null,
      "outputs": []
    },
    {
      "cell_type": "code",
      "source": [
        "import math\n",
        "x = 10\n",
        "print(math.log10(x))"
      ],
      "metadata": {
        "id": "Q7hAUfhdIk-A",
        "colab": {
          "base_uri": "https://localhost:8080/"
        },
        "outputId": "51e4d732-5923-4e8f-d4b7-3b481f5efdc2"
      },
      "execution_count": null,
      "outputs": [
        {
          "output_type": "stream",
          "name": "stdout",
          "text": [
            "1.0\n"
          ]
        }
      ]
    },
    {
      "cell_type": "code",
      "source": [
        "def my_function(x):\n",
        "  print(x+1)\n",
        "  print(x+2)\n",
        "  print(x+3)\n",
        "\n",
        "my_function(0)"
      ],
      "metadata": {
        "id": "IGvqIb0wIlA4",
        "colab": {
          "base_uri": "https://localhost:8080/"
        },
        "outputId": "643512d5-2d43-486d-8e90-5ea7a729aa68"
      },
      "execution_count": null,
      "outputs": [
        {
          "output_type": "stream",
          "name": "stdout",
          "text": [
            "1\n",
            "2\n",
            "3\n"
          ]
        }
      ]
    },
    {
      "cell_type": "code",
      "source": [
        "# in this function, we'd like to multiply two numbers together and return the modulo 3\n",
        "def my_operation(a, b):\n",
        "  c = a*b\n",
        "  return c%3\n",
        "my_operation(4,6)\n"
      ],
      "metadata": {
        "id": "JZXyPkd0IlDp",
        "colab": {
          "base_uri": "https://localhost:8080/"
        },
        "outputId": "2bfdc2b7-a715-4b90-d4ad-20f0f4c5f7a8"
      },
      "execution_count": null,
      "outputs": [
        {
          "output_type": "execute_result",
          "data": {
            "text/plain": [
              "0"
            ]
          },
          "metadata": {},
          "execution_count": 6
        }
      ]
    },
    {
      "cell_type": "code",
      "source": [
        "# in this function, we'd like to return the square root of the square root of a number\n",
        "import math\n",
        "def double_sqrt(x):\n",
        "  y = math.sqrt(x)\n",
        "  return math.sqrt(y)\n",
        "double_sqrt(8)"
      ],
      "metadata": {
        "id": "wLuRly2kIlGT",
        "colab": {
          "base_uri": "https://localhost:8080/"
        },
        "outputId": "6528812f-9d13-4b03-a8e7-5a8f8d5fd073"
      },
      "execution_count": null,
      "outputs": [
        {
          "output_type": "execute_result",
          "data": {
            "text/plain": [
              "1.6817928305074292"
            ]
          },
          "metadata": {},
          "execution_count": 9
        }
      ]
    },
    {
      "cell_type": "markdown",
      "source": [
        "## 2. Collections"
      ],
      "metadata": {
        "id": "5LZMbj3Ays34"
      }
    },
    {
      "cell_type": "markdown",
      "source": [
        "### Lists\n",
        "\n",
        "- **list**: an ordered set of values, where each value is identified by an index. A sequence.\n",
        "- The values that make up a list are called **elements**.\n",
        "- Elements in a list don't have to be the same data type. Lists can be nested within lists."
      ],
      "metadata": {
        "id": "HPNcy4RyzeWY"
      }
    },
    {
      "cell_type": "markdown",
      "source": [
        "### List values\n",
        "\n",
        "Lists are constructed by placing elements within `[` `]` square brackets, each element separated by a comma `,`."
      ],
      "metadata": {
        "id": "EpaZ6wewziR4"
      }
    },
    {
      "cell_type": "code",
      "source": [
        "list_of_integers = [1,2,3,4]\n",
        "list_of_strings = ['H', 'He', 'Li', 'Be']\n",
        "nested_list = [[1,2,3],[4,5,6],[7,8,9]]"
      ],
      "metadata": {
        "id": "P2AwL5AjzjKP"
      },
      "execution_count": null,
      "outputs": []
    },
    {
      "cell_type": "markdown",
      "source": [
        "Lists can be constructed from built-in functions. The `range(start, stop, step)` function is used to generate a sequence. The `list` function converts the sequence to a python `list` object."
      ],
      "metadata": {
        "id": "lWwn8Kd0PX-p"
      }
    },
    {
      "cell_type": "code",
      "source": [
        "# range(1, 5) gives sequence starting at 1 going up to but not including 5\n",
        "print(list(range(1, 5)))\n",
        "# range(10) gives sequence starting at 0 going up to but not including 10\n",
        "print(list(range(10)))\n",
        "# range(1, 10, 2) gives sequences from 1 up to but not including 10 by 2's\n",
        "print(list(range(1, 10, 2)))"
      ],
      "metadata": {
        "id": "Tj9jjdPePYG_"
      },
      "execution_count": null,
      "outputs": []
    },
    {
      "cell_type": "markdown",
      "source": [
        "### Accessing elements of lists\n",
        "\n",
        "Lists are zero-indexed by integers. Lists can be indexed from the start (positive integer) or from the end (negative integer). Trying to pass an index that is beyond the size of the list returns an error message (\"list index out of range\")."
      ],
      "metadata": {
        "id": "LTAwi5TDzjs4"
      }
    },
    {
      "cell_type": "code",
      "source": [
        "numbers = [17, 5]\n",
        "# indexing from the start\n",
        "print(numbers[0])\n",
        "print(numbers[1])\n",
        "# indexing from the end\n",
        "print(numbers[-1])\n",
        "print(numbers[-2])"
      ],
      "metadata": {
        "id": "ZPUkifVszqRX"
      },
      "execution_count": null,
      "outputs": []
    },
    {
      "cell_type": "code",
      "source": [
        "# uncomment the line below for the error\n",
        "#print(numbers[2])"
      ],
      "metadata": {
        "id": "CLXRvejtQ4Yr"
      },
      "execution_count": null,
      "outputs": []
    },
    {
      "cell_type": "code",
      "source": [
        "# len is built-in function to find the length of a list\n",
        "n_elements = len(numbers)\n",
        "print(n_elements)"
      ],
      "metadata": {
        "id": "_derMJCZRD2o"
      },
      "execution_count": null,
      "outputs": []
    },
    {
      "cell_type": "code",
      "source": [
        "# determining list \"membership\"\n",
        "list_of_strings = ['H', 'He', 'Li', 'Be']\n",
        "h_in_list = 'H' in list_of_strings\n",
        "c_in_list = 'C' in list_of_strings\n",
        "print(h_in_list, c_in_list)"
      ],
      "metadata": {
        "id": "H3cK-Rb2RwKu"
      },
      "execution_count": null,
      "outputs": []
    },
    {
      "cell_type": "markdown",
      "source": [
        "### Slicing\n",
        "\n",
        "The `slice(start, stop, step)` function is used to select elements from a sequence or list. The is a simplified list slicing notation `my_list[start:stop:step]`. Remember that lists are zero-indexed i.e. the first element has an index of 0."
      ],
      "metadata": {
        "id": "F8SpXRkhzq-I"
      }
    },
    {
      "cell_type": "code",
      "source": [
        "a = ['a', 'b', 'c', 'd', 'e', 'f']"
      ],
      "metadata": {
        "id": "Dd9X_i8pSIt4"
      },
      "execution_count": null,
      "outputs": []
    },
    {
      "cell_type": "code",
      "source": [
        "# select element 1 up to but not including element 3\n",
        "print(a[1:3])\n",
        "print(a[slice(1, 3)])"
      ],
      "metadata": {
        "id": "AmRYjao6UHxJ"
      },
      "execution_count": null,
      "outputs": []
    },
    {
      "cell_type": "code",
      "source": [
        "# select element 0 up to but not including element 4\n",
        "a[:4]"
      ],
      "metadata": {
        "id": "YVu9Fa8_UH0g"
      },
      "execution_count": null,
      "outputs": []
    },
    {
      "cell_type": "code",
      "source": [
        "# select element 3 up to the end of the sequence\n",
        "a[3:]"
      ],
      "metadata": {
        "id": "3Qa-NQnWUH3d"
      },
      "execution_count": null,
      "outputs": []
    },
    {
      "cell_type": "code",
      "source": [
        "# a simple way to reverse a sequence\n",
        "# select element 0 up to the end, with a step size of -1\n",
        "a[::-1]"
      ],
      "metadata": {
        "id": "Ee8SrgdyUH6n"
      },
      "execution_count": null,
      "outputs": []
    },
    {
      "cell_type": "markdown",
      "source": [
        "### List operations\n",
        "\n",
        "Some operators (`+`, `*`) work with python lists objects. The `+` operator used with two lists concantenates the two lists. The `*` operator used with a list and an integer concatenates several copies of the same list."
      ],
      "metadata": {
        "id": "1uDjuKZySJGZ"
      }
    },
    {
      "cell_type": "code",
      "source": [
        "a = [1, 2, 3]\n",
        "b = [4, 5, 6]\n",
        "# add the elements of b to the end of list a\n",
        "ab = a+b\n",
        "print(ab)"
      ],
      "metadata": {
        "id": "4rj9rXKqSLKg"
      },
      "execution_count": null,
      "outputs": []
    },
    {
      "cell_type": "code",
      "source": [
        "# you can use the + operator to add elements to the end of a list\n",
        "c = ab + [7]\n",
        "print(c)"
      ],
      "metadata": {
        "id": "Myhk6oDEVwJk"
      },
      "execution_count": null,
      "outputs": []
    },
    {
      "cell_type": "code",
      "source": [
        "# copy list a three times\n",
        "print(a*3)"
      ],
      "metadata": {
        "id": "yuRY_dWdVsJw"
      },
      "execution_count": null,
      "outputs": []
    },
    {
      "cell_type": "markdown",
      "source": [
        "### List methods\n",
        "\n",
        "You can find a list of `list` methods or dot-functions [here](https://docs.python.org/3/tutorial/datastructures.html#more-on-lists). Any `list` object can use these functions."
      ],
      "metadata": {
        "id": "OwI3uqeBUZsB"
      }
    },
    {
      "cell_type": "code",
      "source": [
        "# add an element to a list\n",
        "c.append(8)\n",
        "print(c)"
      ],
      "metadata": {
        "id": "9eEz7HUYUZ7R"
      },
      "execution_count": null,
      "outputs": []
    },
    {
      "cell_type": "code",
      "source": [
        "# remove an element by index\n",
        "_ = c.pop(-1)\n",
        "print(c)"
      ],
      "metadata": {
        "id": "42wjD91NWzh4"
      },
      "execution_count": null,
      "outputs": []
    },
    {
      "cell_type": "code",
      "source": [
        "# sort a list\n",
        "d = [4, 1, 3, 2]\n",
        "d.sort()\n",
        "print(d)"
      ],
      "metadata": {
        "id": "NLUtwMU4XBYW"
      },
      "execution_count": null,
      "outputs": []
    },
    {
      "cell_type": "markdown",
      "source": [
        "### Modifying elements of lists\n",
        "\n",
        "Lists are mutable -- you can change the values of elements"
      ],
      "metadata": {
        "id": "Sw9jPMzpTyqp"
      }
    },
    {
      "cell_type": "code",
      "source": [
        "a = ['a', 'b', 'c', 'd', 'e', 'f']\n",
        "\n",
        "# change a single element\n",
        "a[-1] = 'z'\n",
        "print(a[-1])\n",
        "\n",
        "# change a slice\n",
        "a[1:3] = ['x', 'y']\n",
        "print(a[1:3])\n",
        "\n",
        "print(a)\n",
        "\n",
        "# delete a slice\n",
        "del(a[1:5])\n",
        "print(a)"
      ],
      "metadata": {
        "id": "iAgd38nIT0Wo"
      },
      "execution_count": null,
      "outputs": []
    },
    {
      "cell_type": "code",
      "source": [
        "# this assignment statement creates a reference to list \"d\" rather than a copy\n",
        "x = d\n",
        "x[3] = 10\n",
        "print(d) # oops\n",
        "\n",
        "# copy the list if you intend to change the elements\n",
        "d[3] = 4\n",
        "x = d.copy()\n",
        "x[3] = 10\n",
        "print(d)"
      ],
      "metadata": {
        "id": "6WNMqohKXPsv"
      },
      "execution_count": null,
      "outputs": []
    },
    {
      "cell_type": "markdown",
      "source": [
        "### Tuples\n",
        "\n",
        "Constructed by placing elements between `(` `)` parenthesis, each element separated by commas `,`. Lists largely contain the same functionality as lists, but are **immutable**. One common use for tuples is tuple assignment, or the unpacking of the elements in a sequence into a set of individual variables."
      ],
      "metadata": {
        "id": "LyzE34mtT90i"
      }
    },
    {
      "cell_type": "code",
      "source": [
        "# an example of a tuple\n",
        "a_tuple = (1, 2, 3, 4)\n",
        "print(a_tuple)\n",
        "\n",
        "# you can slice but don't try to change an element\n",
        "a_tuple_slice = a_tuple[slice(2)]\n",
        "print(a_tuple_slice)\n",
        "\n",
        "# an example of tuple assignment\n",
        "a, b, c = [1, 2, 3]\n",
        "print(a)"
      ],
      "metadata": {
        "id": "mM4C0qavT-m5"
      },
      "execution_count": null,
      "outputs": []
    },
    {
      "cell_type": "markdown",
      "source": [
        "### Dictionaries\n",
        "\n",
        "A **dictionary** is an unordered set of key-value pairs. The key functions similarly to the index in lists and tuples i.e. it is used to access values or elements. Dictionaries can be constructed by placing key-value pairs between `{` `}` curly braces, each key-value pair separated by commas. The key-value pair is formatted like `key:value` using the colon."
      ],
      "metadata": {
        "id": "HFANDHBfUgv5"
      }
    },
    {
      "cell_type": "code",
      "source": [
        "periodic_table = {'H': 'Hydrogen', 'He': 'Helium'}"
      ],
      "metadata": {
        "id": "9yMiIcdOUh2A"
      },
      "execution_count": null,
      "outputs": []
    },
    {
      "cell_type": "markdown",
      "source": [
        "### Dictionary Methods"
      ],
      "metadata": {
        "id": "saw12FUMUiOK"
      }
    },
    {
      "cell_type": "code",
      "source": [
        "# key-value pairs can be added\n",
        "periodic_table['Li'] = 'Lithium'"
      ],
      "metadata": {
        "id": "qgxswNtMUjMB"
      },
      "execution_count": null,
      "outputs": []
    },
    {
      "cell_type": "code",
      "source": [
        "# key-value pairs can be deleted\n",
        "periodic_table['G'] = 'Gomesium'\n",
        "del(periodic_table['G'])"
      ],
      "metadata": {
        "id": "liKkwZambqaR"
      },
      "execution_count": null,
      "outputs": []
    },
    {
      "cell_type": "code",
      "source": [
        "# print the keys of a dictionary\n",
        "print(periodic_table.keys())"
      ],
      "metadata": {
        "id": "gB8_h5Jbb0p9"
      },
      "execution_count": null,
      "outputs": []
    },
    {
      "cell_type": "code",
      "source": [
        "# print the values of a dictionary\n",
        "print(periodic_table.values())"
      ],
      "metadata": {
        "id": "g9PCKg7zb6QT"
      },
      "execution_count": null,
      "outputs": []
    },
    {
      "cell_type": "code",
      "source": [
        "# print the key-value pairs as a sequence tuples\n",
        "print(periodic_table.items())"
      ],
      "metadata": {
        "id": "f56RFKf2cAbf"
      },
      "execution_count": null,
      "outputs": []
    },
    {
      "cell_type": "markdown",
      "source": [
        "## Exercises"
      ],
      "metadata": {
        "id": "gRybY2xuLhga"
      }
    },
    {
      "cell_type": "markdown",
      "source": [
        "### 1. A list of numbers\n",
        "\n",
        "Create a list containing atleast 5 integers and 5 floating point numbers. In these questions, indexing starts at element 0 i.e. zero-indexed.\n",
        "\n",
        "1.   Print out the list in reverse.\n",
        "2.   Print out the final three elements.\n",
        "3.   Print out every third element starting at element 1."
      ],
      "metadata": {
        "id": "tCdQJXu_LkmR"
      }
    },
    {
      "cell_type": "code",
      "source": [
        "a = [1,2,3,4,5,6.0,7.0,8.0,9.0,10.0]\n",
        "b = a.copy()\n",
        "b.reverse()\n",
        "print(b)\n",
        "print(a[len(a)-3:len(a)])\n",
        "print(a[::3])"
      ],
      "metadata": {
        "id": "0Yk6C-6wLk0h",
        "colab": {
          "base_uri": "https://localhost:8080/"
        },
        "outputId": "5bfb7222-210a-4e5e-d0e0-aa893dbffb6d"
      },
      "execution_count": null,
      "outputs": [
        {
          "output_type": "stream",
          "name": "stdout",
          "text": [
            "[10.0, 9.0, 8.0, 7.0, 6.0, 5, 4, 3, 2, 1]\n",
            "[8.0, 9.0, 10.0]\n",
            "[1, 4, 7.0, 10.0]\n"
          ]
        }
      ]
    },
    {
      "cell_type": "markdown",
      "source": [
        "### 2. Mascots\n",
        "\n",
        "Create a dictionary containing the names of each Big 10 University (i.e. University of Iowa) as the dictionary keys and the mascot of each university (i.e. Herky the Hawk) as the value. Print out the dictionary."
      ],
      "metadata": {
        "id": "WdF5I671Lk7R"
      }
    },
    {
      "cell_type": "code",
      "source": [
        "bigTen = {'University of Iowa': 'Herky the Hawk', 'University of Michigan' : 'Sparty', 'Ohio State' : 'Brutus Buckeye' , 'Penn State' : 'Nittany Lions', 'Rutgers University' : 'Scarlet Knight', 'University of Minnesota':'Goldy Gopher','Purdue University':'Purdue Pete','University of Illinois':'Chief Illiniwek','University of Wisconsin':'Buckey Badger','Indiana University':'Hoosiers','University of Maryland':'Testudo','University of Nebraska-Lincoln' : 'Herbie Husker','Northwestern University': 'Willie the Wildcat' }\n",
        "print(bigTen)"
      ],
      "metadata": {
        "id": "4DsDoafALlBA",
        "colab": {
          "base_uri": "https://localhost:8080/"
        },
        "outputId": "657ce833-d9c9-4ff3-90cc-d10fe45391d2"
      },
      "execution_count": null,
      "outputs": [
        {
          "output_type": "stream",
          "name": "stdout",
          "text": [
            "{'University of Iowa': 'Herky the Hawk', 'University of Michigan': 'Sparty', 'Ohio State': 'Brutus Buckeye', 'Penn State': 'Nittany Lions', 'Rutgers University': 'Scarlet Knight', 'University of Minnesota': 'Goldy Gopher', 'Purdue University': 'Purdue Pete', 'University of Illinois': 'Chief Illiniwek', 'University of Wisconsin': 'Buckey Badger', 'Indiana University': 'Hoosiers', 'University of Maryland': 'Testudo', 'University of Nebraska-Lincoln': 'Herbie Husker', 'Northwestern University': 'Willie the Wildcat'}\n"
          ]
        }
      ]
    },
    {
      "cell_type": "markdown",
      "source": [
        "## 3. Conditionals and Iteration"
      ],
      "metadata": {
        "id": "xxuxnTB_UlbJ"
      }
    },
    {
      "cell_type": "markdown",
      "source": [
        "### Comparison operators\n",
        "\n",
        "Comparison operators are used to create conditional statements. These statements result in a boolean variable, either `True` or `False`.\n",
        "\n",
        "- `==`: equal\n",
        "- `!=`: not equal\n",
        "- `>`: greater than\n",
        "- `<`: less than\n",
        "- `>=`: greater than or equal to\n",
        "- `<=`: less than or equal to"
      ],
      "metadata": {
        "id": "ker2A31ZVCmp"
      }
    },
    {
      "cell_type": "code",
      "source": [
        "x = 1"
      ],
      "metadata": {
        "id": "r_Sl-8YlUokw"
      },
      "execution_count": null,
      "outputs": []
    },
    {
      "cell_type": "code",
      "source": [
        "print(x>0)"
      ],
      "metadata": {
        "id": "U8STKbWzblNr"
      },
      "execution_count": null,
      "outputs": []
    },
    {
      "cell_type": "code",
      "source": [
        "print(x!=1)"
      ],
      "metadata": {
        "id": "jNystHJ8blQj"
      },
      "execution_count": null,
      "outputs": []
    },
    {
      "cell_type": "markdown",
      "source": [
        "### Logical operators\n",
        "\n",
        "Logical operators are used to chain comparison statements together to create compound conditional statements.\n",
        "\n",
        "- `and`: booleans on either side of `and` should be `True` else the statement is `False`.\n",
        "- `not`: takes the complement of a boolean variable e.g. `not True` is `False`.\n",
        "- `or`: one boolean on either side of `or` should be `True` else the statement is `False`.\n",
        "\n",
        "To evaluate compound conditional statements, evaluate the comparison statements first then evaluate the logical statements.\n",
        "\n",
        "Example:\n",
        "```python\n",
        "x = 1\n",
        "x > 0 and x < 2\n",
        "```\n",
        "evaluates to\n",
        "```python\n",
        "True and True\n",
        "```\n",
        "evaluates to\n",
        "```python\n",
        "True\n",
        "```"
      ],
      "metadata": {
        "id": "yQi53X3LVFk5"
      }
    },
    {
      "cell_type": "code",
      "source": [
        "print(x>0 and x<2)"
      ],
      "metadata": {
        "id": "-IvaMUPTVHCY"
      },
      "execution_count": null,
      "outputs": []
    },
    {
      "cell_type": "code",
      "source": [
        "print(not x>0)"
      ],
      "metadata": {
        "id": "EuRs_VBSb4M7"
      },
      "execution_count": null,
      "outputs": []
    },
    {
      "cell_type": "code",
      "source": [
        "print(x>0 or x<0)"
      ],
      "metadata": {
        "id": "Qr1VDp8ib4QK"
      },
      "execution_count": null,
      "outputs": []
    },
    {
      "cell_type": "markdown",
      "source": [
        "### Conditional execution\n",
        "\n",
        "Conditional execution in python is controlled by `if` statements. If statements are composed of a conditional header statement and an indented code block. If the conditional header statement evaluates to `False`, the code in the `else` code block to run instead. The `else` code block is optional.\n",
        "\n",
        "```python\n",
        "if CONDITIONAL_HEADER_STATEMENT:\n",
        "  CONDITIONALLY_TRUE_STATEMENT_1\n",
        "  CONDITIONALLY_TRUE_STATEMENT_2\n",
        "else:\n",
        "  CONDITIONALLY_FALSE_STATEMENT_1\n",
        "  CONDITIONALLY_FALSE_STATEMENT_2\n",
        "```"
      ],
      "metadata": {
        "id": "FS6KL8sDVKRR"
      }
    },
    {
      "cell_type": "code",
      "source": [
        "if x>0:\n",
        "  print(\"x is positive\")"
      ],
      "metadata": {
        "id": "2c-kDpb6VLWA"
      },
      "execution_count": null,
      "outputs": []
    },
    {
      "cell_type": "code",
      "source": [
        "# note that everything inside the function definition is indented once\n",
        "def parity(x):\n",
        "  # note that the conditionally true/false statements are indented twice\n",
        "  if x%2 == 0:\n",
        "    print(x, \"is even\")\n",
        "  else:\n",
        "    print(x, \"is odd\")"
      ],
      "metadata": {
        "id": "ex5XB_VkeyhI"
      },
      "execution_count": null,
      "outputs": []
    },
    {
      "cell_type": "code",
      "source": [
        "parity(x)"
      ],
      "metadata": {
        "id": "lYslqvlPeyVg"
      },
      "execution_count": null,
      "outputs": []
    },
    {
      "cell_type": "markdown",
      "source": [
        "### Chained conditionals\n",
        "\n",
        "We can chain multiple conditional header statements together with an else-if or `elif` statement. These statements are evaluated sequentially downward until one statement evaluates to `True`. Once a conditional statement is evaluated to `True`, he following `elif` or `else` statements are skipped. There is no limit to the number of `elif` statements. It is good practice to end with `else`."
      ],
      "metadata": {
        "id": "LwYZKXWtVsoy"
      }
    },
    {
      "cell_type": "code",
      "source": [
        "def number_comparison(x, y):\n",
        "  if x<y:\n",
        "    print(x, \"is less than\", y)\n",
        "  elif x>y:\n",
        "    print(x, \"is greater than\", y)\n",
        "  else:\n",
        "    print(x, \"is equal to\", y)"
      ],
      "metadata": {
        "id": "kUibPK9VVtsf"
      },
      "execution_count": null,
      "outputs": []
    },
    {
      "cell_type": "code",
      "source": [
        "number_comparison(10, 20)"
      ],
      "metadata": {
        "id": "GZnQ1uDWf8py"
      },
      "execution_count": null,
      "outputs": []
    },
    {
      "cell_type": "markdown",
      "source": [
        "### Nested conditionals\n",
        "\n",
        "Sometimes it is simpler and easier to read when nesting conditionals within one another rather than writing a long list of `elif` statements or long conditional header statements. Sometimes not."
      ],
      "metadata": {
        "id": "NNNDgy2SVuEB"
      }
    },
    {
      "cell_type": "code",
      "source": [
        "def nested_number_comparison(x, y):\n",
        "  if x==y:\n",
        "    print(x, \"is equal to\", y)\n",
        "  else:\n",
        "    if x<y:\n",
        "      print(x, \"is less than\", y)\n",
        "    else:\n",
        "      print(x, \"is greater than\", y)"
      ],
      "metadata": {
        "id": "54WXXK25VwH4"
      },
      "execution_count": null,
      "outputs": []
    },
    {
      "cell_type": "code",
      "source": [
        "nested_number_comparison(10, 20)"
      ],
      "metadata": {
        "id": "Bk46ipYm6CTt"
      },
      "execution_count": null,
      "outputs": []
    },
    {
      "cell_type": "markdown",
      "source": [
        "### The `while` loop\n",
        "\n",
        "The purpose of a `while` loop is to perform some computation repeatedly, with or without variation, until a stopping criteria is reached. A `while` loop is typically formatted like\n",
        "\n",
        "```python\n",
        "while CONDITION:\n",
        "  STATEMENT_1\n",
        "  STATEMENT_2\n",
        "else: # optional\n",
        "  ELSE_STATEMENT_1\n",
        "  ELSE_STATEMENT_2\n",
        "```\n",
        "\n",
        "In this example, `STATEMENT_1` and `STATEMENT_2` are evaluated repeatedly until `CONDITION` evaluates to `False`. The `STATEMENT`s may or may not involve variables that change over the course of the evaluation of the code block within the `while` loop. When `CONDITION` evaluates to `False`, the code in the optional `else` block is executed."
      ],
      "metadata": {
        "id": "G4TXCk_pV67h"
      }
    },
    {
      "cell_type": "code",
      "source": [
        "def increment_and_compare(a, b):\n",
        "  while a<b:\n",
        "    print(a)\n",
        "    a += 1\n",
        "  else:\n",
        "    print(\"I'm in the else loop\")"
      ],
      "metadata": {
        "id": "81e93yRhV_qP"
      },
      "execution_count": null,
      "outputs": []
    },
    {
      "cell_type": "code",
      "source": [
        "a = 0\n",
        "b = 10\n",
        "increment_and_compare(a, b)"
      ],
      "metadata": {
        "id": "4EpeV0Lz8wZl"
      },
      "execution_count": null,
      "outputs": []
    },
    {
      "cell_type": "markdown",
      "source": [
        "### `break`, `continue`, and `pass`\n",
        "\n",
        "- **break**:  jump out of the closest enclosing loop\n",
        "- **continue**: go back to the top of the closest enclosing loop\n",
        "- **pass**: do nothing\n",
        "\n",
        "```python\n",
        "while TEST1:\n",
        "  STATEMENTS\n",
        "  if TEST2: break # exit while loop\n",
        "  if TEST3: continue # go back to TEST1\n",
        "else:\n",
        "  # these statements run if we didn't \"break\"\n",
        "  STATEMENTS\n",
        "```"
      ],
      "metadata": {
        "id": "FL-i4Cs0WCtp"
      }
    },
    {
      "cell_type": "code",
      "source": [
        "x = 10\n",
        "while x: # NOTE: any number != 0 will be interpreted as True ...\n",
        "  x = x-1\n",
        "  # this should return to the top if x is odd\n",
        "  if x%2 != 0: continue\n",
        "  # we should print if x is even and greater than equal to zero\n",
        "  print(x)"
      ],
      "metadata": {
        "id": "FqXjnkHlWEXY"
      },
      "execution_count": null,
      "outputs": []
    },
    {
      "cell_type": "code",
      "source": [
        "# this test will never evaluate False\n",
        "while True:\n",
        "  name = input('Enter name: ')\n",
        "  # the only way to exit this loop is trigger the \"break\"\n",
        "  if name == 'stop': break\n",
        "  print(\"Hello\", name)"
      ],
      "metadata": {
        "id": "quXnIVwg9-MF"
      },
      "execution_count": null,
      "outputs": []
    },
    {
      "cell_type": "markdown",
      "source": [
        "### The `for` loop\n",
        "\n",
        "The purpose of a `for` loop is to repeatly perform some computation, with or without variation, for a fixed number of iteration determined by the size of a sequence object (`list`, `tuple`, `str`). A simple `for` loop looks like:\n",
        "\n",
        "```python\n",
        "for TARGET in OBJECT:\n",
        "  STATEMENTS\n",
        "```\n",
        "\n",
        "Here, `OBJECT` is an iterable object, like a `list`. In the case of a `list`, the elements of the list are, starting at index 0 and going to the end of the list,  iteratively assigned to the variable name `TARGET`. The `STATEMENTS` typically involve some computation using the variable name reference `TARGET`. A more-complicated `for` loop could look like:\n",
        "\n",
        "```python\n",
        "for TARGET in OBJECT:\n",
        "  STATEMENTS\n",
        "  if TEST1: break # exit loop\n",
        "  if TEST2: continue # back to the top of the for loop with next TARGET\n",
        "else: # optional, runs at the end\n",
        "  STATEMENTS\n",
        "```"
      ],
      "metadata": {
        "id": "B7HiBh8TWE_R"
      }
    },
    {
      "cell_type": "code",
      "source": [
        "symbols = ['H', 'He', 'Li', 'Be']\n",
        "for x in symbols:\n",
        "  print(x)"
      ],
      "metadata": {
        "id": "GpuveRwxWM0H"
      },
      "execution_count": null,
      "outputs": []
    },
    {
      "cell_type": "code",
      "source": [
        "for i in range(5):\n",
        "  print(i)"
      ],
      "metadata": {
        "id": "Zve_lOcC_7ol"
      },
      "execution_count": null,
      "outputs": []
    },
    {
      "cell_type": "code",
      "source": [
        "for i in range(4):\n",
        "  print(symbols[i])"
      ],
      "metadata": {
        "id": "xbLBFmJQ_7sb"
      },
      "execution_count": null,
      "outputs": []
    },
    {
      "cell_type": "markdown",
      "source": [
        "### List comprehension\n",
        "\n",
        "List comprehension is a fast technique for constructing a list from an iterable object, such as another list. The syntax is similar to the `for` loop and can involve conditional execution."
      ],
      "metadata": {
        "id": "wCDj2kc4WV7R"
      }
    },
    {
      "cell_type": "code",
      "source": [
        "# construct a list from a range object, doubling each element before adding it to the new list\n",
        "mylist = [2*i for i in range(10)]\n",
        "print(mylist)"
      ],
      "metadata": {
        "id": "ejXB5QluWXXH"
      },
      "execution_count": null,
      "outputs": []
    },
    {
      "cell_type": "code",
      "source": [
        "# this time, only double the even numbers and discard the odd numbers\n",
        "mylist = [2*i for i in range(10) if i%2==0]\n",
        "print(mylist)"
      ],
      "metadata": {
        "id": "2s1sr9lxAhaE"
      },
      "execution_count": null,
      "outputs": []
    },
    {
      "cell_type": "markdown",
      "source": [
        "### More iterable objects"
      ],
      "metadata": {
        "id": "1ZZ6CYh8ZcYc"
      }
    },
    {
      "cell_type": "code",
      "source": [
        "# the enumerate() function wraps an iterable object and passes back both indices and elements\n",
        "for idx, elem in enumerate(symbols): # passed back as a tuple, assigned to idx and elem by tuple assignment\n",
        "  print(\"List index:\", idx, \"Element symbol\", elem)"
      ],
      "metadata": {
        "id": "jwsohVeJAgvs"
      },
      "execution_count": null,
      "outputs": []
    },
    {
      "cell_type": "code",
      "source": [
        "names = ['Hydrogen', 'Helium', 'Lithium', 'Beryllium']\n",
        "# the zip() function performs an element-wise combination of two or more iterable objects\n",
        "for symbol, name in zip(symbols, names):\n",
        "  print(\"Element name\", name, \"with symbol\", symbol)"
      ],
      "metadata": {
        "id": "rLT678PNAgy0"
      },
      "execution_count": null,
      "outputs": []
    },
    {
      "cell_type": "code",
      "source": [
        "# The .items() dot-function of the dictionary object passes back a sequence of (key, value) paired tuples that can be iterated.\n",
        "D = {'k1': 'v1', 'k2': 'v2', 'k3': 'v3'}\n",
        "for key, value in D.items():\n",
        "  print(key, value)"
      ],
      "metadata": {
        "id": "jOSoOrtkAg3b"
      },
      "execution_count": null,
      "outputs": []
    },
    {
      "cell_type": "markdown",
      "source": [
        "## Exercises"
      ],
      "metadata": {
        "id": "hw6X3YCSJaSB"
      }
    },
    {
      "cell_type": "markdown",
      "source": [
        "### 1. Prime numbers\n",
        "\n",
        "Write a function that determines all prime numbers less than 100. A prime number is an integer that is evenly divisible only by 1 and itself. Return the set of primes less than 100 as a `list`."
      ],
      "metadata": {
        "id": "-9XG1OJiJcKp"
      }
    },
    {
      "cell_type": "code",
      "source": [
        "primeList = []\n",
        "def findPrime(lower, upper):\n",
        "  for number in range(lower, upper+1):\n",
        "    if number > 1:\n",
        "      for divisor in range (2,number):\n",
        "        if(number%divisor) == 0:\n",
        "          break\n",
        "      else:\n",
        "        primeList.append(number)\n",
        "  print(primeList)\n",
        "findPrime(1,100)\n"
      ],
      "metadata": {
        "id": "gj7NN9xhJbmv",
        "colab": {
          "base_uri": "https://localhost:8080/"
        },
        "outputId": "b831ace1-6b9b-4b2f-ec50-9e7935478456"
      },
      "execution_count": null,
      "outputs": [
        {
          "output_type": "stream",
          "name": "stdout",
          "text": [
            "[2, 3, 5, 7, 11, 13, 17, 19, 23, 29, 31, 37, 41, 43, 47, 53, 59, 61, 67, 71, 73, 79, 83, 89, 97]\n"
          ]
        }
      ]
    },
    {
      "cell_type": "markdown",
      "source": [
        "### 2. Fibonacci numbers\n",
        "\n",
        "The Fibonacci sequence is defined by the recurrance relation:\n",
        "\n",
        "$$\n",
        "F_0 = 0, F_1 = 1\\\\\n",
        "F_n = F_{n-1} + F_{n-2} (n>1)\n",
        "$$\n",
        "\n",
        "Write a function to compute the first 20 Fibonacci numbers. Return the 20 numbers as a `list`."
      ],
      "metadata": {
        "id": "JjOiK2UQKC4j"
      }
    },
    {
      "cell_type": "code",
      "source": [
        "\n",
        "def Fibonacci(n):\n",
        "  fibonnacciList = [0,1]\n",
        "  n0 = 0\n",
        "  n1 = 1\n",
        "  if(n == 0):\n",
        "    fibonnacciList = [0]\n",
        "  else:\n",
        "    for i in range(1,n):\n",
        "      n2 = n1 + n0\n",
        "      n0 = n1\n",
        "      n1 = n2\n",
        "      fibonnacciList.append(n2)\n",
        "  print(fibonnacciList)\n",
        "Fibonacci(20)"
      ],
      "metadata": {
        "id": "cqsTFIlEKDKB",
        "colab": {
          "base_uri": "https://localhost:8080/"
        },
        "outputId": "f7a9cd86-9f7d-4bd6-8561-ca9a666d47d6"
      },
      "execution_count": null,
      "outputs": [
        {
          "output_type": "stream",
          "name": "stdout",
          "text": [
            "[0, 1, 1, 2, 3, 5, 8, 13, 21, 34, 55, 89, 144, 233, 377, 610, 987, 1597, 2584, 4181, 6765]\n"
          ]
        }
      ]
    }
  ]
}