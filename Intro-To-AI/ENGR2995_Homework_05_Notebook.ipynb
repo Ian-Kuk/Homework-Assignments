{
  "nbformat": 4,
  "nbformat_minor": 0,
  "metadata": {
    "colab": {
      "provenance": []
    },
    "kernelspec": {
      "name": "python3",
      "display_name": "Python 3"
    },
    "language_info": {
      "name": "python"
    }
  },
  "cells": [
    {
      "cell_type": "code",
      "execution_count": null,
      "metadata": {
        "id": "N0QTjfXKT5Ht"
      },
      "outputs": [],
      "source": [
        "import numpy as np\n",
        "import pandas as pd\n",
        "import matplotlib.pyplot as plt\n",
        "import seaborn as sns"
      ]
    },
    {
      "cell_type": "code",
      "source": [
        "from sklearn.linear_model import Ridge, LogisticRegression\n",
        "from sklearn.metrics import confusion_matrix, ConfusionMatrixDisplay, precision_score, recall_score\n",
        "from sklearn.model_selection import train_test_split, GridSearchCV\n",
        "from sklearn.pipeline import Pipeline\n",
        "from sklearn.preprocessing import PolynomialFeatures, StandardScaler"
      ],
      "metadata": {
        "id": "8wmWh6WLNJUx"
      },
      "execution_count": null,
      "outputs": []
    },
    {
      "cell_type": "markdown",
      "source": [
        "# ENGR2995 Practice Exam 1"
      ],
      "metadata": {
        "id": "9GIcEwQDViuX"
      }
    },
    {
      "cell_type": "markdown",
      "source": [
        "### Guidelines for data plotting\n",
        "\n",
        "When asked to produce a plot, you must:\n",
        "\n",
        "1. Follow directions on whether to use a line plot or scatter plot\n",
        "2. Provide descriptive labels for all axes and give units when indicated\n",
        "3. Provide a descriptive title for the plot\n",
        "4. Provide a descriptive legend for the plot when plotting more than one dataset\n",
        "5. Use color or marker to differentiate between datasets when plotting more than one dataset\n",
        "\n",
        "### Guidelines for report numerical and text-based answers\n",
        "\n",
        "1. When asked to report a numerical value (e.g. a validation score), you must include a print statement that describes the value being reported either together or directly before the printing of the value itself.\n",
        "\n",
        "2. When asked to answer a question with text, create a new text cell and answer the question in complete sentances."
      ],
      "metadata": {
        "id": "OFyj4UjbT-Pg"
      }
    },
    {
      "cell_type": "markdown",
      "source": [
        "## 1. Ridge Regression - Combined Cycle Power Plant\n",
        "\n",
        "The dataset contains 9568 data points collected from a Combined Cycle Power Plant over 6 years (2006-2011), when the power plant was set to work with full load. Features consist of hourly average ambient variables Temperature (T), Ambient Pressure (AP), Relative Humidity (RH) and Exhaust Vacuum (V) to predict the net hourly electrical energy output (PE) of the plant.\n",
        "\n",
        "Features consist of hourly average ambient variables\n",
        "- Temperature (AT) in the range 1.81°C and 37.11°C,\n",
        "- Ambient Pressure (AP) in the range 992.89-1033.30 millibar,\n",
        "- Relative Humidity (RH) in the range 25.56% to 100.16%\n",
        "- Exhaust Vacuum (V) in the range 25.36-81.56 cm Hg\n",
        "- Net hourly electrical energy output (PE) 420.26-495.76 MW\n",
        "\n",
        "The averages are taken from various sensors located around the plant that record the ambient variables every second. The variables are given without normalization."
      ],
      "metadata": {
        "id": "rf-b_edGUGDA"
      }
    },
    {
      "cell_type": "markdown",
      "source": [
        "### Step 0: Load the dataset"
      ],
      "metadata": {
        "id": "ZDp0grl-VrDn"
      }
    },
    {
      "cell_type": "code",
      "source": [
        "!wget https://archive.ics.uci.edu/ml/machine-learning-databases/00294/CCPP.zip\n",
        "!unzip CCPP.zip"
      ],
      "metadata": {
        "id": "UEASK2ypT9pp",
        "colab": {
          "base_uri": "https://localhost:8080/"
        },
        "outputId": "e191f5a0-80ac-411d-adb0-980eb96ca35a"
      },
      "execution_count": null,
      "outputs": [
        {
          "output_type": "stream",
          "name": "stdout",
          "text": [
            "--2023-03-08 22:11:48--  https://archive.ics.uci.edu/ml/machine-learning-databases/00294/CCPP.zip\n",
            "Resolving archive.ics.uci.edu (archive.ics.uci.edu)... 128.195.10.252\n",
            "Connecting to archive.ics.uci.edu (archive.ics.uci.edu)|128.195.10.252|:443... connected.\n",
            "HTTP request sent, awaiting response... 200 OK\n",
            "Length: 3674852 (3.5M) [application/x-httpd-php]\n",
            "Saving to: ‘CCPP.zip’\n",
            "\n",
            "\rCCPP.zip              0%[                    ]       0  --.-KB/s               \rCCPP.zip            100%[===================>]   3.50M  --.-KB/s    in 0.08s   \n",
            "\n",
            "2023-03-08 22:11:48 (42.4 MB/s) - ‘CCPP.zip’ saved [3674852/3674852]\n",
            "\n",
            "Archive:  CCPP.zip\n",
            "   creating: CCPP/\n",
            "  inflating: CCPP/Folds5x2_pp.ods    \n",
            "  inflating: CCPP/Folds5x2_pp.xlsx   \n",
            "  inflating: CCPP/Readme.txt         \n",
            "  inflating: CCPP/Readme.txt~        \n"
          ]
        }
      ]
    },
    {
      "cell_type": "code",
      "source": [
        "df = pd.read_excel('CCPP/Folds5x2_pp.xlsx')\n",
        "df"
      ],
      "metadata": {
        "id": "pBls-BYxclcn",
        "colab": {
          "base_uri": "https://localhost:8080/",
          "height": 423
        },
        "outputId": "7aece7a3-402f-46aa-da3c-589e9676808d"
      },
      "execution_count": null,
      "outputs": [
        {
          "output_type": "execute_result",
          "data": {
            "text/plain": [
              "         AT      V       AP     RH      PE\n",
              "0     14.96  41.76  1024.07  73.17  463.26\n",
              "1     25.18  62.96  1020.04  59.08  444.37\n",
              "2      5.11  39.40  1012.16  92.14  488.56\n",
              "3     20.86  57.32  1010.24  76.64  446.48\n",
              "4     10.82  37.50  1009.23  96.62  473.90\n",
              "...     ...    ...      ...    ...     ...\n",
              "9563  16.65  49.69  1014.01  91.00  460.03\n",
              "9564  13.19  39.18  1023.67  66.78  469.62\n",
              "9565  31.32  74.33  1012.92  36.48  429.57\n",
              "9566  24.48  69.45  1013.86  62.39  435.74\n",
              "9567  21.60  62.52  1017.23  67.87  453.28\n",
              "\n",
              "[9568 rows x 5 columns]"
            ],
            "text/html": [
              "\n",
              "  <div id=\"df-0df91cfe-a604-4c4b-80ec-3c767812222f\">\n",
              "    <div class=\"colab-df-container\">\n",
              "      <div>\n",
              "<style scoped>\n",
              "    .dataframe tbody tr th:only-of-type {\n",
              "        vertical-align: middle;\n",
              "    }\n",
              "\n",
              "    .dataframe tbody tr th {\n",
              "        vertical-align: top;\n",
              "    }\n",
              "\n",
              "    .dataframe thead th {\n",
              "        text-align: right;\n",
              "    }\n",
              "</style>\n",
              "<table border=\"1\" class=\"dataframe\">\n",
              "  <thead>\n",
              "    <tr style=\"text-align: right;\">\n",
              "      <th></th>\n",
              "      <th>AT</th>\n",
              "      <th>V</th>\n",
              "      <th>AP</th>\n",
              "      <th>RH</th>\n",
              "      <th>PE</th>\n",
              "    </tr>\n",
              "  </thead>\n",
              "  <tbody>\n",
              "    <tr>\n",
              "      <th>0</th>\n",
              "      <td>14.96</td>\n",
              "      <td>41.76</td>\n",
              "      <td>1024.07</td>\n",
              "      <td>73.17</td>\n",
              "      <td>463.26</td>\n",
              "    </tr>\n",
              "    <tr>\n",
              "      <th>1</th>\n",
              "      <td>25.18</td>\n",
              "      <td>62.96</td>\n",
              "      <td>1020.04</td>\n",
              "      <td>59.08</td>\n",
              "      <td>444.37</td>\n",
              "    </tr>\n",
              "    <tr>\n",
              "      <th>2</th>\n",
              "      <td>5.11</td>\n",
              "      <td>39.40</td>\n",
              "      <td>1012.16</td>\n",
              "      <td>92.14</td>\n",
              "      <td>488.56</td>\n",
              "    </tr>\n",
              "    <tr>\n",
              "      <th>3</th>\n",
              "      <td>20.86</td>\n",
              "      <td>57.32</td>\n",
              "      <td>1010.24</td>\n",
              "      <td>76.64</td>\n",
              "      <td>446.48</td>\n",
              "    </tr>\n",
              "    <tr>\n",
              "      <th>4</th>\n",
              "      <td>10.82</td>\n",
              "      <td>37.50</td>\n",
              "      <td>1009.23</td>\n",
              "      <td>96.62</td>\n",
              "      <td>473.90</td>\n",
              "    </tr>\n",
              "    <tr>\n",
              "      <th>...</th>\n",
              "      <td>...</td>\n",
              "      <td>...</td>\n",
              "      <td>...</td>\n",
              "      <td>...</td>\n",
              "      <td>...</td>\n",
              "    </tr>\n",
              "    <tr>\n",
              "      <th>9563</th>\n",
              "      <td>16.65</td>\n",
              "      <td>49.69</td>\n",
              "      <td>1014.01</td>\n",
              "      <td>91.00</td>\n",
              "      <td>460.03</td>\n",
              "    </tr>\n",
              "    <tr>\n",
              "      <th>9564</th>\n",
              "      <td>13.19</td>\n",
              "      <td>39.18</td>\n",
              "      <td>1023.67</td>\n",
              "      <td>66.78</td>\n",
              "      <td>469.62</td>\n",
              "    </tr>\n",
              "    <tr>\n",
              "      <th>9565</th>\n",
              "      <td>31.32</td>\n",
              "      <td>74.33</td>\n",
              "      <td>1012.92</td>\n",
              "      <td>36.48</td>\n",
              "      <td>429.57</td>\n",
              "    </tr>\n",
              "    <tr>\n",
              "      <th>9566</th>\n",
              "      <td>24.48</td>\n",
              "      <td>69.45</td>\n",
              "      <td>1013.86</td>\n",
              "      <td>62.39</td>\n",
              "      <td>435.74</td>\n",
              "    </tr>\n",
              "    <tr>\n",
              "      <th>9567</th>\n",
              "      <td>21.60</td>\n",
              "      <td>62.52</td>\n",
              "      <td>1017.23</td>\n",
              "      <td>67.87</td>\n",
              "      <td>453.28</td>\n",
              "    </tr>\n",
              "  </tbody>\n",
              "</table>\n",
              "<p>9568 rows × 5 columns</p>\n",
              "</div>\n",
              "      <button class=\"colab-df-convert\" onclick=\"convertToInteractive('df-0df91cfe-a604-4c4b-80ec-3c767812222f')\"\n",
              "              title=\"Convert this dataframe to an interactive table.\"\n",
              "              style=\"display:none;\">\n",
              "        \n",
              "  <svg xmlns=\"http://www.w3.org/2000/svg\" height=\"24px\"viewBox=\"0 0 24 24\"\n",
              "       width=\"24px\">\n",
              "    <path d=\"M0 0h24v24H0V0z\" fill=\"none\"/>\n",
              "    <path d=\"M18.56 5.44l.94 2.06.94-2.06 2.06-.94-2.06-.94-.94-2.06-.94 2.06-2.06.94zm-11 1L8.5 8.5l.94-2.06 2.06-.94-2.06-.94L8.5 2.5l-.94 2.06-2.06.94zm10 10l.94 2.06.94-2.06 2.06-.94-2.06-.94-.94-2.06-.94 2.06-2.06.94z\"/><path d=\"M17.41 7.96l-1.37-1.37c-.4-.4-.92-.59-1.43-.59-.52 0-1.04.2-1.43.59L10.3 9.45l-7.72 7.72c-.78.78-.78 2.05 0 2.83L4 21.41c.39.39.9.59 1.41.59.51 0 1.02-.2 1.41-.59l7.78-7.78 2.81-2.81c.8-.78.8-2.07 0-2.86zM5.41 20L4 18.59l7.72-7.72 1.47 1.35L5.41 20z\"/>\n",
              "  </svg>\n",
              "      </button>\n",
              "      \n",
              "  <style>\n",
              "    .colab-df-container {\n",
              "      display:flex;\n",
              "      flex-wrap:wrap;\n",
              "      gap: 12px;\n",
              "    }\n",
              "\n",
              "    .colab-df-convert {\n",
              "      background-color: #E8F0FE;\n",
              "      border: none;\n",
              "      border-radius: 50%;\n",
              "      cursor: pointer;\n",
              "      display: none;\n",
              "      fill: #1967D2;\n",
              "      height: 32px;\n",
              "      padding: 0 0 0 0;\n",
              "      width: 32px;\n",
              "    }\n",
              "\n",
              "    .colab-df-convert:hover {\n",
              "      background-color: #E2EBFA;\n",
              "      box-shadow: 0px 1px 2px rgba(60, 64, 67, 0.3), 0px 1px 3px 1px rgba(60, 64, 67, 0.15);\n",
              "      fill: #174EA6;\n",
              "    }\n",
              "\n",
              "    [theme=dark] .colab-df-convert {\n",
              "      background-color: #3B4455;\n",
              "      fill: #D2E3FC;\n",
              "    }\n",
              "\n",
              "    [theme=dark] .colab-df-convert:hover {\n",
              "      background-color: #434B5C;\n",
              "      box-shadow: 0px 1px 3px 1px rgba(0, 0, 0, 0.15);\n",
              "      filter: drop-shadow(0px 1px 2px rgba(0, 0, 0, 0.3));\n",
              "      fill: #FFFFFF;\n",
              "    }\n",
              "  </style>\n",
              "\n",
              "      <script>\n",
              "        const buttonEl =\n",
              "          document.querySelector('#df-0df91cfe-a604-4c4b-80ec-3c767812222f button.colab-df-convert');\n",
              "        buttonEl.style.display =\n",
              "          google.colab.kernel.accessAllowed ? 'block' : 'none';\n",
              "\n",
              "        async function convertToInteractive(key) {\n",
              "          const element = document.querySelector('#df-0df91cfe-a604-4c4b-80ec-3c767812222f');\n",
              "          const dataTable =\n",
              "            await google.colab.kernel.invokeFunction('convertToInteractive',\n",
              "                                                     [key], {});\n",
              "          if (!dataTable) return;\n",
              "\n",
              "          const docLinkHtml = 'Like what you see? Visit the ' +\n",
              "            '<a target=\"_blank\" href=https://colab.research.google.com/notebooks/data_table.ipynb>data table notebook</a>'\n",
              "            + ' to learn more about interactive tables.';\n",
              "          element.innerHTML = '';\n",
              "          dataTable['output_type'] = 'display_data';\n",
              "          await google.colab.output.renderOutput(dataTable, element);\n",
              "          const docLink = document.createElement('div');\n",
              "          docLink.innerHTML = docLinkHtml;\n",
              "          element.appendChild(docLink);\n",
              "        }\n",
              "      </script>\n",
              "    </div>\n",
              "  </div>\n",
              "  "
            ]
          },
          "metadata": {},
          "execution_count": 4
        }
      ]
    },
    {
      "cell_type": "markdown",
      "source": [
        "### Step 1: Visualize the dataset\n",
        "\n",
        "**Construct a correlation heatmap plot**. Before plotting, do a basic check for missing values.\n",
        "\n",
        "**Answer the following questions**:\n",
        "\n",
        "1. What feature variable(s) have the highest correlation with the task variable (`PE`)?\n",
        "2. What feature variable(s) have the lowest correlation with the task variable?\n",
        "3. Are there any feature variables that are correlated to one-another i.e. r>0.5 or r<-0.5 (i.e. negative correlation)?"
      ],
      "metadata": {
        "id": "SCMlth9jVtEm"
      }
    },
    {
      "cell_type": "code",
      "source": [
        "# there was nothing in the problem statement about \"placeholder\" values like -200 or ?\n",
        "# so, we can assume any missing values are NaN and drop them\n",
        "df = df.dropna()\n",
        "\n",
        "# printing the datatypes shows you whether any column contains non-numeric data\n",
        "# since the datatypes are all numeric (float/int) they are good for modeling\n",
        "print(df.dtypes)"
      ],
      "metadata": {
        "colab": {
          "base_uri": "https://localhost:8080/"
        },
        "id": "87oExa_ENNAB",
        "outputId": "e870dbce-0653-4cbc-83b8-212df29cd911"
      },
      "execution_count": null,
      "outputs": [
        {
          "output_type": "stream",
          "name": "stdout",
          "text": [
            "AT    float64\n",
            "V     float64\n",
            "AP    float64\n",
            "RH    float64\n",
            "PE    float64\n",
            "dtype: object\n"
          ]
        }
      ]
    },
    {
      "cell_type": "code",
      "source": [
        "sns.heatmap(df.corr())"
      ],
      "metadata": {
        "id": "9aoPoCfVVt2G",
        "colab": {
          "base_uri": "https://localhost:8080/",
          "height": 286
        },
        "outputId": "90825d7b-92ee-4201-f577-050f42d5259f"
      },
      "execution_count": null,
      "outputs": [
        {
          "output_type": "execute_result",
          "data": {
            "text/plain": [
              "<AxesSubplot:>"
            ]
          },
          "metadata": {},
          "execution_count": 6
        },
        {
          "output_type": "display_data",
          "data": {
            "text/plain": [
              "<Figure size 432x288 with 2 Axes>"
            ],
            "image/png": "[encoded data removed]"
          },
          "metadata": {
            "needs_background": "light"
          }
        }
      ]
    },
    {
      "cell_type": "code",
      "source": [
        "df.corr()"
      ],
      "metadata": {
        "colab": {
          "base_uri": "https://localhost:8080/",
          "height": 206
        },
        "id": "oUUTPQWwNspa",
        "outputId": "62cc7c56-4d05-4f88-d6e3-31acdaba7740"
      },
      "execution_count": null,
      "outputs": [
        {
          "output_type": "execute_result",
          "data": {
            "text/plain": [
              "          AT         V        AP        RH        PE\n",
              "AT  1.000000  0.844107 -0.507549 -0.542535 -0.948128\n",
              "V   0.844107  1.000000 -0.413502 -0.312187 -0.869780\n",
              "AP -0.507549 -0.413502  1.000000  0.099574  0.518429\n",
              "RH -0.542535 -0.312187  0.099574  1.000000  0.389794\n",
              "PE -0.948128 -0.869780  0.518429  0.389794  1.000000"
            ],
            "text/html": [
              "\n",
              "  <div id=\"df-dc695a6b-e751-4228-a3ea-e045e0c0f263\">\n",
              "    <div class=\"colab-df-container\">\n",
              "      <div>\n",
              "<style scoped>\n",
              "    .dataframe tbody tr th:only-of-type {\n",
              "        vertical-align: middle;\n",
              "    }\n",
              "\n",
              "    .dataframe tbody tr th {\n",
              "        vertical-align: top;\n",
              "    }\n",
              "\n",
              "    .dataframe thead th {\n",
              "        text-align: right;\n",
              "    }\n",
              "</style>\n",
              "<table border=\"1\" class=\"dataframe\">\n",
              "  <thead>\n",
              "    <tr style=\"text-align: right;\">\n",
              "      <th></th>\n",
              "      <th>AT</th>\n",
              "      <th>V</th>\n",
              "      <th>AP</th>\n",
              "      <th>RH</th>\n",
              "      <th>PE</th>\n",
              "    </tr>\n",
              "  </thead>\n",
              "  <tbody>\n",
              "    <tr>\n",
              "      <th>AT</th>\n",
              "      <td>1.000000</td>\n",
              "      <td>0.844107</td>\n",
              "      <td>-0.507549</td>\n",
              "      <td>-0.542535</td>\n",
              "      <td>-0.948128</td>\n",
              "    </tr>\n",
              "    <tr>\n",
              "      <th>V</th>\n",
              "      <td>0.844107</td>\n",
              "      <td>1.000000</td>\n",
              "      <td>-0.413502</td>\n",
              "      <td>-0.312187</td>\n",
              "      <td>-0.869780</td>\n",
              "    </tr>\n",
              "    <tr>\n",
              "      <th>AP</th>\n",
              "      <td>-0.507549</td>\n",
              "      <td>-0.413502</td>\n",
              "      <td>1.000000</td>\n",
              "      <td>0.099574</td>\n",
              "      <td>0.518429</td>\n",
              "    </tr>\n",
              "    <tr>\n",
              "      <th>RH</th>\n",
              "      <td>-0.542535</td>\n",
              "      <td>-0.312187</td>\n",
              "      <td>0.099574</td>\n",
              "      <td>1.000000</td>\n",
              "      <td>0.389794</td>\n",
              "    </tr>\n",
              "    <tr>\n",
              "      <th>PE</th>\n",
              "      <td>-0.948128</td>\n",
              "      <td>-0.869780</td>\n",
              "      <td>0.518429</td>\n",
              "      <td>0.389794</td>\n",
              "      <td>1.000000</td>\n",
              "    </tr>\n",
              "  </tbody>\n",
              "</table>\n",
              "</div>\n",
              "      <button class=\"colab-df-convert\" onclick=\"convertToInteractive('df-dc695a6b-e751-4228-a3ea-e045e0c0f263')\"\n",
              "              title=\"Convert this dataframe to an interactive table.\"\n",
              "              style=\"display:none;\">\n",
              "        \n",
              "  <svg xmlns=\"http://www.w3.org/2000/svg\" height=\"24px\"viewBox=\"0 0 24 24\"\n",
              "       width=\"24px\">\n",
              "    <path d=\"M0 0h24v24H0V0z\" fill=\"none\"/>\n",
              "    <path d=\"M18.56 5.44l.94 2.06.94-2.06 2.06-.94-2.06-.94-.94-2.06-.94 2.06-2.06.94zm-11 1L8.5 8.5l.94-2.06 2.06-.94-2.06-.94L8.5 2.5l-.94 2.06-2.06.94zm10 10l.94 2.06.94-2.06 2.06-.94-2.06-.94-.94-2.06-.94 2.06-2.06.94z\"/><path d=\"M17.41 7.96l-1.37-1.37c-.4-.4-.92-.59-1.43-.59-.52 0-1.04.2-1.43.59L10.3 9.45l-7.72 7.72c-.78.78-.78 2.05 0 2.83L4 21.41c.39.39.9.59 1.41.59.51 0 1.02-.2 1.41-.59l7.78-7.78 2.81-2.81c.8-.78.8-2.07 0-2.86zM5.41 20L4 18.59l7.72-7.72 1.47 1.35L5.41 20z\"/>\n",
              "  </svg>\n",
              "      </button>\n",
              "      \n",
              "  <style>\n",
              "    .colab-df-container {\n",
              "      display:flex;\n",
              "      flex-wrap:wrap;\n",
              "      gap: 12px;\n",
              "    }\n",
              "\n",
              "    .colab-df-convert {\n",
              "      background-color: #E8F0FE;\n",
              "      border: none;\n",
              "      border-radius: 50%;\n",
              "      cursor: pointer;\n",
              "      display: none;\n",
              "      fill: #1967D2;\n",
              "      height: 32px;\n",
              "      padding: 0 0 0 0;\n",
              "      width: 32px;\n",
              "    }\n",
              "\n",
              "    .colab-df-convert:hover {\n",
              "      background-color: #E2EBFA;\n",
              "      box-shadow: 0px 1px 2px rgba(60, 64, 67, 0.3), 0px 1px 3px 1px rgba(60, 64, 67, 0.15);\n",
              "      fill: #174EA6;\n",
              "    }\n",
              "\n",
              "    [theme=dark] .colab-df-convert {\n",
              "      background-color: #3B4455;\n",
              "      fill: #D2E3FC;\n",
              "    }\n",
              "\n",
              "    [theme=dark] .colab-df-convert:hover {\n",
              "      background-color: #434B5C;\n",
              "      box-shadow: 0px 1px 3px 1px rgba(0, 0, 0, 0.15);\n",
              "      filter: drop-shadow(0px 1px 2px rgba(0, 0, 0, 0.3));\n",
              "      fill: #FFFFFF;\n",
              "    }\n",
              "  </style>\n",
              "\n",
              "      <script>\n",
              "        const buttonEl =\n",
              "          document.querySelector('#df-dc695a6b-e751-4228-a3ea-e045e0c0f263 button.colab-df-convert');\n",
              "        buttonEl.style.display =\n",
              "          google.colab.kernel.accessAllowed ? 'block' : 'none';\n",
              "\n",
              "        async function convertToInteractive(key) {\n",
              "          const element = document.querySelector('#df-dc695a6b-e751-4228-a3ea-e045e0c0f263');\n",
              "          const dataTable =\n",
              "            await google.colab.kernel.invokeFunction('convertToInteractive',\n",
              "                                                     [key], {});\n",
              "          if (!dataTable) return;\n",
              "\n",
              "          const docLinkHtml = 'Like what you see? Visit the ' +\n",
              "            '<a target=\"_blank\" href=https://colab.research.google.com/notebooks/data_table.ipynb>data table notebook</a>'\n",
              "            + ' to learn more about interactive tables.';\n",
              "          element.innerHTML = '';\n",
              "          dataTable['output_type'] = 'display_data';\n",
              "          await google.colab.output.renderOutput(dataTable, element);\n",
              "          const docLink = document.createElement('div');\n",
              "          docLink.innerHTML = docLinkHtml;\n",
              "          element.appendChild(docLink);\n",
              "        }\n",
              "      </script>\n",
              "    </div>\n",
              "  </div>\n",
              "  "
            ]
          },
          "metadata": {},
          "execution_count": 7
        }
      ]
    },
    {
      "cell_type": "markdown",
      "source": [
        "**Answer to text questions**\n",
        "1. The variables with the highest correlation with `PE` are `AT` (ambient temperature) (r=-0.95) and `V` (exhaust vacuum pressure) (r=-0.87). Note that these variables are anti-correlated i.e. there is a high correlation between `PE` and the negative of `AT` (r=0.95).\n",
        "2. The variable with the lowest correlation is `RH` (relative humidity) (r=0.39).\n",
        "3. The variables `V` (r=0.84), `AP` (r=-0.51), and `RH` (r=-0.54) all show correlation with the variable `AT`."
      ],
      "metadata": {
        "id": "heD9kwlGNybi"
      }
    },
    {
      "cell_type": "markdown",
      "source": [
        "### Step 2: Prepare the data for modeling\n",
        "\n",
        "**Split the dataset into features (`X`) and task/labels (`y`). Split the features/labels into training and testing sets.** Include the `AT`, `V`, `AP`, and `RH` data as features."
      ],
      "metadata": {
        "id": "REmpMNpbVt_e"
      }
    },
    {
      "cell_type": "code",
      "source": [
        "y = df['PE'].values\n",
        "X = df.drop('PE', axis=1).values\n",
        "print(X.shape, y.shape)"
      ],
      "metadata": {
        "id": "-wI6vqakVuH_",
        "colab": {
          "base_uri": "https://localhost:8080/"
        },
        "outputId": "fe997a4d-c927-4c5f-838c-6517ecd60f11"
      },
      "execution_count": null,
      "outputs": [
        {
          "output_type": "stream",
          "name": "stdout",
          "text": [
            "(9568, 4) (9568,)\n"
          ]
        }
      ]
    },
    {
      "cell_type": "code",
      "source": [
        "X_train, X_test, y_train, y_test = train_test_split(X, y, random_state=1234)"
      ],
      "metadata": {
        "id": "BawAjBfIPIpZ"
      },
      "execution_count": null,
      "outputs": []
    },
    {
      "cell_type": "markdown",
      "source": [
        "### Step 3: Hyperparameter optimization\n",
        "\n",
        "1. **Construct a modeling `sklearn.pipeline.Pipeline` for fitting the data.** The pipeline should include:\n",
        "  - `sklearn.preprocessing.PolynomialFeatures` polynomial feature expansion. Set the value of `degree` to 2.\n",
        "  - `sklearn.preprocessing.StandardScaler` standardization transformation.\n",
        "  - `sklearn.linear_model.Ridge` ridge regression model.\n",
        "2. **Perform a grid search `GridSearchCV`** over\n",
        "  - `alpha`: the regularization penalty strength parameter\n",
        "3. **Print out the best cross-validation score and corresponding parameters.**\n",
        "\n",
        "You may select the range of possible hyperparameter values, but you must compare at least 25 total models."
      ],
      "metadata": {
        "id": "KnlrTEOmVuRH"
      }
    },
    {
      "cell_type": "code",
      "source": [
        "model = Pipeline(steps=[('poly', PolynomialFeatures(2)), ('scale', StandardScaler()), ('ridge', Ridge())])\n",
        "alpha = np.logspace(-4, 2)\n",
        "params = {'ridge__alpha': alpha}\n",
        "regr = GridSearchCV(model, params, return_train_score=True)\n",
        "regr.fit(X_train, y_train)\n",
        "print(f\"Best Score: {regr.best_score_} Parameters: {regr.best_params_}\")"
      ],
      "metadata": {
        "id": "cB2zbsyJVuaI",
        "colab": {
          "base_uri": "https://localhost:8080/"
        },
        "outputId": "7eb3cdbb-f4da-4c68-abd5-dbf5fcf8072f"
      },
      "execution_count": null,
      "outputs": [
        {
          "output_type": "stream",
          "name": "stdout",
          "text": [
            "Best Score: 0.9365297201128776 Parameters: {'ridge__alpha': 0.006866488450042998}\n"
          ]
        }
      ]
    },
    {
      "cell_type": "markdown",
      "source": [
        "### Step 4: Complexity curve\n",
        "\n",
        "**Construct a complexity curve showing the mean (1) training and (2) cross-validation score as a function of the `alpha` hyperparameter**. Plot (1) a scatter plot of `alpha` (x-axis) and the mean score, (2) a line plot of `alpha` and the mean score, and (3) error bars based on the mean and stdev of the mean score. Produce plots for both training and cross-validation score on the same graph. Be sure to follow all plotting guidelines (legend, axis labels, etc.).\n",
        "\n",
        "**Comment on (1) the bias and (2) the variance as the complexity of model is decreased.**"
      ],
      "metadata": {
        "id": "SpXiafmCVuiQ"
      }
    },
    {
      "cell_type": "code",
      "source": [
        "train_means = regr.cv_results_['mean_train_score']\n",
        "train_sems = regr.cv_results_['std_train_score']\n",
        "valid_means = regr.cv_results_['mean_test_score']\n",
        "valid_sems = regr.cv_results_['std_test_score']\n",
        "\n",
        "plt.scatter(alpha, train_means, c='red', s=75, alpha=0.5)\n",
        "plt.plot(alpha, train_means, c='red', label='Train Score')\n",
        "plt.fill_between(alpha, train_means-train_sems, train_means+train_sems, color='red', alpha=0.5)\n",
        "\n",
        "plt.scatter(alpha, valid_means, c='green', s=75, alpha=0.5)\n",
        "plt.plot(alpha, valid_means, c='green', label='Valid Score')\n",
        "plt.fill_between(alpha, valid_means-valid_sems, valid_means+valid_sems, color='green', alpha=0.5)\n",
        "\n",
        "plt.xlabel('alpha')\n",
        "plt.ylabel('r2_score')\n",
        "plt.legend()\n",
        "plt.semilogx()"
      ],
      "metadata": {
        "id": "ZwEIQycUVuqH",
        "colab": {
          "base_uri": "https://localhost:8080/",
          "height": 300
        },
        "outputId": "ea8f7316-ab88-417c-ca40-09b449d5610d"
      },
      "execution_count": null,
      "outputs": [
        {
          "output_type": "execute_result",
          "data": {
            "text/plain": [
              "[]"
            ]
          },
          "metadata": {},
          "execution_count": 11
        },
        {
          "output_type": "display_data",
          "data": {
            "text/plain": [
              "<Figure size 432x288 with 1 Axes>"
            ],
            "image/png": "[encoded data removed]"
          },
          "metadata": {
            "needs_background": "light"
          }
        }
      ]
    },
    {
      "cell_type": "markdown",
      "source": [
        "**Answer to text question**\n",
        "\n",
        "The model complexity is controlled by parameter alpha. At small values of alpha, the complexity is high. At large values of alpha, the complexity is low. The bias (the \"incorrectness\" of the model on the training set) is low at high values of complexity (alpha = 10e-4) and increases a small degree (small drop in r2 score from 0.9375 to 0.9350) as complexity is increased. The variance (as measured by the difference between train and valid scores) is small at all values of complexity."
      ],
      "metadata": {
        "id": "7n3OSHCXPmOI"
      }
    },
    {
      "cell_type": "markdown",
      "source": [
        "### Step 5: Parity plot\n",
        "\n",
        "**Construct a parity plot comparing the ground truth labels with the model predictions on the test set.** The parity plot should contain (1) a scatter plot showing the ground truth (x-axis) and predictions (y-axis) and (2) a parity line (or, a line where x=y). Be sure to follow all plotting guidelines. Be sure to retrain the best model with the entire training set before evaluating the test set."
      ],
      "metadata": {
        "id": "WdEs6OlFVuw_"
      }
    },
    {
      "cell_type": "code",
      "source": [
        "model = Pipeline(steps=[('poly', PolynomialFeatures(2)),\n",
        "                        ('scale', StandardScaler()),\n",
        "                        ('ridge', Ridge(regr.best_params_['ridge__alpha']))])\n",
        "model.fit(X_train, y_train)\n",
        "y_pred = model.predict(X_test)"
      ],
      "metadata": {
        "id": "3uxFl87uVu5R"
      },
      "execution_count": null,
      "outputs": []
    },
    {
      "cell_type": "code",
      "source": [
        "plt.scatter(y_test, y_pred, c='red', s=75, alpha=0.5)\n",
        "plt.plot([420, 500], [420, 500], ls='--', c='black')\n",
        "plt.xlabel(\"Actual Net Hourly Electrical Energy Output [MW]\")\n",
        "plt.ylabel(\"Predicted Net Hourly Electrical Energy Output [MW]\")\n",
        "plt.title(\"Combined Cycle Power Plant Efficiency\")"
      ],
      "metadata": {
        "colab": {
          "base_uri": "https://localhost:8080/",
          "height": 317
        },
        "id": "oG3y_U8wQasY",
        "outputId": "91b34530-e856-439e-8915-f2608b5c7bbd"
      },
      "execution_count": null,
      "outputs": [
        {
          "output_type": "execute_result",
          "data": {
            "text/plain": [
              "Text(0.5, 1.0, 'Combined Cycle Power Plant Efficiency')"
            ]
          },
          "metadata": {},
          "execution_count": 13
        },
        {
          "output_type": "display_data",
          "data": {
            "text/plain": [
              "<Figure size 432x288 with 1 Axes>"
            ],
            "image/png": "[encoded data removed]"
          },
          "metadata": {
            "needs_background": "light"
          }
        }
      ]
    },
    {
      "cell_type": "markdown",
      "source": [
        "## 2. Logistic Regression - Diabetic Retinopathy\n",
        "\n",
        "This dataset contains features extracted from the Messidor image set to predict whether an image contains signs of diabetic retinopathy, an eye condition that can cause vision loss and blindness in people who have diabetes. All features (columns `0` - `18`) represent either a detected lesion, a descriptive feature of a anatomical part or an image-level descriptor. The final column (`Class`) is the class label where 1 = contains signs of diabetic retinopathy and 0 = no sign of diabetic retinopathy."
      ],
      "metadata": {
        "id": "iuvl2_RWUGvw"
      }
    },
    {
      "cell_type": "markdown",
      "source": [
        "### Step 0: Load the dataset"
      ],
      "metadata": {
        "id": "ur2aiOgLVvpY"
      }
    },
    {
      "cell_type": "code",
      "source": [
        "!wget https://archive.ics.uci.edu/ml/machine-learning-databases/00329/messidor_features.arff"
      ],
      "metadata": {
        "id": "y0QhOarzUG_g",
        "outputId": "79e0ad3f-c259-43da-9096-05e5b8d1c734",
        "colab": {
          "base_uri": "https://localhost:8080/"
        }
      },
      "execution_count": null,
      "outputs": [
        {
          "output_type": "stream",
          "name": "stdout",
          "text": [
            "--2023-03-08 22:12:07--  https://archive.ics.uci.edu/ml/machine-learning-databases/00329/messidor_features.arff\n",
            "Resolving archive.ics.uci.edu (archive.ics.uci.edu)... 128.195.10.252\n",
            "Connecting to archive.ics.uci.edu (archive.ics.uci.edu)|128.195.10.252|:443... connected.\n",
            "HTTP request sent, awaiting response... 200 OK\n",
            "Length: 117224 (114K) [application/x-httpd-php]\n",
            "Saving to: ‘messidor_features.arff’\n",
            "\n",
            "\rmessidor_features.a   0%[                    ]       0  --.-KB/s               \rmessidor_features.a 100%[===================>] 114.48K  --.-KB/s    in 0.03s   \n",
            "\n",
            "2023-03-08 22:12:08 (3.87 MB/s) - ‘messidor_features.arff’ saved [117224/117224]\n",
            "\n"
          ]
        }
      ]
    },
    {
      "cell_type": "code",
      "source": [
        "from scipy.io.arff import loadarff\n",
        "raw_data = loadarff('messidor_features.arff')\n",
        "df = pd.DataFrame(raw_data[0]).astype({'Class': int})\n",
        "df"
      ],
      "metadata": {
        "id": "-DvOztwImlLP",
        "outputId": "c212fc62-01b5-4ef2-f51e-d001098263ea",
        "colab": {
          "base_uri": "https://localhost:8080/",
          "height": 423
        }
      },
      "execution_count": null,
      "outputs": [
        {
          "output_type": "execute_result",
          "data": {
            "text/plain": [
              "        0    1     2     3     4     5     6     7          8          9  \\\n",
              "0     1.0  1.0  22.0  22.0  22.0  19.0  18.0  14.0  49.895756  17.775994   \n",
              "1     1.0  1.0  24.0  24.0  22.0  18.0  16.0  13.0  57.709936  23.799994   \n",
              "2     1.0  1.0  62.0  60.0  59.0  54.0  47.0  33.0  55.831441  27.993933   \n",
              "3     1.0  1.0  55.0  53.0  53.0  50.0  43.0  31.0  40.467228  18.445954   \n",
              "4     1.0  1.0  44.0  44.0  44.0  41.0  39.0  27.0  18.026254   8.570709   \n",
              "...   ...  ...   ...   ...   ...   ...   ...   ...        ...        ...   \n",
              "1146  1.0  1.0  34.0  34.0  34.0  33.0  31.0  24.0   6.071765   0.937472   \n",
              "1147  1.0  1.0  49.0  49.0  49.0  49.0  45.0  37.0  63.197145  27.377668   \n",
              "1148  1.0  0.0  49.0  48.0  48.0  45.0  43.0  33.0  30.461898  13.966980   \n",
              "1149  1.0  1.0  39.0  36.0  29.0  23.0  13.0   7.0  40.525739  12.604947   \n",
              "1150  1.0  1.0   7.0   7.0   7.0   7.0   7.0   5.0  69.423565   7.031843   \n",
              "\n",
              "             10        11        12        13        14        15        16  \\\n",
              "0      5.270920  0.771761  0.018632  0.006864  0.003923  0.003923  0.486903   \n",
              "1      3.325423  0.234185  0.003903  0.003903  0.003903  0.003903  0.520908   \n",
              "2     12.687485  4.852282  1.393889  0.373252  0.041817  0.007744  0.530904   \n",
              "3      9.118901  3.079428  0.840261  0.272434  0.007653  0.001531  0.483284   \n",
              "4      0.410381  0.000000  0.000000  0.000000  0.000000  0.000000  0.475935   \n",
              "...         ...       ...       ...       ...       ...       ...       ...   \n",
              "1146   0.031145  0.003115  0.000000  0.000000  0.000000  0.000000  0.537470   \n",
              "1147   8.067688  0.979548  0.001552  0.000000  0.000000  0.000000  0.516733   \n",
              "1148   1.763305  0.137858  0.011221  0.000000  0.000000  0.000000  0.560632   \n",
              "1149   4.740919  1.077570  0.563518  0.326860  0.239568  0.174584  0.485972   \n",
              "1150   1.750548  0.046597  0.021180  0.008472  0.000000  0.000000  0.556192   \n",
              "\n",
              "            17   18  Class  \n",
              "0     0.100025  1.0      0  \n",
              "1     0.144414  0.0      0  \n",
              "2     0.128548  0.0      1  \n",
              "3     0.114790  0.0      0  \n",
              "4     0.123572  0.0      1  \n",
              "...        ...  ...    ...  \n",
              "1146  0.116795  0.0      0  \n",
              "1147  0.124190  0.0      0  \n",
              "1148  0.129843  0.0      0  \n",
              "1149  0.106690  1.0      1  \n",
              "1150  0.088957  0.0      0  \n",
              "\n",
              "[1151 rows x 20 columns]"
            ],
            "text/html": [
              "\n",
              "  <div id=\"df-04a908bc-f1e4-4aaa-ae8b-aec03e1ce0cd\">\n",
              "    <div class=\"colab-df-container\">\n",
              "      <div>\n",
              "<style scoped>\n",
              "    .dataframe tbody tr th:only-of-type {\n",
              "        vertical-align: middle;\n",
              "    }\n",
              "\n",
              "    .dataframe tbody tr th {\n",
              "        vertical-align: top;\n",
              "    }\n",
              "\n",
              "    .dataframe thead th {\n",
              "        text-align: right;\n",
              "    }\n",
              "</style>\n",
              "<table border=\"1\" class=\"dataframe\">\n",
              "  <thead>\n",
              "    <tr style=\"text-align: right;\">\n",
              "      <th></th>\n",
              "      <th>0</th>\n",
              "      <th>1</th>\n",
              "      <th>2</th>\n",
              "      <th>3</th>\n",
              "      <th>4</th>\n",
              "      <th>5</th>\n",
              "      <th>6</th>\n",
              "      <th>7</th>\n",
              "      <th>8</th>\n",
              "      <th>9</th>\n",
              "      <th>10</th>\n",
              "      <th>11</th>\n",
              "      <th>12</th>\n",
              "      <th>13</th>\n",
              "      <th>14</th>\n",
              "      <th>15</th>\n",
              "      <th>16</th>\n",
              "      <th>17</th>\n",
              "      <th>18</th>\n",
              "      <th>Class</th>\n",
              "    </tr>\n",
              "  </thead>\n",
              "  <tbody>\n",
              "    <tr>\n",
              "      <th>0</th>\n",
              "      <td>1.0</td>\n",
              "      <td>1.0</td>\n",
              "      <td>22.0</td>\n",
              "      <td>22.0</td>\n",
              "      <td>22.0</td>\n",
              "      <td>19.0</td>\n",
              "      <td>18.0</td>\n",
              "      <td>14.0</td>\n",
              "      <td>49.895756</td>\n",
              "      <td>17.775994</td>\n",
              "      <td>5.270920</td>\n",
              "      <td>0.771761</td>\n",
              "      <td>0.018632</td>\n",
              "      <td>0.006864</td>\n",
              "      <td>0.003923</td>\n",
              "      <td>0.003923</td>\n",
              "      <td>0.486903</td>\n",
              "      <td>0.100025</td>\n",
              "      <td>1.0</td>\n",
              "      <td>0</td>\n",
              "    </tr>\n",
              "    <tr>\n",
              "      <th>1</th>\n",
              "      <td>1.0</td>\n",
              "      <td>1.0</td>\n",
              "      <td>24.0</td>\n",
              "      <td>24.0</td>\n",
              "      <td>22.0</td>\n",
              "      <td>18.0</td>\n",
              "      <td>16.0</td>\n",
              "      <td>13.0</td>\n",
              "      <td>57.709936</td>\n",
              "      <td>23.799994</td>\n",
              "      <td>3.325423</td>\n",
              "      <td>0.234185</td>\n",
              "      <td>0.003903</td>\n",
              "      <td>0.003903</td>\n",
              "      <td>0.003903</td>\n",
              "      <td>0.003903</td>\n",
              "      <td>0.520908</td>\n",
              "      <td>0.144414</td>\n",
              "      <td>0.0</td>\n",
              "      <td>0</td>\n",
              "    </tr>\n",
              "    <tr>\n",
              "      <th>2</th>\n",
              "      <td>1.0</td>\n",
              "      <td>1.0</td>\n",
              "      <td>62.0</td>\n",
              "      <td>60.0</td>\n",
              "      <td>59.0</td>\n",
              "      <td>54.0</td>\n",
              "      <td>47.0</td>\n",
              "      <td>33.0</td>\n",
              "      <td>55.831441</td>\n",
              "      <td>27.993933</td>\n",
              "      <td>12.687485</td>\n",
              "      <td>4.852282</td>\n",
              "      <td>1.393889</td>\n",
              "      <td>0.373252</td>\n",
              "      <td>0.041817</td>\n",
              "      <td>0.007744</td>\n",
              "      <td>0.530904</td>\n",
              "      <td>0.128548</td>\n",
              "      <td>0.0</td>\n",
              "      <td>1</td>\n",
              "    </tr>\n",
              "    <tr>\n",
              "      <th>3</th>\n",
              "      <td>1.0</td>\n",
              "      <td>1.0</td>\n",
              "      <td>55.0</td>\n",
              "      <td>53.0</td>\n",
              "      <td>53.0</td>\n",
              "      <td>50.0</td>\n",
              "      <td>43.0</td>\n",
              "      <td>31.0</td>\n",
              "      <td>40.467228</td>\n",
              "      <td>18.445954</td>\n",
              "      <td>9.118901</td>\n",
              "      <td>3.079428</td>\n",
              "      <td>0.840261</td>\n",
              "      <td>0.272434</td>\n",
              "      <td>0.007653</td>\n",
              "      <td>0.001531</td>\n",
              "      <td>0.483284</td>\n",
              "      <td>0.114790</td>\n",
              "      <td>0.0</td>\n",
              "      <td>0</td>\n",
              "    </tr>\n",
              "    <tr>\n",
              "      <th>4</th>\n",
              "      <td>1.0</td>\n",
              "      <td>1.0</td>\n",
              "      <td>44.0</td>\n",
              "      <td>44.0</td>\n",
              "      <td>44.0</td>\n",
              "      <td>41.0</td>\n",
              "      <td>39.0</td>\n",
              "      <td>27.0</td>\n",
              "      <td>18.026254</td>\n",
              "      <td>8.570709</td>\n",
              "      <td>0.410381</td>\n",
              "      <td>0.000000</td>\n",
              "      <td>0.000000</td>\n",
              "      <td>0.000000</td>\n",
              "      <td>0.000000</td>\n",
              "      <td>0.000000</td>\n",
              "      <td>0.475935</td>\n",
              "      <td>0.123572</td>\n",
              "      <td>0.0</td>\n",
              "      <td>1</td>\n",
              "    </tr>\n",
              "    <tr>\n",
              "      <th>...</th>\n",
              "      <td>...</td>\n",
              "      <td>...</td>\n",
              "      <td>...</td>\n",
              "      <td>...</td>\n",
              "      <td>...</td>\n",
              "      <td>...</td>\n",
              "      <td>...</td>\n",
              "      <td>...</td>\n",
              "      <td>...</td>\n",
              "      <td>...</td>\n",
              "      <td>...</td>\n",
              "      <td>...</td>\n",
              "      <td>...</td>\n",
              "      <td>...</td>\n",
              "      <td>...</td>\n",
              "      <td>...</td>\n",
              "      <td>...</td>\n",
              "      <td>...</td>\n",
              "      <td>...</td>\n",
              "      <td>...</td>\n",
              "    </tr>\n",
              "    <tr>\n",
              "      <th>1146</th>\n",
              "      <td>1.0</td>\n",
              "      <td>1.0</td>\n",
              "      <td>34.0</td>\n",
              "      <td>34.0</td>\n",
              "      <td>34.0</td>\n",
              "      <td>33.0</td>\n",
              "      <td>31.0</td>\n",
              "      <td>24.0</td>\n",
              "      <td>6.071765</td>\n",
              "      <td>0.937472</td>\n",
              "      <td>0.031145</td>\n",
              "      <td>0.003115</td>\n",
              "      <td>0.000000</td>\n",
              "      <td>0.000000</td>\n",
              "      <td>0.000000</td>\n",
              "      <td>0.000000</td>\n",
              "      <td>0.537470</td>\n",
              "      <td>0.116795</td>\n",
              "      <td>0.0</td>\n",
              "      <td>0</td>\n",
              "    </tr>\n",
              "    <tr>\n",
              "      <th>1147</th>\n",
              "      <td>1.0</td>\n",
              "      <td>1.0</td>\n",
              "      <td>49.0</td>\n",
              "      <td>49.0</td>\n",
              "      <td>49.0</td>\n",
              "      <td>49.0</td>\n",
              "      <td>45.0</td>\n",
              "      <td>37.0</td>\n",
              "      <td>63.197145</td>\n",
              "      <td>27.377668</td>\n",
              "      <td>8.067688</td>\n",
              "      <td>0.979548</td>\n",
              "      <td>0.001552</td>\n",
              "      <td>0.000000</td>\n",
              "      <td>0.000000</td>\n",
              "      <td>0.000000</td>\n",
              "      <td>0.516733</td>\n",
              "      <td>0.124190</td>\n",
              "      <td>0.0</td>\n",
              "      <td>0</td>\n",
              "    </tr>\n",
              "    <tr>\n",
              "      <th>1148</th>\n",
              "      <td>1.0</td>\n",
              "      <td>0.0</td>\n",
              "      <td>49.0</td>\n",
              "      <td>48.0</td>\n",
              "      <td>48.0</td>\n",
              "      <td>45.0</td>\n",
              "      <td>43.0</td>\n",
              "      <td>33.0</td>\n",
              "      <td>30.461898</td>\n",
              "      <td>13.966980</td>\n",
              "      <td>1.763305</td>\n",
              "      <td>0.137858</td>\n",
              "      <td>0.011221</td>\n",
              "      <td>0.000000</td>\n",
              "      <td>0.000000</td>\n",
              "      <td>0.000000</td>\n",
              "      <td>0.560632</td>\n",
              "      <td>0.129843</td>\n",
              "      <td>0.0</td>\n",
              "      <td>0</td>\n",
              "    </tr>\n",
              "    <tr>\n",
              "      <th>1149</th>\n",
              "      <td>1.0</td>\n",
              "      <td>1.0</td>\n",
              "      <td>39.0</td>\n",
              "      <td>36.0</td>\n",
              "      <td>29.0</td>\n",
              "      <td>23.0</td>\n",
              "      <td>13.0</td>\n",
              "      <td>7.0</td>\n",
              "      <td>40.525739</td>\n",
              "      <td>12.604947</td>\n",
              "      <td>4.740919</td>\n",
              "      <td>1.077570</td>\n",
              "      <td>0.563518</td>\n",
              "      <td>0.326860</td>\n",
              "      <td>0.239568</td>\n",
              "      <td>0.174584</td>\n",
              "      <td>0.485972</td>\n",
              "      <td>0.106690</td>\n",
              "      <td>1.0</td>\n",
              "      <td>1</td>\n",
              "    </tr>\n",
              "    <tr>\n",
              "      <th>1150</th>\n",
              "      <td>1.0</td>\n",
              "      <td>1.0</td>\n",
              "      <td>7.0</td>\n",
              "      <td>7.0</td>\n",
              "      <td>7.0</td>\n",
              "      <td>7.0</td>\n",
              "      <td>7.0</td>\n",
              "      <td>5.0</td>\n",
              "      <td>69.423565</td>\n",
              "      <td>7.031843</td>\n",
              "      <td>1.750548</td>\n",
              "      <td>0.046597</td>\n",
              "      <td>0.021180</td>\n",
              "      <td>0.008472</td>\n",
              "      <td>0.000000</td>\n",
              "      <td>0.000000</td>\n",
              "      <td>0.556192</td>\n",
              "      <td>0.088957</td>\n",
              "      <td>0.0</td>\n",
              "      <td>0</td>\n",
              "    </tr>\n",
              "  </tbody>\n",
              "</table>\n",
              "<p>1151 rows × 20 columns</p>\n",
              "</div>\n",
              "      <button class=\"colab-df-convert\" onclick=\"convertToInteractive('df-04a908bc-f1e4-4aaa-ae8b-aec03e1ce0cd')\"\n",
              "              title=\"Convert this dataframe to an interactive table.\"\n",
              "              style=\"display:none;\">\n",
              "        \n",
              "  <svg xmlns=\"http://www.w3.org/2000/svg\" height=\"24px\"viewBox=\"0 0 24 24\"\n",
              "       width=\"24px\">\n",
              "    <path d=\"M0 0h24v24H0V0z\" fill=\"none\"/>\n",
              "    <path d=\"M18.56 5.44l.94 2.06.94-2.06 2.06-.94-2.06-.94-.94-2.06-.94 2.06-2.06.94zm-11 1L8.5 8.5l.94-2.06 2.06-.94-2.06-.94L8.5 2.5l-.94 2.06-2.06.94zm10 10l.94 2.06.94-2.06 2.06-.94-2.06-.94-.94-2.06-.94 2.06-2.06.94z\"/><path d=\"M17.41 7.96l-1.37-1.37c-.4-.4-.92-.59-1.43-.59-.52 0-1.04.2-1.43.59L10.3 9.45l-7.72 7.72c-.78.78-.78 2.05 0 2.83L4 21.41c.39.39.9.59 1.41.59.51 0 1.02-.2 1.41-.59l7.78-7.78 2.81-2.81c.8-.78.8-2.07 0-2.86zM5.41 20L4 18.59l7.72-7.72 1.47 1.35L5.41 20z\"/>\n",
              "  </svg>\n",
              "      </button>\n",
              "      \n",
              "  <style>\n",
              "    .colab-df-container {\n",
              "      display:flex;\n",
              "      flex-wrap:wrap;\n",
              "      gap: 12px;\n",
              "    }\n",
              "\n",
              "    .colab-df-convert {\n",
              "      background-color: #E8F0FE;\n",
              "      border: none;\n",
              "      border-radius: 50%;\n",
              "      cursor: pointer;\n",
              "      display: none;\n",
              "      fill: #1967D2;\n",
              "      height: 32px;\n",
              "      padding: 0 0 0 0;\n",
              "      width: 32px;\n",
              "    }\n",
              "\n",
              "    .colab-df-convert:hover {\n",
              "      background-color: #E2EBFA;\n",
              "      box-shadow: 0px 1px 2px rgba(60, 64, 67, 0.3), 0px 1px 3px 1px rgba(60, 64, 67, 0.15);\n",
              "      fill: #174EA6;\n",
              "    }\n",
              "\n",
              "    [theme=dark] .colab-df-convert {\n",
              "      background-color: #3B4455;\n",
              "      fill: #D2E3FC;\n",
              "    }\n",
              "\n",
              "    [theme=dark] .colab-df-convert:hover {\n",
              "      background-color: #434B5C;\n",
              "      box-shadow: 0px 1px 3px 1px rgba(0, 0, 0, 0.15);\n",
              "      filter: drop-shadow(0px 1px 2px rgba(0, 0, 0, 0.3));\n",
              "      fill: #FFFFFF;\n",
              "    }\n",
              "  </style>\n",
              "\n",
              "      <script>\n",
              "        const buttonEl =\n",
              "          document.querySelector('#df-04a908bc-f1e4-4aaa-ae8b-aec03e1ce0cd button.colab-df-convert');\n",
              "        buttonEl.style.display =\n",
              "          google.colab.kernel.accessAllowed ? 'block' : 'none';\n",
              "\n",
              "        async function convertToInteractive(key) {\n",
              "          const element = document.querySelector('#df-04a908bc-f1e4-4aaa-ae8b-aec03e1ce0cd');\n",
              "          const dataTable =\n",
              "            await google.colab.kernel.invokeFunction('convertToInteractive',\n",
              "                                                     [key], {});\n",
              "          if (!dataTable) return;\n",
              "\n",
              "          const docLinkHtml = 'Like what you see? Visit the ' +\n",
              "            '<a target=\"_blank\" href=https://colab.research.google.com/notebooks/data_table.ipynb>data table notebook</a>'\n",
              "            + ' to learn more about interactive tables.';\n",
              "          element.innerHTML = '';\n",
              "          dataTable['output_type'] = 'display_data';\n",
              "          await google.colab.output.renderOutput(dataTable, element);\n",
              "          const docLink = document.createElement('div');\n",
              "          docLink.innerHTML = docLinkHtml;\n",
              "          element.appendChild(docLink);\n",
              "        }\n",
              "      </script>\n",
              "    </div>\n",
              "  </div>\n",
              "  "
            ]
          },
          "metadata": {},
          "execution_count": 15
        }
      ]
    },
    {
      "cell_type": "markdown",
      "source": [
        "### Step 1: Prepare the data for modeling\n",
        "\n",
        "1. **Prepare the target data `y` containing the data found in the `Class` column.**\n",
        "2. **Prepare the design matrix `X` containing the data found in the remaining columns.** Be sure to drop the `Class` column before generating `X`.\n",
        "3. **Split the dataset into training and testing sets.**"
      ],
      "metadata": {
        "id": "NzXKX00MVxyv"
      }
    },
    {
      "cell_type": "code",
      "source": [
        "y = df['Class'].values\n",
        "X = df.drop('Class', axis=1).values\n",
        "X_train, X_test, y_train, y_test = train_test_split(X, y, random_state=1234)"
      ],
      "metadata": {
        "id": "6Vw6jf_hVx5I"
      },
      "execution_count": null,
      "outputs": []
    },
    {
      "cell_type": "markdown",
      "source": [
        "### Step 2: Hyperparameter optimization\n",
        "\n",
        "1. **Construct a modeling `sklearn.pipeline.Pipeline` for fitting the data.** The pipeline should include:\n",
        "  - `sklearn.preprocessing.PolynomialFeatures` polynomial feature expansion. Set the value of `degree` to 2.\n",
        "  - `sklearn.preprocessing.StandardScaler` standardization transformation.\n",
        "  - `sklearn.linear_model.LogisticRegression` logistic regression model.\n",
        "2. **Perform a grid search `GridSearchCV`** over\n",
        "  - `C`: the regularization penalty strength parameter\n",
        "3. **Print out the best cross-validation score and corresponding parameters.**\n",
        "\n",
        "You may select the range of possible hyperparameter values, but you must compare at least 25 total models."
      ],
      "metadata": {
        "id": "x9uItwZCVx-p"
      }
    },
    {
      "cell_type": "code",
      "source": [
        "model = Pipeline(steps=[('poly', PolynomialFeatures(2)), ('scaler', StandardScaler()), ('logreg', LogisticRegression(penalty='l2', solver='liblinear'))])\n",
        "C = np.logspace(-4, 2, 50)\n",
        "parameters = {'logreg__C': C}\n",
        "clf = GridSearchCV(model, parameters, return_train_score=True)\n",
        "clf.fit(X_train, y_train)\n",
        "print(f\"Best Score: {clf.best_score_} Parameters: {clf.best_params_}\")"
      ],
      "metadata": {
        "id": "oLXYfX9TVyEP",
        "colab": {
          "base_uri": "https://localhost:8080/"
        },
        "outputId": "62a07bab-04e2-475a-f27f-69a80ff285cb"
      },
      "execution_count": null,
      "outputs": [
        {
          "output_type": "stream",
          "name": "stdout",
          "text": [
            "Best Score: 0.764780212394139 Parameters: {'logreg__C': 1.0985411419875573}\n"
          ]
        }
      ]
    },
    {
      "cell_type": "markdown",
      "source": [
        "### Step 3: Model testing and confusion matrix\n",
        "\n",
        "Using the best model from step 2, retrain the model on the training set. **Generate a confusion matrix based on ground truth data and predictions of the model on the testing set. Identify the number of true positive (TP), true negative (TN), false positive (FP), and false negative (FN) model predictions.**"
      ],
      "metadata": {
        "id": "UioyI4yIVyKx"
      }
    },
    {
      "cell_type": "code",
      "source": [
        "model = Pipeline(steps=[('poly', PolynomialFeatures(2)),\n",
        "                           ('scaler', StandardScaler()),\n",
        "                           ('logreg', LogisticRegression(C=clf.best_params_['logreg__C'], penalty='l2', solver='liblinear'))])\n",
        "model.fit(X_train, y_train)"
      ],
      "metadata": {
        "colab": {
          "base_uri": "https://localhost:8080/",
          "height": 159
        },
        "id": "9h6XwjSARPeJ",
        "outputId": "27bb84de-a74b-40d8-8304-94f5f76c32fe"
      },
      "execution_count": null,
      "outputs": [
        {
          "output_type": "execute_result",
          "data": {
            "text/plain": [
              "Pipeline(steps=[('poly', PolynomialFeatures()), ('scaler', StandardScaler()),\n",
              "                ('logreg',\n",
              "                 LogisticRegression(C=1.0985411419875573, solver='liblinear'))])"
            ],
            "text/html": [
              "<style>#sk-container-id-1 {color: black;background-color: white;}#sk-container-id-1 pre{padding: 0;}#sk-container-id-1 div.sk-toggleable {background-color: white;}#sk-container-id-1 label.sk-toggleable__label {cursor: pointer;display: block;width: 100%;margin-bottom: 0;padding: 0.3em;box-sizing: border-box;text-align: center;}#sk-container-id-1 label.sk-toggleable__label-arrow:before {content: \"▸\";float: left;margin-right: 0.25em;color: #696969;}#sk-container-id-1 label.sk-toggleable__label-arrow:hover:before {color: black;}#sk-container-id-1 div.sk-estimator:hover label.sk-toggleable__label-arrow:before {color: black;}#sk-container-id-1 div.sk-toggleable__content {max-height: 0;max-width: 0;overflow: hidden;text-align: left;background-color: #f0f8ff;}#sk-container-id-1 div.sk-toggleable__content pre {margin: 0.2em;color: black;border-radius: 0.25em;background-color: #f0f8ff;}#sk-container-id-1 input.sk-toggleable__control:checked~div.sk-toggleable__content {max-height: 200px;max-width: 100%;overflow: auto;}#sk-container-id-1 input.sk-toggleable__control:checked~label.sk-toggleable__label-arrow:before {content: \"▾\";}#sk-container-id-1 div.sk-estimator input.sk-toggleable__control:checked~label.sk-toggleable__label {background-color: #d4ebff;}#sk-container-id-1 div.sk-label input.sk-toggleable__control:checked~label.sk-toggleable__label {background-color: #d4ebff;}#sk-container-id-1 input.sk-hidden--visually {border: 0;clip: rect(1px 1px 1px 1px);clip: rect(1px, 1px, 1px, 1px);height: 1px;margin: -1px;overflow: hidden;padding: 0;position: absolute;width: 1px;}#sk-container-id-1 div.sk-estimator {font-family: monospace;background-color: #f0f8ff;border: 1px dotted black;border-radius: 0.25em;box-sizing: border-box;margin-bottom: 0.5em;}#sk-container-id-1 div.sk-estimator:hover {background-color: #d4ebff;}#sk-container-id-1 div.sk-parallel-item::after {content: \"\";width: 100%;border-bottom: 1px solid gray;flex-grow: 1;}#sk-container-id-1 div.sk-label:hover label.sk-toggleable__label {background-color: #d4ebff;}#sk-container-id-1 div.sk-serial::before {content: \"\";position: absolute;border-left: 1px solid gray;box-sizing: border-box;top: 0;bottom: 0;left: 50%;z-index: 0;}#sk-container-id-1 div.sk-serial {display: flex;flex-direction: column;align-items: center;background-color: white;padding-right: 0.2em;padding-left: 0.2em;position: relative;}#sk-container-id-1 div.sk-item {position: relative;z-index: 1;}#sk-container-id-1 div.sk-parallel {display: flex;align-items: stretch;justify-content: center;background-color: white;position: relative;}#sk-container-id-1 div.sk-item::before, #sk-container-id-1 div.sk-parallel-item::before {content: \"\";position: absolute;border-left: 1px solid gray;box-sizing: border-box;top: 0;bottom: 0;left: 50%;z-index: -1;}#sk-container-id-1 div.sk-parallel-item {display: flex;flex-direction: column;z-index: 1;position: relative;background-color: white;}#sk-container-id-1 div.sk-parallel-item:first-child::after {align-self: flex-end;width: 50%;}#sk-container-id-1 div.sk-parallel-item:last-child::after {align-self: flex-start;width: 50%;}#sk-container-id-1 div.sk-parallel-item:only-child::after {width: 0;}#sk-container-id-1 div.sk-dashed-wrapped {border: 1px dashed gray;margin: 0 0.4em 0.5em 0.4em;box-sizing: border-box;padding-bottom: 0.4em;background-color: white;}#sk-container-id-1 div.sk-label label {font-family: monospace;font-weight: bold;display: inline-block;line-height: 1.2em;}#sk-container-id-1 div.sk-label-container {text-align: center;}#sk-container-id-1 div.sk-container {/* jupyter's `normalize.less` sets `[hidden] { display: none; }` but bootstrap.min.css set `[hidden] { display: none !important; }` so we also need the `!important` here to be able to override the default hidden behavior on the sphinx rendered scikit-learn.org. See: https://github.com/scikit-learn/scikit-learn/issues/21755 */display: inline-block !important;position: relative;}#sk-container-id-1 div.sk-text-repr-fallback {display: none;}</style><div id=\"sk-container-id-1\" class=\"sk-top-container\"><div class=\"sk-text-repr-fallback\"><pre>Pipeline(steps=[(&#x27;poly&#x27;, PolynomialFeatures()), (&#x27;scaler&#x27;, StandardScaler()),\n",
              "                (&#x27;logreg&#x27;,\n",
              "                 LogisticRegression(C=1.0985411419875573, solver=&#x27;liblinear&#x27;))])</pre><b>In a Jupyter environment, please rerun this cell to show the HTML representation or trust the notebook. <br />On GitHub, the HTML representation is unable to render, please try loading this page with nbviewer.org.</b></div><div class=\"sk-container\" hidden><div class=\"sk-item sk-dashed-wrapped\"><div class=\"sk-label-container\"><div class=\"sk-label sk-toggleable\"><input class=\"sk-toggleable__control sk-hidden--visually\" id=\"sk-estimator-id-1\" type=\"checkbox\" ><label for=\"sk-estimator-id-1\" class=\"sk-toggleable__label sk-toggleable__label-arrow\">Pipeline</label><div class=\"sk-toggleable__content\"><pre>Pipeline(steps=[(&#x27;poly&#x27;, PolynomialFeatures()), (&#x27;scaler&#x27;, StandardScaler()),\n",
              "                (&#x27;logreg&#x27;,\n",
              "                 LogisticRegression(C=1.0985411419875573, solver=&#x27;liblinear&#x27;))])</pre></div></div></div><div class=\"sk-serial\"><div class=\"sk-item\"><div class=\"sk-estimator sk-toggleable\"><input class=\"sk-toggleable__control sk-hidden--visually\" id=\"sk-estimator-id-2\" type=\"checkbox\" ><label for=\"sk-estimator-id-2\" class=\"sk-toggleable__label sk-toggleable__label-arrow\">PolynomialFeatures</label><div class=\"sk-toggleable__content\"><pre>PolynomialFeatures()</pre></div></div></div><div class=\"sk-item\"><div class=\"sk-estimator sk-toggleable\"><input class=\"sk-toggleable__control sk-hidden--visually\" id=\"sk-estimator-id-3\" type=\"checkbox\" ><label for=\"sk-estimator-id-3\" class=\"sk-toggleable__label sk-toggleable__label-arrow\">StandardScaler</label><div class=\"sk-toggleable__content\"><pre>StandardScaler()</pre></div></div></div><div class=\"sk-item\"><div class=\"sk-estimator sk-toggleable\"><input class=\"sk-toggleable__control sk-hidden--visually\" id=\"sk-estimator-id-4\" type=\"checkbox\" ><label for=\"sk-estimator-id-4\" class=\"sk-toggleable__label sk-toggleable__label-arrow\">LogisticRegression</label><div class=\"sk-toggleable__content\"><pre>LogisticRegression(C=1.0985411419875573, solver=&#x27;liblinear&#x27;)</pre></div></div></div></div></div></div></div>"
            ]
          },
          "metadata": {},
          "execution_count": 18
        }
      ]
    },
    {
      "cell_type": "code",
      "source": [
        "y_pred = model.predict(X_test)\n",
        "cm = confusion_matrix(y_test, y_pred)\n",
        "cmd = ConfusionMatrixDisplay(cm)\n",
        "cmd.plot()"
      ],
      "metadata": {
        "id": "Cj1VGCCvVyQg",
        "colab": {
          "base_uri": "https://localhost:8080/",
          "height": 298
        },
        "outputId": "83f06ad3-fe28-435b-c9dd-a01ddb42e628"
      },
      "execution_count": null,
      "outputs": [
        {
          "output_type": "execute_result",
          "data": {
            "text/plain": [
              "<sklearn.metrics._plot.confusion_matrix.ConfusionMatrixDisplay at 0x7f1fc496f1f0>"
            ]
          },
          "metadata": {},
          "execution_count": 19
        },
        {
          "output_type": "display_data",
          "data": {
            "text/plain": [
              "<Figure size 432x288 with 2 Axes>"
            ],
            "image/png": "[encoded data removed]"
          },
          "metadata": {
            "needs_background": "light"
          }
        }
      ]
    },
    {
      "cell_type": "code",
      "source": [
        "tn, fp, fn, tp = cm.flatten()\n",
        "print(f\"TP: {tp} TN: {tn} FP: {fp} FN: {fn}\")"
      ],
      "metadata": {
        "colab": {
          "base_uri": "https://localhost:8080/"
        },
        "id": "OpOBooJtRiRw",
        "outputId": "19543a7c-ca78-4748-bdcd-2f76d900897d"
      },
      "execution_count": null,
      "outputs": [
        {
          "output_type": "stream",
          "name": "stdout",
          "text": [
            "TP: 104 TN: 111 FP: 33 FN: 40\n"
          ]
        }
      ]
    },
    {
      "cell_type": "markdown",
      "source": [
        "### Step 4: ROC Curve Interpretation\n",
        "\n",
        "**Generate a receiver operator characteristic (ROC) curve based on the ground truth data and predictions of the model on the testing set. Calculate the area under the ROC curve (`roc_auc_score`) and display it on the graph or with a print statement.** Be sure that the resulting plot follows the plotting guidelines.\n",
        "\n",
        "**We would like to calibrate the trained model such that we have a true positive rate of 90%. Estimate the resulting false positive rate.**"
      ],
      "metadata": {
        "id": "c8imXhkyVyXv"
      }
    },
    {
      "cell_type": "code",
      "source": [
        "from sklearn.metrics import RocCurveDisplay\n",
        "\n",
        "# predict positive/negative probabilities\n",
        "y_pred_proba = model.predict_proba(X_test)\n",
        "\n",
        "# select probability of positive class\n",
        "y_pred_pos_proba = y_pred_proba[:, 1]\n",
        "\n",
        "RocCurveDisplay.from_predictions(\n",
        "    y_test,\n",
        "    y_pred_pos_proba,\n",
        "    name=f\"LogReg\",\n",
        "    color=\"darkorange\",\n",
        ")\n",
        "plt.plot([0, 1], [0, 1], \"k--\", label=\"chance level (AUC = 0.5)\")\n",
        "plt.axis(\"square\")\n",
        "plt.xlabel(\"False Positive Rate\")\n",
        "plt.ylabel(\"True Positive Rate\")\n",
        "plt.title(\"Diabetic Retinopathy Logistic Regression ROC Curve\")\n",
        "plt.legend()"
      ],
      "metadata": {
        "id": "VdheENKNwcJy",
        "colab": {
          "base_uri": "https://localhost:8080/",
          "height": 312
        },
        "outputId": "4b3ec3a2-c596-438f-c14b-479f12f16ae4"
      },
      "execution_count": null,
      "outputs": [
        {
          "output_type": "execute_result",
          "data": {
            "text/plain": [
              "<matplotlib.legend.Legend at 0x7f1f8c6969a0>"
            ]
          },
          "metadata": {},
          "execution_count": 21
        },
        {
          "output_type": "display_data",
          "data": {
            "text/plain": [
              "<Figure size 432x288 with 1 Axes>"
            ],
            "image/png": "[encoded data removed]"
          },
          "metadata": {
            "needs_background": "light"
          }
        }
      ]
    },
    {
      "cell_type": "markdown",
      "source": [
        "We can estimate the false positivity rate at a given true positive rate by finding where the ROC curve intersects a horizontal line at the true positive rate. Then, we read off the x-value of that intersection to estimate the false positive rate. See below.\n",
        "\n",
        "The estimated false positive rate is 0.6 or 60%."
      ],
      "metadata": {
        "id": "QibQAUkiIcXd"
      }
    },
    {
      "cell_type": "code",
      "source": [
        "RocCurveDisplay.from_predictions(\n",
        "    y_test,\n",
        "    y_pred_pos_proba,\n",
        "    name=f\"LogReg\",\n",
        "    color=\"darkorange\",\n",
        ")\n",
        "plt.plot([0, 1], [0, 1], \"k--\", label=\"chance level (AUC = 0.5)\")\n",
        "plt.axis(\"square\")\n",
        "plt.xlabel(\"False Positive Rate\")\n",
        "plt.ylabel(\"True Positive Rate\")\n",
        "plt.title(\"Diabetic Retinopathy Logistic Regression ROC Curve\")\n",
        "plt.legend()\n",
        "\n",
        "# plotting a straight line at constant true positive rate = 0.9\n",
        "plt.axhline(0.9)\n",
        "\n",
        "# i adjusted the value of the vertical line so that it intersects the ROC curve and horizontal line\n",
        "# the resulting value is the false positive rate\n",
        "plt.axvline(0.6)"
      ],
      "metadata": {
        "colab": {
          "base_uri": "https://localhost:8080/",
          "height": 312
        },
        "id": "gCQkWMFWI1LS",
        "outputId": "df3bf9d8-b13d-49b4-c37b-6435815694c8"
      },
      "execution_count": null,
      "outputs": [
        {
          "output_type": "execute_result",
          "data": {
            "text/plain": [
              "<matplotlib.lines.Line2D at 0x7f1f89e8d340>"
            ]
          },
          "metadata": {},
          "execution_count": 22
        },
        {
          "output_type": "display_data",
          "data": {
            "text/plain": [
              "<Figure size 432x288 with 1 Axes>"
            ],
            "image/png": "[encoded data removed]"
          },
          "metadata": {
            "needs_background": "light"
          }
        }
      ]
    },
    {
      "cell_type": "markdown",
      "source": [
        "### Step 5: Model precision\n",
        "\n",
        "**Compute the `precision_score` for the positive and negative classes based on the ground truth data and predictions of the model on the testing set. Comment on the how well we are able to trust positive classifications and negative classifications given by our model.**"
      ],
      "metadata": {
        "id": "PsZ4Yzawtr2M"
      }
    },
    {
      "cell_type": "code",
      "source": [
        "pos_prec = precision_score(y_test, y_pred, pos_label=1)\n",
        "neg_prec = precision_score(y_test, y_pred, pos_label=0)\n",
        "print(f\"Positive Precision: {pos_prec} Negative Precision: {neg_prec}\")"
      ],
      "metadata": {
        "id": "hoEZpg04ttuF",
        "colab": {
          "base_uri": "https://localhost:8080/"
        },
        "outputId": "3e7afaed-4985-437a-ea89-3cae0a1bb7db"
      },
      "execution_count": null,
      "outputs": [
        {
          "output_type": "stream",
          "name": "stdout",
          "text": [
            "Positive Precision: 0.7591240875912408 Negative Precision: 0.7350993377483444\n"
          ]
        }
      ]
    },
    {
      "cell_type": "markdown",
      "source": [
        "The precision gives the \"predictive power\" of our model i.e. what is the chance that a positive/negative classification is *actually* positive/negative.\n",
        "\n",
        "When we predict a positive label, there is a 76% chance that the positive classification is accurate. When we predict a negative label, there is a 74% chance that the negative classification is accurate. So, on average, we can trust our classifications in 3 out of 4 examples."
      ],
      "metadata": {
        "id": "7d2441J6Q_wC"
      }
    }
  ]
}