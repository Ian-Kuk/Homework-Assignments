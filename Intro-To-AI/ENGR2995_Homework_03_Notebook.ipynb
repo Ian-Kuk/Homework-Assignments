{
  "nbformat": 4,
  "nbformat_minor": 0,
  "metadata": {
    "colab": {
      "provenance": []
    },
    "kernelspec": {
      "name": "python3",
      "display_name": "Python 3"
    },
    "language_info": {
      "name": "python"
    }
  },
  "cells": [
    {
      "cell_type": "code",
      "execution_count": null,
      "metadata": {
        "id": "YoKxq2r7e72l"
      },
      "outputs": [],
      "source": [
        "import numpy as np\n",
        "import pandas as pd\n",
        "import matplotlib.pyplot as plt\n",
        "import seaborn as sns"
      ]
    },
    {
      "cell_type": "markdown",
      "source": [
        "### Guidelines for data plotting\n",
        "\n",
        "When asked to produce a plot, you must:\n",
        "\n",
        "1. Follow directions on whether to use a line plot or scatter plot\n",
        "2. Provide descriptive labels for all axes and give units when indicated\n",
        "3. Provide a descriptive title for the plot\n",
        "4. Provide a descriptive legend for the plot when plotting more than one dataset\n",
        "5. Use color or marker to differentiate between datasets when plotting more than one dataset"
      ],
      "metadata": {
        "id": "GNAuAP6Za0hU"
      }
    },
    {
      "cell_type": "markdown",
      "source": [
        "## 1. Linear Regression - Yacht Hydrodynamics\n",
        "\n",
        "In this example, a linear regressor is constructed to predict the residuary resistance of sailing yachts as a function of hull geometry coefficients and the Froude number.\n",
        "\n",
        "The Delft data set comprises 308 full-scale experiments performed at the Delft Ship Hydromechanics Laboratory. These experiments include 22 different hull forms, derived from a parent form closely related to the 'Standfast 43' designed by Frans Maas.\n",
        "\n",
        "Variations concern the longitudinal position of the center of buoyancy, prismatic coefficient, length-displacement ratio, beam-draught ratio, and length-beam ratio. Fourteen different values for the Froude number ranging from 0.125 to 0.450 are considered for every hull form. The measured variable is the residuary resistance per unit weight of displacement.\n",
        "\n",
        "Attribute Information:\n",
        "\n",
        "Variations concern hull geometry coefficients and the Froude number:\n",
        "\n",
        "1. Longitudinal position of the center of buoyancy, adimensional.\n",
        "2. Prismatic coefficient, adimensional.\n",
        "3. Length-displacement ratio, adimensional.\n",
        "4. Beam-draught ratio, adimensional.\n",
        "5. Length-beam ratio, adimensional.\n",
        "6. Froude number, adimensional.\n",
        "\n",
        "The measured variable is the residuary resistance per unit weight of displacement:\n",
        "\n",
        "7. Residuary resistance per unit weight of displacement, adimensional.\n",
        "\n",
        "\n",
        "Relevant Papers:\n",
        "\n",
        "J. Gerritsma, R. Onnink, and A. Versluis. Geometry, resistance and stability of the delft systematic yacht hull series. In International Shipbuilding\n",
        "Progress, volume 28, pages 276â€“297, 1981.\n",
        "\n",
        "I. Ortigosa, R. Lopez and J. Garcia. A neural networks approach to residuary resistance of sailing\n",
        "yachts prediction. In Proceedings of the International Conference on Marine Engineering MARINE\n",
        "2007, 2007."
      ],
      "metadata": {
        "id": "P2o1vSCEfEjA"
      }
    },
    {
      "cell_type": "markdown",
      "source": [
        "### Step 0: Load the dataset"
      ],
      "metadata": {
        "id": "0cNxkmEJXrX5"
      }
    },
    {
      "cell_type": "code",
      "source": [
        "!wget https://archive.ics.uci.edu/ml/machine-learning-databases/00243/yacht_hydrodynamics.data"
      ],
      "metadata": {
        "id": "HXh4jE_jz1TU",
        "outputId": "83db4028-fb41-4a65-f1f1-4cac0d270e4f",
        "colab": {
          "base_uri": "https://localhost:8080/"
        }
      },
      "execution_count": null,
      "outputs": [
        {
          "output_type": "stream",
          "name": "stdout",
          "text": [
            "--2023-02-21 21:53:10--  https://archive.ics.uci.edu/ml/machine-learning-databases/00243/yacht_hydrodynamics.data\n",
            "Resolving archive.ics.uci.edu (archive.ics.uci.edu)... 128.195.10.252\n",
            "Connecting to archive.ics.uci.edu (archive.ics.uci.edu)|128.195.10.252|:443... connected.\n",
            "HTTP request sent, awaiting response... 200 OK\n",
            "Length: 11487 (11K) [application/x-httpd-php]\n",
            "Saving to: ‘yacht_hydrodynamics.data’\n",
            "\n",
            "\ryacht_hydrodynamics   0%[                    ]       0  --.-KB/s               \ryacht_hydrodynamics 100%[===================>]  11.22K  --.-KB/s    in 0s      \n",
            "\n",
            "2023-02-21 21:53:10 (72.4 MB/s) - ‘yacht_hydrodynamics.data’ saved [11487/11487]\n",
            "\n"
          ]
        }
      ]
    },
    {
      "cell_type": "code",
      "source": [
        "names = ['Longitudinal position of the center of buoyancy',\n",
        "         'Prismatic coefficient',\n",
        "         'Length-displacement ratio',\n",
        "         'Beam-draught ratio',\n",
        "         'Length-beam ratio',\n",
        "         'Froude number',\n",
        "         'Residuary resistance per unit weight of displacement']\n",
        "df = pd.read_csv('yacht_hydrodynamics.data', sep=' ', names=names).dropna()\n",
        "df"
      ],
      "metadata": {
        "id": "Lcv6czrHS6r2",
        "outputId": "28ca248c-1d15-41ea-d935-82d39bd1cafe",
        "colab": {
          "base_uri": "https://localhost:8080/",
          "height": 520
        }
      },
      "execution_count": null,
      "outputs": [
        {
          "output_type": "execute_result",
          "data": {
            "text/plain": [
              "     Longitudinal position of the center of buoyancy  Prismatic coefficient  \\\n",
              "0                                               -2.3                  0.568   \n",
              "1                                               -2.3                  0.568   \n",
              "2                                               -2.3                  0.568   \n",
              "3                                               -2.3                  0.568   \n",
              "4                                               -2.3                  0.568   \n",
              "..                                               ...                    ...   \n",
              "303                                             -2.3                  0.600   \n",
              "304                                             -2.3                  0.600   \n",
              "305                                             -2.3                  0.600   \n",
              "306                                             -2.3                  0.600   \n",
              "307                                             -2.3                  0.600   \n",
              "\n",
              "     Length-displacement ratio  Beam-draught ratio  Length-beam ratio  \\\n",
              "0                         4.78                3.99               3.17   \n",
              "1                         4.78                3.99               3.17   \n",
              "2                         4.78                3.99               3.17   \n",
              "3                         4.78                3.99               3.17   \n",
              "4                         4.78                3.99               3.17   \n",
              "..                         ...                 ...                ...   \n",
              "303                       4.34                4.23               2.73   \n",
              "304                       4.34                4.23               2.73   \n",
              "305                       4.34                4.23               2.73   \n",
              "306                       4.34                4.23               2.73   \n",
              "307                       4.34                4.23               2.73   \n",
              "\n",
              "     Froude number  Residuary resistance per unit weight of displacement  \n",
              "0            0.125                                               0.11     \n",
              "1            0.150                                               0.27     \n",
              "2            0.175                                               0.47     \n",
              "3            0.200                                               0.78     \n",
              "4            0.225                                               1.18     \n",
              "..             ...                                                ...     \n",
              "303          0.350                                               8.47     \n",
              "304          0.375                                              12.27     \n",
              "305          0.400                                              19.59     \n",
              "306          0.425                                              30.48     \n",
              "307          0.450                                              46.66     \n",
              "\n",
              "[252 rows x 7 columns]"
            ],
            "text/html": [
              "\n",
              "  <div id=\"df-61ac01bc-223e-4b03-a2e7-4069c34396b6\">\n",
              "    <div class=\"colab-df-container\">\n",
              "      <div>\n",
              "<style scoped>\n",
              "    .dataframe tbody tr th:only-of-type {\n",
              "        vertical-align: middle;\n",
              "    }\n",
              "\n",
              "    .dataframe tbody tr th {\n",
              "        vertical-align: top;\n",
              "    }\n",
              "\n",
              "    .dataframe thead th {\n",
              "        text-align: right;\n",
              "    }\n",
              "</style>\n",
              "<table border=\"1\" class=\"dataframe\">\n",
              "  <thead>\n",
              "    <tr style=\"text-align: right;\">\n",
              "      <th></th>\n",
              "      <th>Longitudinal position of the center of buoyancy</th>\n",
              "      <th>Prismatic coefficient</th>\n",
              "      <th>Length-displacement ratio</th>\n",
              "      <th>Beam-draught ratio</th>\n",
              "      <th>Length-beam ratio</th>\n",
              "      <th>Froude number</th>\n",
              "      <th>Residuary resistance per unit weight of displacement</th>\n",
              "    </tr>\n",
              "  </thead>\n",
              "  <tbody>\n",
              "    <tr>\n",
              "      <th>0</th>\n",
              "      <td>-2.3</td>\n",
              "      <td>0.568</td>\n",
              "      <td>4.78</td>\n",
              "      <td>3.99</td>\n",
              "      <td>3.17</td>\n",
              "      <td>0.125</td>\n",
              "      <td>0.11</td>\n",
              "    </tr>\n",
              "    <tr>\n",
              "      <th>1</th>\n",
              "      <td>-2.3</td>\n",
              "      <td>0.568</td>\n",
              "      <td>4.78</td>\n",
              "      <td>3.99</td>\n",
              "      <td>3.17</td>\n",
              "      <td>0.150</td>\n",
              "      <td>0.27</td>\n",
              "    </tr>\n",
              "    <tr>\n",
              "      <th>2</th>\n",
              "      <td>-2.3</td>\n",
              "      <td>0.568</td>\n",
              "      <td>4.78</td>\n",
              "      <td>3.99</td>\n",
              "      <td>3.17</td>\n",
              "      <td>0.175</td>\n",
              "      <td>0.47</td>\n",
              "    </tr>\n",
              "    <tr>\n",
              "      <th>3</th>\n",
              "      <td>-2.3</td>\n",
              "      <td>0.568</td>\n",
              "      <td>4.78</td>\n",
              "      <td>3.99</td>\n",
              "      <td>3.17</td>\n",
              "      <td>0.200</td>\n",
              "      <td>0.78</td>\n",
              "    </tr>\n",
              "    <tr>\n",
              "      <th>4</th>\n",
              "      <td>-2.3</td>\n",
              "      <td>0.568</td>\n",
              "      <td>4.78</td>\n",
              "      <td>3.99</td>\n",
              "      <td>3.17</td>\n",
              "      <td>0.225</td>\n",
              "      <td>1.18</td>\n",
              "    </tr>\n",
              "    <tr>\n",
              "      <th>...</th>\n",
              "      <td>...</td>\n",
              "      <td>...</td>\n",
              "      <td>...</td>\n",
              "      <td>...</td>\n",
              "      <td>...</td>\n",
              "      <td>...</td>\n",
              "      <td>...</td>\n",
              "    </tr>\n",
              "    <tr>\n",
              "      <th>303</th>\n",
              "      <td>-2.3</td>\n",
              "      <td>0.600</td>\n",
              "      <td>4.34</td>\n",
              "      <td>4.23</td>\n",
              "      <td>2.73</td>\n",
              "      <td>0.350</td>\n",
              "      <td>8.47</td>\n",
              "    </tr>\n",
              "    <tr>\n",
              "      <th>304</th>\n",
              "      <td>-2.3</td>\n",
              "      <td>0.600</td>\n",
              "      <td>4.34</td>\n",
              "      <td>4.23</td>\n",
              "      <td>2.73</td>\n",
              "      <td>0.375</td>\n",
              "      <td>12.27</td>\n",
              "    </tr>\n",
              "    <tr>\n",
              "      <th>305</th>\n",
              "      <td>-2.3</td>\n",
              "      <td>0.600</td>\n",
              "      <td>4.34</td>\n",
              "      <td>4.23</td>\n",
              "      <td>2.73</td>\n",
              "      <td>0.400</td>\n",
              "      <td>19.59</td>\n",
              "    </tr>\n",
              "    <tr>\n",
              "      <th>306</th>\n",
              "      <td>-2.3</td>\n",
              "      <td>0.600</td>\n",
              "      <td>4.34</td>\n",
              "      <td>4.23</td>\n",
              "      <td>2.73</td>\n",
              "      <td>0.425</td>\n",
              "      <td>30.48</td>\n",
              "    </tr>\n",
              "    <tr>\n",
              "      <th>307</th>\n",
              "      <td>-2.3</td>\n",
              "      <td>0.600</td>\n",
              "      <td>4.34</td>\n",
              "      <td>4.23</td>\n",
              "      <td>2.73</td>\n",
              "      <td>0.450</td>\n",
              "      <td>46.66</td>\n",
              "    </tr>\n",
              "  </tbody>\n",
              "</table>\n",
              "<p>252 rows × 7 columns</p>\n",
              "</div>\n",
              "      <button class=\"colab-df-convert\" onclick=\"convertToInteractive('df-61ac01bc-223e-4b03-a2e7-4069c34396b6')\"\n",
              "              title=\"Convert this dataframe to an interactive table.\"\n",
              "              style=\"display:none;\">\n",
              "        \n",
              "  <svg xmlns=\"http://www.w3.org/2000/svg\" height=\"24px\"viewBox=\"0 0 24 24\"\n",
              "       width=\"24px\">\n",
              "    <path d=\"M0 0h24v24H0V0z\" fill=\"none\"/>\n",
              "    <path d=\"M18.56 5.44l.94 2.06.94-2.06 2.06-.94-2.06-.94-.94-2.06-.94 2.06-2.06.94zm-11 1L8.5 8.5l.94-2.06 2.06-.94-2.06-.94L8.5 2.5l-.94 2.06-2.06.94zm10 10l.94 2.06.94-2.06 2.06-.94-2.06-.94-.94-2.06-.94 2.06-2.06.94z\"/><path d=\"M17.41 7.96l-1.37-1.37c-.4-.4-.92-.59-1.43-.59-.52 0-1.04.2-1.43.59L10.3 9.45l-7.72 7.72c-.78.78-.78 2.05 0 2.83L4 21.41c.39.39.9.59 1.41.59.51 0 1.02-.2 1.41-.59l7.78-7.78 2.81-2.81c.8-.78.8-2.07 0-2.86zM5.41 20L4 18.59l7.72-7.72 1.47 1.35L5.41 20z\"/>\n",
              "  </svg>\n",
              "      </button>\n",
              "      \n",
              "  <style>\n",
              "    .colab-df-container {\n",
              "      display:flex;\n",
              "      flex-wrap:wrap;\n",
              "      gap: 12px;\n",
              "    }\n",
              "\n",
              "    .colab-df-convert {\n",
              "      background-color: #E8F0FE;\n",
              "      border: none;\n",
              "      border-radius: 50%;\n",
              "      cursor: pointer;\n",
              "      display: none;\n",
              "      fill: #1967D2;\n",
              "      height: 32px;\n",
              "      padding: 0 0 0 0;\n",
              "      width: 32px;\n",
              "    }\n",
              "\n",
              "    .colab-df-convert:hover {\n",
              "      background-color: #E2EBFA;\n",
              "      box-shadow: 0px 1px 2px rgba(60, 64, 67, 0.3), 0px 1px 3px 1px rgba(60, 64, 67, 0.15);\n",
              "      fill: #174EA6;\n",
              "    }\n",
              "\n",
              "    [theme=dark] .colab-df-convert {\n",
              "      background-color: #3B4455;\n",
              "      fill: #D2E3FC;\n",
              "    }\n",
              "\n",
              "    [theme=dark] .colab-df-convert:hover {\n",
              "      background-color: #434B5C;\n",
              "      box-shadow: 0px 1px 3px 1px rgba(0, 0, 0, 0.15);\n",
              "      filter: drop-shadow(0px 1px 2px rgba(0, 0, 0, 0.3));\n",
              "      fill: #FFFFFF;\n",
              "    }\n",
              "  </style>\n",
              "\n",
              "      <script>\n",
              "        const buttonEl =\n",
              "          document.querySelector('#df-61ac01bc-223e-4b03-a2e7-4069c34396b6 button.colab-df-convert');\n",
              "        buttonEl.style.display =\n",
              "          google.colab.kernel.accessAllowed ? 'block' : 'none';\n",
              "\n",
              "        async function convertToInteractive(key) {\n",
              "          const element = document.querySelector('#df-61ac01bc-223e-4b03-a2e7-4069c34396b6');\n",
              "          const dataTable =\n",
              "            await google.colab.kernel.invokeFunction('convertToInteractive',\n",
              "                                                     [key], {});\n",
              "          if (!dataTable) return;\n",
              "\n",
              "          const docLinkHtml = 'Like what you see? Visit the ' +\n",
              "            '<a target=\"_blank\" href=https://colab.research.google.com/notebooks/data_table.ipynb>data table notebook</a>'\n",
              "            + ' to learn more about interactive tables.';\n",
              "          element.innerHTML = '';\n",
              "          dataTable['output_type'] = 'display_data';\n",
              "          await google.colab.output.renderOutput(dataTable, element);\n",
              "          const docLink = document.createElement('div');\n",
              "          docLink.innerHTML = docLinkHtml;\n",
              "          element.appendChild(docLink);\n",
              "        }\n",
              "      </script>\n",
              "    </div>\n",
              "  </div>\n",
              "  "
            ]
          },
          "metadata": {},
          "execution_count": 25
        }
      ]
    },
    {
      "cell_type": "markdown",
      "source": [
        "### Step 1: Visualize the dataset\n",
        "\n",
        "**Construct a correlation heatmap plot** using the code provided below. The heatmap shows the Pearson correlation coefficient between each pair of variables in the dataset.\n",
        "\n",
        "```python\n",
        "corr = df.corr()\n",
        "corr\n",
        "```\n",
        "\n",
        "```python\n",
        "sns.heatmap(df.corr())\n",
        "```\n",
        "\n",
        "**Answer the following questions**:\n",
        "\n",
        "1. What feature variable(s) have the highest correlation with the task variable ('Residuary resistance per unit weight of displacement')?\n",
        "2. What feature variable(s) have the lowest correlation with the task variable?\n",
        "3. Are there any feature variables that are correlated to one-another i.e. r>0.5?\n",
        "\n",
        "Next, **construct a histogram of the task variable**. Comment on the distribution of values based on visual inspection of the histogram."
      ],
      "metadata": {
        "id": "AjXKHfAeXxiN"
      }
    },
    {
      "cell_type": "code",
      "source": [
        "corr = df.corr()\n",
        "corr\n",
        "#1 Residuary resistance per unit weight of displacement\n",
        "#2 Longitudinal position of the center of buoyancy\n",
        "#3 (Residuary resistance per unit weight of displacement and Froude number correlate) and (Length-beam ratio and Beam-draught ratio correlate)0"
      ],
      "metadata": {
        "id": "a1EWqE7cc4dU",
        "colab": {
          "base_uri": "https://localhost:8080/",
          "height": 628
        },
        "outputId": "9c14453c-2bc0-4dae-bf9d-076a8d7b0178"
      },
      "execution_count": null,
      "outputs": [
        {
          "output_type": "execute_result",
          "data": {
            "text/plain": [
              "                                                    Longitudinal position of the center of buoyancy  \\\n",
              "Longitudinal position of the center of buoyancy                                        1.000000e+00   \n",
              "Prismatic coefficient                                                                 -3.627613e-02   \n",
              "Length-displacement ratio                                                             -1.523423e-01   \n",
              "Beam-draught ratio                                                                    -3.731116e-02   \n",
              "Length-beam ratio                                                                     -7.824646e-02   \n",
              "Froude number                                                                          1.066029e-16   \n",
              "Residuary resistance per unit weight of displac...                                    -2.407050e-03   \n",
              "\n",
              "                                                    Prismatic coefficient  \\\n",
              "Longitudinal position of the center of buoyancy             -3.627613e-02   \n",
              "Prismatic coefficient                                        1.000000e+00   \n",
              "Length-displacement ratio                                   -5.659992e-02   \n",
              "Beam-draught ratio                                           3.146921e-01   \n",
              "Length-beam ratio                                           -1.025282e-01   \n",
              "Froude number                                                4.399300e-16   \n",
              "Residuary resistance per unit weight of displac...          -2.945918e-02   \n",
              "\n",
              "                                                    Length-displacement ratio  \\\n",
              "Longitudinal position of the center of buoyancy                 -1.523423e-01   \n",
              "Prismatic coefficient                                           -5.659992e-02   \n",
              "Length-displacement ratio                                        1.000000e+00   \n",
              "Beam-draught ratio                                               3.946441e-01   \n",
              "Length-beam ratio                                                6.533054e-01   \n",
              "Froude number                                                    8.734784e-17   \n",
              "Residuary resistance per unit weight of displac...              -4.747883e-03   \n",
              "\n",
              "                                                    Beam-draught ratio  \\\n",
              "Longitudinal position of the center of buoyancy          -3.731116e-02   \n",
              "Prismatic coefficient                                     3.146921e-01   \n",
              "Length-displacement ratio                                 3.946441e-01   \n",
              "Beam-draught ratio                                        1.000000e+00   \n",
              "Length-beam ratio                                        -3.969578e-01   \n",
              "Froude number                                            -1.163139e-16   \n",
              "Residuary resistance per unit weight of displac...       -1.356769e-02   \n",
              "\n",
              "                                                    Length-beam ratio  \\\n",
              "Longitudinal position of the center of buoyancy         -7.824646e-02   \n",
              "Prismatic coefficient                                   -1.025282e-01   \n",
              "Length-displacement ratio                                6.533054e-01   \n",
              "Beam-draught ratio                                      -3.969578e-01   \n",
              "Length-beam ratio                                        1.000000e+00   \n",
              "Froude number                                            7.684498e-17   \n",
              "Residuary resistance per unit weight of displac...       6.520978e-05   \n",
              "\n",
              "                                                    Froude number  \\\n",
              "Longitudinal position of the center of buoyancy      1.066029e-16   \n",
              "Prismatic coefficient                                4.399300e-16   \n",
              "Length-displacement ratio                            8.734784e-17   \n",
              "Beam-draught ratio                                  -1.163139e-16   \n",
              "Length-beam ratio                                    7.684498e-17   \n",
              "Froude number                                        1.000000e+00   \n",
              "Residuary resistance per unit weight of displac...   8.079548e-01   \n",
              "\n",
              "                                                    Residuary resistance per unit weight of displacement  \n",
              "Longitudinal position of the center of buoyancy                                             -0.002407     \n",
              "Prismatic coefficient                                                                       -0.029459     \n",
              "Length-displacement ratio                                                                   -0.004748     \n",
              "Beam-draught ratio                                                                          -0.013568     \n",
              "Length-beam ratio                                                                            0.000065     \n",
              "Froude number                                                                                0.807955     \n",
              "Residuary resistance per unit weight of displac...                                           1.000000     "
            ],
            "text/html": [
              "\n",
              "  <div id=\"df-db67d581-8385-44e3-95cb-67ead29f66d1\">\n",
              "    <div class=\"colab-df-container\">\n",
              "      <div>\n",
              "<style scoped>\n",
              "    .dataframe tbody tr th:only-of-type {\n",
              "        vertical-align: middle;\n",
              "    }\n",
              "\n",
              "    .dataframe tbody tr th {\n",
              "        vertical-align: top;\n",
              "    }\n",
              "\n",
              "    .dataframe thead th {\n",
              "        text-align: right;\n",
              "    }\n",
              "</style>\n",
              "<table border=\"1\" class=\"dataframe\">\n",
              "  <thead>\n",
              "    <tr style=\"text-align: right;\">\n",
              "      <th></th>\n",
              "      <th>Longitudinal position of the center of buoyancy</th>\n",
              "      <th>Prismatic coefficient</th>\n",
              "      <th>Length-displacement ratio</th>\n",
              "      <th>Beam-draught ratio</th>\n",
              "      <th>Length-beam ratio</th>\n",
              "      <th>Froude number</th>\n",
              "      <th>Residuary resistance per unit weight of displacement</th>\n",
              "    </tr>\n",
              "  </thead>\n",
              "  <tbody>\n",
              "    <tr>\n",
              "      <th>Longitudinal position of the center of buoyancy</th>\n",
              "      <td>1.000000e+00</td>\n",
              "      <td>-3.627613e-02</td>\n",
              "      <td>-1.523423e-01</td>\n",
              "      <td>-3.731116e-02</td>\n",
              "      <td>-7.824646e-02</td>\n",
              "      <td>1.066029e-16</td>\n",
              "      <td>-0.002407</td>\n",
              "    </tr>\n",
              "    <tr>\n",
              "      <th>Prismatic coefficient</th>\n",
              "      <td>-3.627613e-02</td>\n",
              "      <td>1.000000e+00</td>\n",
              "      <td>-5.659992e-02</td>\n",
              "      <td>3.146921e-01</td>\n",
              "      <td>-1.025282e-01</td>\n",
              "      <td>4.399300e-16</td>\n",
              "      <td>-0.029459</td>\n",
              "    </tr>\n",
              "    <tr>\n",
              "      <th>Length-displacement ratio</th>\n",
              "      <td>-1.523423e-01</td>\n",
              "      <td>-5.659992e-02</td>\n",
              "      <td>1.000000e+00</td>\n",
              "      <td>3.946441e-01</td>\n",
              "      <td>6.533054e-01</td>\n",
              "      <td>8.734784e-17</td>\n",
              "      <td>-0.004748</td>\n",
              "    </tr>\n",
              "    <tr>\n",
              "      <th>Beam-draught ratio</th>\n",
              "      <td>-3.731116e-02</td>\n",
              "      <td>3.146921e-01</td>\n",
              "      <td>3.946441e-01</td>\n",
              "      <td>1.000000e+00</td>\n",
              "      <td>-3.969578e-01</td>\n",
              "      <td>-1.163139e-16</td>\n",
              "      <td>-0.013568</td>\n",
              "    </tr>\n",
              "    <tr>\n",
              "      <th>Length-beam ratio</th>\n",
              "      <td>-7.824646e-02</td>\n",
              "      <td>-1.025282e-01</td>\n",
              "      <td>6.533054e-01</td>\n",
              "      <td>-3.969578e-01</td>\n",
              "      <td>1.000000e+00</td>\n",
              "      <td>7.684498e-17</td>\n",
              "      <td>0.000065</td>\n",
              "    </tr>\n",
              "    <tr>\n",
              "      <th>Froude number</th>\n",
              "      <td>1.066029e-16</td>\n",
              "      <td>4.399300e-16</td>\n",
              "      <td>8.734784e-17</td>\n",
              "      <td>-1.163139e-16</td>\n",
              "      <td>7.684498e-17</td>\n",
              "      <td>1.000000e+00</td>\n",
              "      <td>0.807955</td>\n",
              "    </tr>\n",
              "    <tr>\n",
              "      <th>Residuary resistance per unit weight of displacement</th>\n",
              "      <td>-2.407050e-03</td>\n",
              "      <td>-2.945918e-02</td>\n",
              "      <td>-4.747883e-03</td>\n",
              "      <td>-1.356769e-02</td>\n",
              "      <td>6.520978e-05</td>\n",
              "      <td>8.079548e-01</td>\n",
              "      <td>1.000000</td>\n",
              "    </tr>\n",
              "  </tbody>\n",
              "</table>\n",
              "</div>\n",
              "      <button class=\"colab-df-convert\" onclick=\"convertToInteractive('df-db67d581-8385-44e3-95cb-67ead29f66d1')\"\n",
              "              title=\"Convert this dataframe to an interactive table.\"\n",
              "              style=\"display:none;\">\n",
              "        \n",
              "  <svg xmlns=\"http://www.w3.org/2000/svg\" height=\"24px\"viewBox=\"0 0 24 24\"\n",
              "       width=\"24px\">\n",
              "    <path d=\"M0 0h24v24H0V0z\" fill=\"none\"/>\n",
              "    <path d=\"M18.56 5.44l.94 2.06.94-2.06 2.06-.94-2.06-.94-.94-2.06-.94 2.06-2.06.94zm-11 1L8.5 8.5l.94-2.06 2.06-.94-2.06-.94L8.5 2.5l-.94 2.06-2.06.94zm10 10l.94 2.06.94-2.06 2.06-.94-2.06-.94-.94-2.06-.94 2.06-2.06.94z\"/><path d=\"M17.41 7.96l-1.37-1.37c-.4-.4-.92-.59-1.43-.59-.52 0-1.04.2-1.43.59L10.3 9.45l-7.72 7.72c-.78.78-.78 2.05 0 2.83L4 21.41c.39.39.9.59 1.41.59.51 0 1.02-.2 1.41-.59l7.78-7.78 2.81-2.81c.8-.78.8-2.07 0-2.86zM5.41 20L4 18.59l7.72-7.72 1.47 1.35L5.41 20z\"/>\n",
              "  </svg>\n",
              "      </button>\n",
              "      \n",
              "  <style>\n",
              "    .colab-df-container {\n",
              "      display:flex;\n",
              "      flex-wrap:wrap;\n",
              "      gap: 12px;\n",
              "    }\n",
              "\n",
              "    .colab-df-convert {\n",
              "      background-color: #E8F0FE;\n",
              "      border: none;\n",
              "      border-radius: 50%;\n",
              "      cursor: pointer;\n",
              "      display: none;\n",
              "      fill: #1967D2;\n",
              "      height: 32px;\n",
              "      padding: 0 0 0 0;\n",
              "      width: 32px;\n",
              "    }\n",
              "\n",
              "    .colab-df-convert:hover {\n",
              "      background-color: #E2EBFA;\n",
              "      box-shadow: 0px 1px 2px rgba(60, 64, 67, 0.3), 0px 1px 3px 1px rgba(60, 64, 67, 0.15);\n",
              "      fill: #174EA6;\n",
              "    }\n",
              "\n",
              "    [theme=dark] .colab-df-convert {\n",
              "      background-color: #3B4455;\n",
              "      fill: #D2E3FC;\n",
              "    }\n",
              "\n",
              "    [theme=dark] .colab-df-convert:hover {\n",
              "      background-color: #434B5C;\n",
              "      box-shadow: 0px 1px 3px 1px rgba(0, 0, 0, 0.15);\n",
              "      filter: drop-shadow(0px 1px 2px rgba(0, 0, 0, 0.3));\n",
              "      fill: #FFFFFF;\n",
              "    }\n",
              "  </style>\n",
              "\n",
              "      <script>\n",
              "        const buttonEl =\n",
              "          document.querySelector('#df-db67d581-8385-44e3-95cb-67ead29f66d1 button.colab-df-convert');\n",
              "        buttonEl.style.display =\n",
              "          google.colab.kernel.accessAllowed ? 'block' : 'none';\n",
              "\n",
              "        async function convertToInteractive(key) {\n",
              "          const element = document.querySelector('#df-db67d581-8385-44e3-95cb-67ead29f66d1');\n",
              "          const dataTable =\n",
              "            await google.colab.kernel.invokeFunction('convertToInteractive',\n",
              "                                                     [key], {});\n",
              "          if (!dataTable) return;\n",
              "\n",
              "          const docLinkHtml = 'Like what you see? Visit the ' +\n",
              "            '<a target=\"_blank\" href=https://colab.research.google.com/notebooks/data_table.ipynb>data table notebook</a>'\n",
              "            + ' to learn more about interactive tables.';\n",
              "          element.innerHTML = '';\n",
              "          dataTable['output_type'] = 'display_data';\n",
              "          await google.colab.output.renderOutput(dataTable, element);\n",
              "          const docLink = document.createElement('div');\n",
              "          docLink.innerHTML = docLinkHtml;\n",
              "          element.appendChild(docLink);\n",
              "        }\n",
              "      </script>\n",
              "    </div>\n",
              "  </div>\n",
              "  "
            ]
          },
          "metadata": {},
          "execution_count": 41
        }
      ]
    },
    {
      "cell_type": "code",
      "source": [
        "sns.heatmap(df.corr())"
      ],
      "metadata": {
        "colab": {
          "base_uri": "https://localhost:8080/",
          "height": 543
        },
        "id": "JGGSyl2T-Prn",
        "outputId": "1623089a-b9c2-434c-c12a-fe8729907a1f"
      },
      "execution_count": null,
      "outputs": [
        {
          "output_type": "execute_result",
          "data": {
            "text/plain": [
              "<matplotlib.axes._subplots.AxesSubplot at 0x7fda5fb23eb0>"
            ]
          },
          "metadata": {},
          "execution_count": 28
        },
        {
          "output_type": "display_data",
          "data": {
            "text/plain": [
              "<Figure size 432x288 with 2 Axes>"
            ],
            "image/png": "[encoded data removed]"
          },
          "metadata": {
            "needs_background": "light"
          }
        }
      ]
    },
    {
      "cell_type": "code",
      "source": [],
      "metadata": {
        "id": "pNvmvUJQ-wa4"
      },
      "execution_count": null,
      "outputs": []
    },
    {
      "cell_type": "code",
      "source": [
        "plt.hist(y,bins=30)\n",
        "plt.xlabel('Task')\n",
        "plt.ylabel('Frequency')\n"
      ],
      "metadata": {
        "colab": {
          "base_uri": "https://localhost:8080/",
          "height": 296
        },
        "id": "XNp8exC2-Rp_",
        "outputId": "a1e1aaf7-8d77-4312-bf63-73d2c9c3c0cd"
      },
      "execution_count": null,
      "outputs": [
        {
          "output_type": "execute_result",
          "data": {
            "text/plain": [
              "Text(0, 0.5, 'Frequency')"
            ]
          },
          "metadata": {},
          "execution_count": 68
        },
        {
          "output_type": "display_data",
          "data": {
            "text/plain": [
              "<Figure size 432x288 with 1 Axes>"
            ],
            "image/png": "[encoded data removed]"
          },
          "metadata": {
            "needs_background": "light"
          }
        }
      ]
    },
    {
      "cell_type": "markdown",
      "source": [
        "### Step 2: Prepare the dataset for modeling\n",
        "\n",
        "**Split the dataset into features (`X`) and task/labels (`y`). Split the features/labels into training and testing sets.**"
      ],
      "metadata": {
        "id": "-f5EgxhwaWsT"
      }
    },
    {
      "cell_type": "code",
      "source": [
        "x = df[['Longitudinal position of the center of buoyancy','Prismatic coefficient','Length-displacement ratio','Beam-draught ratio','Length-beam ratio','Froude number','Residuary resistance per unit weight of displacement']].values\n",
        "y = df['Residuary resistance per unit weight of displacement']\n",
        "x_train,x_test,y_train,y_test = train_test_split(x,y,random_state = 1234)"
      ],
      "metadata": {
        "id": "tEYSvj0cawBN",
        "colab": {
          "base_uri": "https://localhost:8080/",
          "height": 106
        },
        "outputId": "12abd5de-2af7-441b-dcc5-918e8308899d"
      },
      "execution_count": null,
      "outputs": [
        {
          "output_type": "display_data",
          "data": {
            "text/plain": [
              "<Figure size 288x72 with 1 Axes>"
            ],
            "image/png": "[encoded data removed]"
          },
          "metadata": {
            "needs_background": "light"
          }
        }
      ]
    },
    {
      "cell_type": "markdown",
      "source": [
        "### Step 3: Log transformation of labels\n",
        "\n",
        "Performing a log-transformation of the label variable before modeling can be useful when the prediction task (1) is strictly greater than zero and (2) varies over several orders of magnitude.\n",
        "\n",
        "**Perform a natural log transformation of the training and testing set prediction task**\n",
        "```python\n",
        "y_train = np.log(y_train)\n",
        "y_test = np.log(y_test)\n",
        "```\n",
        "\n",
        "Next, **construct a histogram of the transformed task variable**. Comment on the distribution of values based on visual inspection of the histogram."
      ],
      "metadata": {
        "id": "MCQ25CUIcaj8"
      }
    },
    {
      "cell_type": "code",
      "source": [
        "y_train = np.log(y_train)\n",
        "y_test = np.log(y_test)"
      ],
      "metadata": {
        "id": "vlOuWSVo_oWd"
      },
      "execution_count": null,
      "outputs": []
    },
    {
      "cell_type": "code",
      "source": [
        "plt.hist(y_train,bins=30)\n",
        "plt.xlabel('Transformed Task Variable')\n",
        "plt.ylabel('Frequency')"
      ],
      "metadata": {
        "id": "97mKqZipbx6D",
        "colab": {
          "base_uri": "https://localhost:8080/",
          "height": 296
        },
        "outputId": "485f0ae9-2230-4633-ba61-721a0fb686c7"
      },
      "execution_count": null,
      "outputs": [
        {
          "output_type": "execute_result",
          "data": {
            "text/plain": [
              "Text(0, 0.5, 'Frequency')"
            ]
          },
          "metadata": {},
          "execution_count": 65
        },
        {
          "output_type": "display_data",
          "data": {
            "text/plain": [
              "<Figure size 432x288 with 1 Axes>"
            ],
            "image/png": "[encoded data removed]"
          },
          "metadata": {
            "needs_background": "light"
          }
        }
      ]
    },
    {
      "cell_type": "markdown",
      "source": [
        "### Step 4: Model training and scoring\n",
        "\n",
        "**Train a `LinearRegression` model using the training set. Evaluate the model on the test set using the `mean_squared_error` and `r2_score` metrics.** Note: Be sure to *reverse* the log transformation applied in step 3 before computing the metrics."
      ],
      "metadata": {
        "id": "ldzWxlPkawI8"
      }
    },
    {
      "cell_type": "code",
      "source": [
        "from sklearn.linear_model import LinearRegression\n",
        "from sklearn.metrics import mean_squared_error, r2_score\n",
        "\n",
        "regr = LinearRegression()\n",
        "regr.fit(x_train,y_train)\n",
        "y_pred = regr.predict(x_test)\n",
        "y_pred = np.exp(y_pred)\n",
        "y_test = np.exp(y_test)\n",
        "squared_error = mean_squared_error(y_test,y_pred)\n",
        "r2 = r2_score(y_test,y_pred)\n",
        "print(squared_error)\n",
        "print(r2)\n"
      ],
      "metadata": {
        "id": "cpuSPN8vg9Sc",
        "colab": {
          "base_uri": "https://localhost:8080/"
        },
        "outputId": "a03a7ebd-6e1f-430c-ebad-ff976f25d1d5"
      },
      "execution_count": null,
      "outputs": [
        {
          "output_type": "stream",
          "name": "stdout",
          "text": [
            "6.206492131665429\n",
            "0.9713604792421806\n"
          ]
        }
      ]
    },
    {
      "cell_type": "markdown",
      "source": [
        "### Step 5: Visualize the results\n",
        "\n",
        "**Construct a parity plot comparing the ground truth labels with the model predictions on the test set.** The parity plot should contain (1) a scatter plot showing the ground truth (x-axis) and predictions (y-axis) and (2) a parity line (or, a line where x=y). Be sure to follow all plotting guidelines."
      ],
      "metadata": {
        "id": "ft6ZQASxiJlD"
      }
    },
    {
      "cell_type": "code",
      "source": [
        "plt.scatter(y_test,y_pred)\n",
        "plt.plot([min(y_test),max(y_test)],[min(y_test),max(y_test)],'k--')\n",
        "plt.xlabel('Real Values')\n",
        "plt.ylabel('predicted labels')"
      ],
      "metadata": {
        "id": "hniPz_Zkinxi",
        "colab": {
          "base_uri": "https://localhost:8080/",
          "height": 296
        },
        "outputId": "e342dab8-3d7f-4d20-c266-42342267df0a"
      },
      "execution_count": null,
      "outputs": [
        {
          "output_type": "execute_result",
          "data": {
            "text/plain": [
              "Text(0, 0.5, 'predicted labels')"
            ]
          },
          "metadata": {},
          "execution_count": 67
        },
        {
          "output_type": "display_data",
          "data": {
            "text/plain": [
              "<Figure size 432x288 with 1 Axes>"
            ],
            "image/png": "[encoded data removed]"
          },
          "metadata": {
            "needs_background": "light"
          }
        }
      ]
    },
    {
      "cell_type": "markdown",
      "source": [
        "## 2. K-Nearest Neighbors Classification - Steel Plate Fault Analysis\n",
        "\n",
        "The goal of this learning task is to correctly classify the type of surface defects in stainless steel plates, with seven types of possible defects. The features are a set of 27 indicators that approximately describe the geometric shape of the defect and its outline.\n",
        "\n",
        "Data Set Information:\n",
        "\n",
        "Type of dependent variables (7 Types of Steel Plates Faults):\n",
        "1. Pastry\n",
        "2. Z_Scratch\n",
        "3. K_Scratch\n",
        "4. Stains\n",
        "5. Dirtiness\n",
        "6. Bumps\n",
        "7. Other_Faults\n",
        "\n",
        "A value of \"1\" indicates the presence of a particular fault class in a sample and a value of \"0\" indicates the absense of that particular fault class.\n",
        "\n",
        "Attribute Information:\n",
        "\n",
        "27 independent variables:\n",
        "1. X_Minimum\n",
        "2. X_Maximum\n",
        "3. Y_Minimum\n",
        "4. Y_Maximum\n",
        "5. Pixels_Areas\n",
        "6. X_Perimeter\n",
        "7. Y_Perimeter\n",
        "8. Sum_of_Luminosity\n",
        "9. Minimum_of_Luminosity\n",
        "10. Maximum_of_Luminosity\n",
        "11. Length_of_Conveyer\n",
        "12. TypeOfSteel_A300\n",
        "13. TypeOfSteel_A400\n",
        "14. Steel_Plate_Thickness\n",
        "15. Edges_Index\n",
        "16. Empty_Index\n",
        "17. Square_Index\n",
        "18. Outside_X_Index\n",
        "19. Edges_X_Index\n",
        "20. Edges_Y_Index\n",
        "21. Outside_Global_Index\n",
        "22. LogOfAreas\n",
        "23. Log_X_Index\n",
        "24. Log_Y_Index\n",
        "25. Orientation_Index\n",
        "26. Luminosity_Index\n",
        "27. SigmoidOfAreas\n",
        "\n",
        "Relevant Papers:\n",
        "\n",
        "1.M Buscema, S Terzi, W Tastle, A New Meta-Classifier,in NAFIPS 2010, Toronto (CANADA),26-28 July 2010, 978-1-4244-7858-6/10 Â©2010 IEEE\n",
        "\n",
        "2.M Buscema, MetaNet: The Theory of Independent Judges, in Substance Use & Misuse, 33(2), 439-461,1998\n"
      ],
      "metadata": {
        "id": "ZnO4BmAcfEM_"
      }
    },
    {
      "cell_type": "markdown",
      "source": [
        "### Step 0: Load the dataset"
      ],
      "metadata": {
        "id": "871L5Zd8kMuq"
      }
    },
    {
      "cell_type": "code",
      "source": [
        "!wget http://archive.ics.uci.edu/ml/machine-learning-databases/00198/Faults27x7_var\n",
        "!wget http://archive.ics.uci.edu/ml/machine-learning-databases/00198/Faults.NNA"
      ],
      "metadata": {
        "id": "7jPLpohDfEcR",
        "colab": {
          "base_uri": "https://localhost:8080/"
        },
        "outputId": "71dacbe0-8f03-4d38-f839-99f72c229400"
      },
      "execution_count": null,
      "outputs": [
        {
          "output_type": "stream",
          "name": "stdout",
          "text": [
            "--2023-02-22 00:41:44--  http://archive.ics.uci.edu/ml/machine-learning-databases/00198/Faults27x7_var\n",
            "Resolving archive.ics.uci.edu (archive.ics.uci.edu)... 128.195.10.252\n",
            "Connecting to archive.ics.uci.edu (archive.ics.uci.edu)|128.195.10.252|:80... connected.\n",
            "HTTP request sent, awaiting response... 200 OK\n",
            "Length: 497 [application/x-httpd-php]\n",
            "Saving to: ‘Faults27x7_var’\n",
            "\n",
            "\rFaults27x7_var        0%[                    ]       0  --.-KB/s               \rFaults27x7_var      100%[===================>]     497  --.-KB/s    in 0s      \n",
            "\n",
            "2023-02-22 00:41:44 (41.2 MB/s) - ‘Faults27x7_var’ saved [497/497]\n",
            "\n",
            "--2023-02-22 00:41:44--  http://archive.ics.uci.edu/ml/machine-learning-databases/00198/Faults.NNA\n",
            "Resolving archive.ics.uci.edu (archive.ics.uci.edu)... 128.195.10.252\n",
            "Connecting to archive.ics.uci.edu (archive.ics.uci.edu)|128.195.10.252|:80... connected.\n",
            "HTTP request sent, awaiting response... 200 OK\n",
            "Length: 299482 (292K) [application/x-httpd-php]\n",
            "Saving to: ‘Faults.NNA’\n",
            "\n",
            "Faults.NNA          100%[===================>] 292.46K  1.07MB/s    in 0.3s    \n",
            "\n",
            "2023-02-22 00:41:45 (1.07 MB/s) - ‘Faults.NNA’ saved [299482/299482]\n",
            "\n"
          ]
        }
      ]
    },
    {
      "cell_type": "code",
      "source": [
        "names = pd.read_csv('Faults27x7_var', header=None).T.iloc[0]\n",
        "df = pd.read_csv('Faults.NNA', sep='\\t', names=names)\n",
        "df"
      ],
      "metadata": {
        "id": "xBKSI2tinRx4",
        "colab": {
          "base_uri": "https://localhost:8080/",
          "height": 424
        },
        "outputId": "ff94a7e7-2b7c-4ad8-e107-cc61e8828970"
      },
      "execution_count": null,
      "outputs": [
        {
          "output_type": "execute_result",
          "data": {
            "text/plain": [
              "      X_Minimum  X_Maximum  Y_Minimum  Y_Maximum  Pixels_Areas  X_Perimeter  \\\n",
              "0            42         50     270900     270944           267           17   \n",
              "1           645        651    2538079    2538108           108           10   \n",
              "2           829        835    1553913    1553931            71            8   \n",
              "3           853        860     369370     369415           176           13   \n",
              "4          1289       1306     498078     498335          2409           60   \n",
              "...         ...        ...        ...        ...           ...          ...   \n",
              "1936        249        277     325780     325796           273           54   \n",
              "1937        144        175     340581     340598           287           44   \n",
              "1938        145        174     386779     386794           292           40   \n",
              "1939        137        170     422497     422528           419           97   \n",
              "1940       1261       1281      87951      87967           103           26   \n",
              "\n",
              "      Y_Perimeter  Sum_of_Luminosity  Minimum_of_Luminosity  \\\n",
              "0              44              24220                     76   \n",
              "1              30              11397                     84   \n",
              "2              19               7972                     99   \n",
              "3              45              18996                     99   \n",
              "4             260             246930                     37   \n",
              "...           ...                ...                    ...   \n",
              "1936           22              35033                    119   \n",
              "1937           24              34599                    112   \n",
              "1938           22              37572                    120   \n",
              "1939           47              52715                    117   \n",
              "1940           22              11682                    101   \n",
              "\n",
              "      Maximum_of_Luminosity  ...  Orientation_Index  Luminosity_Index  \\\n",
              "0                       108  ...             0.8182           -0.2913   \n",
              "1                       123  ...             0.7931           -0.1756   \n",
              "2                       125  ...             0.6667           -0.1228   \n",
              "3                       126  ...             0.8444           -0.1568   \n",
              "4                       126  ...             0.9338           -0.1992   \n",
              "...                     ...  ...                ...               ...   \n",
              "1936                    141  ...            -0.4286            0.0026   \n",
              "1937                    133  ...            -0.4516           -0.0582   \n",
              "1938                    140  ...            -0.4828            0.0052   \n",
              "1939                    140  ...            -0.0606           -0.0171   \n",
              "1940                    133  ...            -0.2000           -0.1139   \n",
              "\n",
              "      SigmoidOfAreas  Pastry  Z_Scratch  K_Scatch  Stains  Dirtiness  Bumps  \\\n",
              "0             0.5822       1          0         0       0          0      0   \n",
              "1             0.2984       1          0         0       0          0      0   \n",
              "2             0.2150       1          0         0       0          0      0   \n",
              "3             0.5212       1          0         0       0          0      0   \n",
              "4             1.0000       1          0         0       0          0      0   \n",
              "...              ...     ...        ...       ...     ...        ...    ...   \n",
              "1936          0.7254       0          0         0       0          0      0   \n",
              "1937          0.8173       0          0         0       0          0      0   \n",
              "1938          0.7079       0          0         0       0          0      0   \n",
              "1939          0.9919       0          0         0       0          0      0   \n",
              "1940          0.5296       0          0         0       0          0      0   \n",
              "\n",
              "      Other_Faults  \n",
              "0                0  \n",
              "1                0  \n",
              "2                0  \n",
              "3                0  \n",
              "4                0  \n",
              "...            ...  \n",
              "1936             1  \n",
              "1937             1  \n",
              "1938             1  \n",
              "1939             1  \n",
              "1940             1  \n",
              "\n",
              "[1941 rows x 34 columns]"
            ],
            "text/html": [
              "\n",
              "  <div id=\"df-7090e767-fc65-4fcd-90f0-bef7e7bde0d2\">\n",
              "    <div class=\"colab-df-container\">\n",
              "      <div>\n",
              "<style scoped>\n",
              "    .dataframe tbody tr th:only-of-type {\n",
              "        vertical-align: middle;\n",
              "    }\n",
              "\n",
              "    .dataframe tbody tr th {\n",
              "        vertical-align: top;\n",
              "    }\n",
              "\n",
              "    .dataframe thead th {\n",
              "        text-align: right;\n",
              "    }\n",
              "</style>\n",
              "<table border=\"1\" class=\"dataframe\">\n",
              "  <thead>\n",
              "    <tr style=\"text-align: right;\">\n",
              "      <th></th>\n",
              "      <th>X_Minimum</th>\n",
              "      <th>X_Maximum</th>\n",
              "      <th>Y_Minimum</th>\n",
              "      <th>Y_Maximum</th>\n",
              "      <th>Pixels_Areas</th>\n",
              "      <th>X_Perimeter</th>\n",
              "      <th>Y_Perimeter</th>\n",
              "      <th>Sum_of_Luminosity</th>\n",
              "      <th>Minimum_of_Luminosity</th>\n",
              "      <th>Maximum_of_Luminosity</th>\n",
              "      <th>...</th>\n",
              "      <th>Orientation_Index</th>\n",
              "      <th>Luminosity_Index</th>\n",
              "      <th>SigmoidOfAreas</th>\n",
              "      <th>Pastry</th>\n",
              "      <th>Z_Scratch</th>\n",
              "      <th>K_Scatch</th>\n",
              "      <th>Stains</th>\n",
              "      <th>Dirtiness</th>\n",
              "      <th>Bumps</th>\n",
              "      <th>Other_Faults</th>\n",
              "    </tr>\n",
              "  </thead>\n",
              "  <tbody>\n",
              "    <tr>\n",
              "      <th>0</th>\n",
              "      <td>42</td>\n",
              "      <td>50</td>\n",
              "      <td>270900</td>\n",
              "      <td>270944</td>\n",
              "      <td>267</td>\n",
              "      <td>17</td>\n",
              "      <td>44</td>\n",
              "      <td>24220</td>\n",
              "      <td>76</td>\n",
              "      <td>108</td>\n",
              "      <td>...</td>\n",
              "      <td>0.8182</td>\n",
              "      <td>-0.2913</td>\n",
              "      <td>0.5822</td>\n",
              "      <td>1</td>\n",
              "      <td>0</td>\n",
              "      <td>0</td>\n",
              "      <td>0</td>\n",
              "      <td>0</td>\n",
              "      <td>0</td>\n",
              "      <td>0</td>\n",
              "    </tr>\n",
              "    <tr>\n",
              "      <th>1</th>\n",
              "      <td>645</td>\n",
              "      <td>651</td>\n",
              "      <td>2538079</td>\n",
              "      <td>2538108</td>\n",
              "      <td>108</td>\n",
              "      <td>10</td>\n",
              "      <td>30</td>\n",
              "      <td>11397</td>\n",
              "      <td>84</td>\n",
              "      <td>123</td>\n",
              "      <td>...</td>\n",
              "      <td>0.7931</td>\n",
              "      <td>-0.1756</td>\n",
              "      <td>0.2984</td>\n",
              "      <td>1</td>\n",
              "      <td>0</td>\n",
              "      <td>0</td>\n",
              "      <td>0</td>\n",
              "      <td>0</td>\n",
              "      <td>0</td>\n",
              "      <td>0</td>\n",
              "    </tr>\n",
              "    <tr>\n",
              "      <th>2</th>\n",
              "      <td>829</td>\n",
              "      <td>835</td>\n",
              "      <td>1553913</td>\n",
              "      <td>1553931</td>\n",
              "      <td>71</td>\n",
              "      <td>8</td>\n",
              "      <td>19</td>\n",
              "      <td>7972</td>\n",
              "      <td>99</td>\n",
              "      <td>125</td>\n",
              "      <td>...</td>\n",
              "      <td>0.6667</td>\n",
              "      <td>-0.1228</td>\n",
              "      <td>0.2150</td>\n",
              "      <td>1</td>\n",
              "      <td>0</td>\n",
              "      <td>0</td>\n",
              "      <td>0</td>\n",
              "      <td>0</td>\n",
              "      <td>0</td>\n",
              "      <td>0</td>\n",
              "    </tr>\n",
              "    <tr>\n",
              "      <th>3</th>\n",
              "      <td>853</td>\n",
              "      <td>860</td>\n",
              "      <td>369370</td>\n",
              "      <td>369415</td>\n",
              "      <td>176</td>\n",
              "      <td>13</td>\n",
              "      <td>45</td>\n",
              "      <td>18996</td>\n",
              "      <td>99</td>\n",
              "      <td>126</td>\n",
              "      <td>...</td>\n",
              "      <td>0.8444</td>\n",
              "      <td>-0.1568</td>\n",
              "      <td>0.5212</td>\n",
              "      <td>1</td>\n",
              "      <td>0</td>\n",
              "      <td>0</td>\n",
              "      <td>0</td>\n",
              "      <td>0</td>\n",
              "      <td>0</td>\n",
              "      <td>0</td>\n",
              "    </tr>\n",
              "    <tr>\n",
              "      <th>4</th>\n",
              "      <td>1289</td>\n",
              "      <td>1306</td>\n",
              "      <td>498078</td>\n",
              "      <td>498335</td>\n",
              "      <td>2409</td>\n",
              "      <td>60</td>\n",
              "      <td>260</td>\n",
              "      <td>246930</td>\n",
              "      <td>37</td>\n",
              "      <td>126</td>\n",
              "      <td>...</td>\n",
              "      <td>0.9338</td>\n",
              "      <td>-0.1992</td>\n",
              "      <td>1.0000</td>\n",
              "      <td>1</td>\n",
              "      <td>0</td>\n",
              "      <td>0</td>\n",
              "      <td>0</td>\n",
              "      <td>0</td>\n",
              "      <td>0</td>\n",
              "      <td>0</td>\n",
              "    </tr>\n",
              "    <tr>\n",
              "      <th>...</th>\n",
              "      <td>...</td>\n",
              "      <td>...</td>\n",
              "      <td>...</td>\n",
              "      <td>...</td>\n",
              "      <td>...</td>\n",
              "      <td>...</td>\n",
              "      <td>...</td>\n",
              "      <td>...</td>\n",
              "      <td>...</td>\n",
              "      <td>...</td>\n",
              "      <td>...</td>\n",
              "      <td>...</td>\n",
              "      <td>...</td>\n",
              "      <td>...</td>\n",
              "      <td>...</td>\n",
              "      <td>...</td>\n",
              "      <td>...</td>\n",
              "      <td>...</td>\n",
              "      <td>...</td>\n",
              "      <td>...</td>\n",
              "      <td>...</td>\n",
              "    </tr>\n",
              "    <tr>\n",
              "      <th>1936</th>\n",
              "      <td>249</td>\n",
              "      <td>277</td>\n",
              "      <td>325780</td>\n",
              "      <td>325796</td>\n",
              "      <td>273</td>\n",
              "      <td>54</td>\n",
              "      <td>22</td>\n",
              "      <td>35033</td>\n",
              "      <td>119</td>\n",
              "      <td>141</td>\n",
              "      <td>...</td>\n",
              "      <td>-0.4286</td>\n",
              "      <td>0.0026</td>\n",
              "      <td>0.7254</td>\n",
              "      <td>0</td>\n",
              "      <td>0</td>\n",
              "      <td>0</td>\n",
              "      <td>0</td>\n",
              "      <td>0</td>\n",
              "      <td>0</td>\n",
              "      <td>1</td>\n",
              "    </tr>\n",
              "    <tr>\n",
              "      <th>1937</th>\n",
              "      <td>144</td>\n",
              "      <td>175</td>\n",
              "      <td>340581</td>\n",
              "      <td>340598</td>\n",
              "      <td>287</td>\n",
              "      <td>44</td>\n",
              "      <td>24</td>\n",
              "      <td>34599</td>\n",
              "      <td>112</td>\n",
              "      <td>133</td>\n",
              "      <td>...</td>\n",
              "      <td>-0.4516</td>\n",
              "      <td>-0.0582</td>\n",
              "      <td>0.8173</td>\n",
              "      <td>0</td>\n",
              "      <td>0</td>\n",
              "      <td>0</td>\n",
              "      <td>0</td>\n",
              "      <td>0</td>\n",
              "      <td>0</td>\n",
              "      <td>1</td>\n",
              "    </tr>\n",
              "    <tr>\n",
              "      <th>1938</th>\n",
              "      <td>145</td>\n",
              "      <td>174</td>\n",
              "      <td>386779</td>\n",
              "      <td>386794</td>\n",
              "      <td>292</td>\n",
              "      <td>40</td>\n",
              "      <td>22</td>\n",
              "      <td>37572</td>\n",
              "      <td>120</td>\n",
              "      <td>140</td>\n",
              "      <td>...</td>\n",
              "      <td>-0.4828</td>\n",
              "      <td>0.0052</td>\n",
              "      <td>0.7079</td>\n",
              "      <td>0</td>\n",
              "      <td>0</td>\n",
              "      <td>0</td>\n",
              "      <td>0</td>\n",
              "      <td>0</td>\n",
              "      <td>0</td>\n",
              "      <td>1</td>\n",
              "    </tr>\n",
              "    <tr>\n",
              "      <th>1939</th>\n",
              "      <td>137</td>\n",
              "      <td>170</td>\n",
              "      <td>422497</td>\n",
              "      <td>422528</td>\n",
              "      <td>419</td>\n",
              "      <td>97</td>\n",
              "      <td>47</td>\n",
              "      <td>52715</td>\n",
              "      <td>117</td>\n",
              "      <td>140</td>\n",
              "      <td>...</td>\n",
              "      <td>-0.0606</td>\n",
              "      <td>-0.0171</td>\n",
              "      <td>0.9919</td>\n",
              "      <td>0</td>\n",
              "      <td>0</td>\n",
              "      <td>0</td>\n",
              "      <td>0</td>\n",
              "      <td>0</td>\n",
              "      <td>0</td>\n",
              "      <td>1</td>\n",
              "    </tr>\n",
              "    <tr>\n",
              "      <th>1940</th>\n",
              "      <td>1261</td>\n",
              "      <td>1281</td>\n",
              "      <td>87951</td>\n",
              "      <td>87967</td>\n",
              "      <td>103</td>\n",
              "      <td>26</td>\n",
              "      <td>22</td>\n",
              "      <td>11682</td>\n",
              "      <td>101</td>\n",
              "      <td>133</td>\n",
              "      <td>...</td>\n",
              "      <td>-0.2000</td>\n",
              "      <td>-0.1139</td>\n",
              "      <td>0.5296</td>\n",
              "      <td>0</td>\n",
              "      <td>0</td>\n",
              "      <td>0</td>\n",
              "      <td>0</td>\n",
              "      <td>0</td>\n",
              "      <td>0</td>\n",
              "      <td>1</td>\n",
              "    </tr>\n",
              "  </tbody>\n",
              "</table>\n",
              "<p>1941 rows × 34 columns</p>\n",
              "</div>\n",
              "      <button class=\"colab-df-convert\" onclick=\"convertToInteractive('df-7090e767-fc65-4fcd-90f0-bef7e7bde0d2')\"\n",
              "              title=\"Convert this dataframe to an interactive table.\"\n",
              "              style=\"display:none;\">\n",
              "        \n",
              "  <svg xmlns=\"http://www.w3.org/2000/svg\" height=\"24px\"viewBox=\"0 0 24 24\"\n",
              "       width=\"24px\">\n",
              "    <path d=\"M0 0h24v24H0V0z\" fill=\"none\"/>\n",
              "    <path d=\"M18.56 5.44l.94 2.06.94-2.06 2.06-.94-2.06-.94-.94-2.06-.94 2.06-2.06.94zm-11 1L8.5 8.5l.94-2.06 2.06-.94-2.06-.94L8.5 2.5l-.94 2.06-2.06.94zm10 10l.94 2.06.94-2.06 2.06-.94-2.06-.94-.94-2.06-.94 2.06-2.06.94z\"/><path d=\"M17.41 7.96l-1.37-1.37c-.4-.4-.92-.59-1.43-.59-.52 0-1.04.2-1.43.59L10.3 9.45l-7.72 7.72c-.78.78-.78 2.05 0 2.83L4 21.41c.39.39.9.59 1.41.59.51 0 1.02-.2 1.41-.59l7.78-7.78 2.81-2.81c.8-.78.8-2.07 0-2.86zM5.41 20L4 18.59l7.72-7.72 1.47 1.35L5.41 20z\"/>\n",
              "  </svg>\n",
              "      </button>\n",
              "      \n",
              "  <style>\n",
              "    .colab-df-container {\n",
              "      display:flex;\n",
              "      flex-wrap:wrap;\n",
              "      gap: 12px;\n",
              "    }\n",
              "\n",
              "    .colab-df-convert {\n",
              "      background-color: #E8F0FE;\n",
              "      border: none;\n",
              "      border-radius: 50%;\n",
              "      cursor: pointer;\n",
              "      display: none;\n",
              "      fill: #1967D2;\n",
              "      height: 32px;\n",
              "      padding: 0 0 0 0;\n",
              "      width: 32px;\n",
              "    }\n",
              "\n",
              "    .colab-df-convert:hover {\n",
              "      background-color: #E2EBFA;\n",
              "      box-shadow: 0px 1px 2px rgba(60, 64, 67, 0.3), 0px 1px 3px 1px rgba(60, 64, 67, 0.15);\n",
              "      fill: #174EA6;\n",
              "    }\n",
              "\n",
              "    [theme=dark] .colab-df-convert {\n",
              "      background-color: #3B4455;\n",
              "      fill: #D2E3FC;\n",
              "    }\n",
              "\n",
              "    [theme=dark] .colab-df-convert:hover {\n",
              "      background-color: #434B5C;\n",
              "      box-shadow: 0px 1px 3px 1px rgba(0, 0, 0, 0.15);\n",
              "      filter: drop-shadow(0px 1px 2px rgba(0, 0, 0, 0.3));\n",
              "      fill: #FFFFFF;\n",
              "    }\n",
              "  </style>\n",
              "\n",
              "      <script>\n",
              "        const buttonEl =\n",
              "          document.querySelector('#df-7090e767-fc65-4fcd-90f0-bef7e7bde0d2 button.colab-df-convert');\n",
              "        buttonEl.style.display =\n",
              "          google.colab.kernel.accessAllowed ? 'block' : 'none';\n",
              "\n",
              "        async function convertToInteractive(key) {\n",
              "          const element = document.querySelector('#df-7090e767-fc65-4fcd-90f0-bef7e7bde0d2');\n",
              "          const dataTable =\n",
              "            await google.colab.kernel.invokeFunction('convertToInteractive',\n",
              "                                                     [key], {});\n",
              "          if (!dataTable) return;\n",
              "\n",
              "          const docLinkHtml = 'Like what you see? Visit the ' +\n",
              "            '<a target=\"_blank\" href=https://colab.research.google.com/notebooks/data_table.ipynb>data table notebook</a>'\n",
              "            + ' to learn more about interactive tables.';\n",
              "          element.innerHTML = '';\n",
              "          dataTable['output_type'] = 'display_data';\n",
              "          await google.colab.output.renderOutput(dataTable, element);\n",
              "          const docLink = document.createElement('div');\n",
              "          docLink.innerHTML = docLinkHtml;\n",
              "          element.appendChild(docLink);\n",
              "        }\n",
              "      </script>\n",
              "    </div>\n",
              "  </div>\n",
              "  "
            ]
          },
          "metadata": {},
          "execution_count": 4
        }
      ]
    },
    {
      "cell_type": "markdown",
      "source": [
        "### Step 1: Visualize the dataset\n",
        "\n",
        "**Produce a `sns.pairplot`** showing the distribution of values of `Steel_Plate_Thickness`, `TypeOfSteel_A300`, `TypeOfSteel_A400`. Use the task label `Bumps` to color the points.\n",
        "\n",
        "**Answer the following questions:**\n",
        "1. **What type of steel is more likely to have bump faults**: A300 or A400?\n",
        "2. **What thickness of steel is more likely to have bump faults**: less than 100 or greater than 100?"
      ],
      "metadata": {
        "id": "qiBW3-_8kO5S"
      }
    },
    {
      "cell_type": "code",
      "source": [
        "thickness = df['Steel_Plate_Thickness']\n",
        "A300 = df['TypeOfSteel_A300']\n",
        "A400 = df['TypeOfSteel_A400']\n",
        "bumps = df['Bumps']\n",
        "all3 = pd.concat([thickness,A300,A400,bumps],axis = 1)\n",
        "sns.pairplot(data=all3,hue='Bumps')"
      ],
      "metadata": {
        "id": "BXPvLMy8oaYC",
        "colab": {
          "base_uri": "https://localhost:8080/",
          "height": 567
        },
        "outputId": "ff08e7c2-9cf0-4695-90c3-aa113eb07728"
      },
      "execution_count": null,
      "outputs": [
        {
          "output_type": "execute_result",
          "data": {
            "text/plain": [
              "<seaborn.axisgrid.PairGrid at 0x7fccf2886160>"
            ]
          },
          "metadata": {},
          "execution_count": 5
        },
        {
          "output_type": "display_data",
          "data": {
            "text/plain": [
              "<Figure size 582.375x540 with 12 Axes>"
            ],
            "image/png": "[encoded data removed]"
          },
          "metadata": {
            "needs_background": "light"
          }
        }
      ]
    },
    {
      "cell_type": "markdown",
      "source": [
        "1) A400 is more likely to have bumps faults\n",
        "2)less than 100 is more likely to have bump faults"
      ],
      "metadata": {
        "id": "T7phjPgy8bWj"
      }
    },
    {
      "cell_type": "markdown",
      "source": [
        "### Step 2: Prepare the dataset for modeling\n",
        "\n",
        "For this homework problem, **we will focus on the `Bumps` prediction task.** **Split the dataset into features (`X`) and task/labels (`y`). Split the features/labels into training and testing sets.** Be sure to include only the `Bumps` task in the labels array, and be sure to exclude all task/label data from the features."
      ],
      "metadata": {
        "id": "cEaJiiqckxzp"
      }
    },
    {
      "cell_type": "code",
      "source": [
        "from sklearn.model_selection import train_test_split,GridSearchCV\n",
        "x = df[['X_Minimum','X_Maximum','Y_Minimum','Y_Maximum','Pixels_Areas','X_Perimeter','Y_Perimeter','Sum_of_Luminosity','Minimum_of_Luminosity','Maximum_of_Luminosity','Length_of_Conveyer','TypeOfSteel_A300','TypeOfSteel_A400','Steel_Plate_Thickness','Edges_Index','Empty_Index','Square_Index','Outside_X_Index','Edges_X_Index','Edges_Y_Index','Outside_Global_Index','LogOfAreas','Log_X_Index','Log_Y_Index','Orientation_Index','Luminosity_Index','SigmoidOfAreas']].values\n",
        "y = df['Bumps'].values\n",
        "x_train,x_test,y_train,y_test = train_test_split(x,y,random_state = 1234)"
      ],
      "metadata": {
        "id": "lmi7hAngmykx"
      },
      "execution_count": null,
      "outputs": []
    },
    {
      "cell_type": "markdown",
      "source": [
        "### Step 3: Standardization transformation of features\n",
        "\n",
        "Because the feature values vary by several orders of magnitude across different features, we expect that applying a standardization transformation to the features will improve the quality of our distance metric used to make predictions in the `KNeighborsClassifier`.\n",
        "\n",
        "**Apply a standardization transformation to the features using the `sklearn.preprocessing.StandardScaler()` class.** Be sure to fit the transformation with the training data, and apply the transformation to both the training and testing data after transformation fitting."
      ],
      "metadata": {
        "id": "rt7ShxCOk1CK"
      }
    },
    {
      "cell_type": "code",
      "source": [
        "from sklearn.preprocessing import StandardScaler\n",
        "x_transform = StandardScaler().fit(x_train)\n",
        "x_train = x_transform.transform(x_train)\n",
        "x_test = x_transform.transform(x_test)"
      ],
      "metadata": {
        "id": "m2p1B7BWmzCJ"
      },
      "execution_count": null,
      "outputs": []
    },
    {
      "cell_type": "markdown",
      "source": [
        "### Step 4: Hyperparameter optimization\n",
        "\n",
        "We are interested in a `KNeighborsClassifier` model for predicting the presence of bump faults in steel plates. **Perform hyperparameter optimization to determine the optimal value of `n_neighbors`.** Use the `sklearn.model_selection.GridSearchCV` class to perform 5-fold cross-validation with the `KNeighborsClassifier` model across a range of possible values for `n_neighbors`. You may select the range of possible `n_neighbors` values, but you must compare at least 10 separate values. **Print out the best value of `n_neighbors` as determined by your search, as well as the associate accuracy score.**"
      ],
      "metadata": {
        "id": "IUKCbOCsmg5p"
      }
    },
    {
      "cell_type": "code",
      "source": [
        "from sklearn.neighbors import KNeighborsClassifier\n",
        "parameters = {'n_neighbors':[1,2,3,4,5,6,7,8,9,10]}\n",
        "\n",
        "knn = KNeighborsClassifier()\n",
        "\n",
        "grid_search  = GridSearchCV(knn, parameters,cv=5)\n",
        "grid_search.fit(x_train,y_train)\n",
        "\n",
        "print(grid_search.best_params_['n_neighbors'])\n",
        "print(grid_search.best_score_)"
      ],
      "metadata": {
        "id": "RZOKtAuWmzeB",
        "colab": {
          "base_uri": "https://localhost:8080/"
        },
        "outputId": "466afd7a-b1e7-4da1-a98d-4e5b1552e05d"
      },
      "execution_count": null,
      "outputs": [
        {
          "output_type": "stream",
          "name": "stdout",
          "text": [
            "4\n",
            "0.8432989690721648\n"
          ]
        }
      ]
    },
    {
      "cell_type": "markdown",
      "source": [
        "### Step 5: Visualize results\n",
        "\n",
        "First, **construct a complexity curve showing the mean cross-validation score as a function of the `n_neighbors` hyperparameter**. As we do in class, be sure to plot (1) a scatter plot of `n_neighbors` (x-axis) and the mean validation score, (2) a line plot of `n_neighbors` and the mean validation score, and (3) error bars based on the mean and stdev of the mean validation score. Be sure to follow all plotting guidelines.\n",
        "\n",
        "Next, **construct a confusion matrix plot** comparing the ground truth labels and the model predictions on the test set."
      ],
      "metadata": {
        "id": "EIhch1hSmlep"
      }
    },
    {
      "cell_type": "code",
      "source": [
        "from sklearn.metrics import confusion_matrix,ConfusionMatrixDisplay\n",
        "grid_search = GridSearchCV(knn,parameters,cv=5)\n",
        "grid_search.fit(x_train,y_train)\n",
        "results = grid_search.cv_results_\n",
        "means = results['mean_test_score']\n",
        "scores = results['std_test_score']\n",
        "\n",
        "\n",
        "plt.scatter(parameters['n_neighbors'],means,c='green',s=75,alpha=.5)\n",
        "plt.plot(parameters['n_neighbors'],means,c='green',label = 'Train Score')\n",
        "plt.errorbar(parameters['n_neighbors'],means,yerr = scores,fmt='o')\n",
        "\n",
        "plt.xlabel('n_neighbors')\n",
        "plt.ylabel('Mean Cross validation Score')\n",
        "plt.title('Curve for KNeighborsClassifier')\n",
        "y_pred = grid_search.predict(x_test)\n",
        "cm = confusion_matrix(y_pred,y_test)\n",
        "cmd = ConfusionMatrixDisplay(cm)\n",
        "cmd.plot()"
      ],
      "metadata": {
        "id": "dHylWHyDm0LR",
        "colab": {
          "base_uri": "https://localhost:8080/",
          "height": 575
        },
        "outputId": "6b531745-2ae3-48c9-a376-8d9b04da7776"
      },
      "execution_count": null,
      "outputs": [
        {
          "output_type": "execute_result",
          "data": {
            "text/plain": [
              "<sklearn.metrics._plot.confusion_matrix.ConfusionMatrixDisplay at 0x7fcceee01760>"
            ]
          },
          "metadata": {},
          "execution_count": 26
        },
        {
          "output_type": "display_data",
          "data": {
            "text/plain": [
              "<Figure size 432x288 with 1 Axes>"
            ],
            "image/png": "[encoded data removed]"
          },
          "metadata": {
            "needs_background": "light"
          }
        },
        {
          "output_type": "display_data",
          "data": {
            "text/plain": [
              "<Figure size 432x288 with 2 Axes>"
            ],
            "image/png": "[encoded data removed]"
          },
          "metadata": {
            "needs_background": "light"
          }
        }
      ]
    }
  ]
}