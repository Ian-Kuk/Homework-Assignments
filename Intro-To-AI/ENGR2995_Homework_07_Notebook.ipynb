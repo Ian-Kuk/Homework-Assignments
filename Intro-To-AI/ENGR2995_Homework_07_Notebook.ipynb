{
  "nbformat": 4,
  "nbformat_minor": 0,
  "metadata": {
    "colab": {
      "provenance": []
    },
    "kernelspec": {
      "name": "python3",
      "display_name": "Python 3"
    },
    "language_info": {
      "name": "python"
    }
  },
  "cells": [
    {
      "cell_type": "code",
      "execution_count": null,
      "metadata": {
        "id": "9Ixnz1g1Pyyu"
      },
      "outputs": [],
      "source": [
        "import numpy as np\n",
        "import pandas as pd\n",
        "import matplotlib.pyplot as plt\n",
        "import seaborn as sns\n",
        "from sklearn.model_selection import train_test_split, GridSearchCV, RandomizedSearchCV\n",
        "from sklearn.pipeline import Pipeline\n",
        "from sklearn.preprocessing import StandardScaler\n",
        "from sklearn.svm import SVC\n",
        "from sklearn.metrics import precision_score, recall_score,adjusted_rand_score\n",
        "import scipy.cluster.hierarchy as shc\n",
        "from sklearn.cluster import AgglomerativeClustering, KMeans\n",
        "import matplotlib.pyplot as plt\n",
        "from sklearn.datasets import make_classification\n",
        "from sklearn.decomposition import PCA"
      ]
    },
    {
      "cell_type": "markdown",
      "source": [
        "### Guidelines for data plotting\n",
        "\n",
        "When asked to produce a plot, you must:\n",
        "\n",
        "1. Follow directions on whether to use a line plot or scatter plot\n",
        "2. Provide descriptive labels for all axes and give units when indicated\n",
        "3. Provide a descriptive title for the plot\n",
        "4. Provide a descriptive legend for the plot when plotting more than one dataset\n",
        "5. Use color or marker to differentiate between datasets when plotting more than one dataset\n",
        "\n",
        "### Guidelines for report numerical and text-based answers\n",
        "\n",
        "1. When asked to report a numerical value (e.g. a validation score), you must include a print statement that describes the value being reported either together or directly before the printing of the value itself.\n",
        "\n",
        "2. When asked to answer a question with text, create a new text cell and answer the question in complete sentances."
      ],
      "metadata": {
        "id": "mLzGpKahfaXj"
      }
    },
    {
      "cell_type": "markdown",
      "source": [
        "#1. Predicting a Pulsar Star\n",
        "\n",
        "### Dataset Description\n",
        "\n",
        "HTRU2 is a data set which describes a sample of pulsar candidates collected during the High Time Resolution Universe Survey. Pulsars are a rare type of Neutron star that produce radio emission detectable here on Earth. They are of considerable scientific interest as probes of space-time, the inter-stellar medium, and states of matter.\n",
        "\n",
        "As pulsars rotate, their emission beam sweeps across the sky, and when this crosses our line of sight, produces a detectable pattern of broadband radio emission. As pulsars rotate rapidly, this pattern repeats periodically. Thus pulsar search involves looking for periodic radio signals with large radio telescopes. Each pulsar produces a slightly different emission pattern, which varies slightly with each rotation. Thus a potential signal detection known as a 'candidate', is averaged over many rotations of the pulsar, as determined by the length of an observation. In the absence of additional info, each candidate could potentially describe a real pulsar. However in practice almost all detections are caused by radio frequency interference (RFI) and noise, making legitimate signals hard to find.\n",
        "\n",
        "### Attribute Information\n",
        "\n",
        "Each candidate is described by 8 continuous variables, and a single class variable. The first four are simple statistics obtained from the integrated pulse profile (folded profile). This is an array of continuous variables that describe a longitude-resolved version of the signal that has been averaged in both time and frequency . The remaining four variables are similarly obtained from the DM-SNR curve . These are summarised below:\n",
        "- Mean of the integrated profile.\n",
        "- Standard deviation of the integrated profile.\n",
        "- Excess kurtosis of the integrated profile.\n",
        "- Skewness of the integrated profile.\n",
        "- Mean of the DM-SNR curve.\n",
        "- Standard deviation of the DM-SNR curve.\n",
        "- Excess kurtosis of the DM-SNR curve.\n",
        "- Skewness of the DM-SNR curve.\n"
      ],
      "metadata": {
        "id": "wogRl5IEKTjT"
      }
    },
    {
      "cell_type": "markdown",
      "source": [
        "#### Step 0: Download the data"
      ],
      "metadata": {
        "id": "DSM-R7vKRUEy"
      }
    },
    {
      "cell_type": "code",
      "source": [
        "!wget https://raw.githubusercontent.com/alexandrehsd/Predicting-Pulsar-Stars/master/pulsar_stars.csv"
      ],
      "metadata": {
        "id": "9kVudTegJRZS",
        "colab": {
          "base_uri": "https://localhost:8080/"
        },
        "outputId": "6f9366d3-bd3a-4f73-c3d1-fb11cb5490fe"
      },
      "execution_count": null,
      "outputs": [
        {
          "output_type": "stream",
          "name": "stdout",
          "text": [
            "--2023-04-26 00:22:10--  https://raw.githubusercontent.com/alexandrehsd/Predicting-Pulsar-Stars/master/pulsar_stars.csv\n",
            "Resolving raw.githubusercontent.com (raw.githubusercontent.com)... 185.199.108.133, 185.199.109.133, 185.199.110.133, ...\n",
            "Connecting to raw.githubusercontent.com (raw.githubusercontent.com)|185.199.108.133|:443... connected.\n",
            "HTTP request sent, awaiting response... 200 OK\n",
            "Length: 1748317 (1.7M) [text/plain]\n",
            "Saving to: ‘pulsar_stars.csv’\n",
            "\n",
            "\rpulsar_stars.csv      0%[                    ]       0  --.-KB/s               \rpulsar_stars.csv    100%[===================>]   1.67M  --.-KB/s    in 0.02s   \n",
            "\n",
            "2023-04-26 00:22:10 (95.3 MB/s) - ‘pulsar_stars.csv’ saved [1748317/1748317]\n",
            "\n"
          ]
        }
      ]
    },
    {
      "cell_type": "markdown",
      "source": [
        "### Step 1: Prepare the data for modeling\n",
        "\n",
        "1. **Load the dataset as a dataframe**.\n",
        "2. **Prepare the feature data `X` by extracting the data in the columns described in the problem statement.**\n",
        "3. **Prepare the target data `y` by extracting the data in the `target_class` column.**\n",
        "3. **Split the dataset into training and testing sets.**"
      ],
      "metadata": {
        "id": "cwMe2mYwffir"
      }
    },
    {
      "cell_type": "code",
      "source": [
        "df = pd.read_csv('pulsar_stars.csv')\n",
        "x = df.drop(['target_class'],axis = 1).values\n",
        "y = df['target_class'].values\n",
        "x_train,x_test,y_train,y_test = train_test_split(x,y,random_state=1234)"
      ],
      "metadata": {
        "id": "Q33yPwPsRQ8C"
      },
      "execution_count": null,
      "outputs": []
    },
    {
      "cell_type": "markdown",
      "source": [
        "#### Step 3: Hyperparameter optimization for pulsar detection with linear SVM\n",
        "\n",
        "1. **Construct a modeling `sklearn.pipeline.Pipeline` for fitting the data.** The pipeline should include:\n",
        "  - `sklearn.preprocessing.StandardScaler` standardization transformation.\n",
        "  - `sklearn.svm.SVC` ([documentation](https://scikit-learn.org/stable/modules/generated/sklearn.svm.SVC.html)) support vector classification model.\n",
        "2. **Perform a grid search `GridSearchCV`** over\n",
        "  - `C`: the regularization penalty strength parameter\n",
        "3. **Print out the best cross-validation score and corresponding parameters.**\n",
        "4. Retrain the `SVC` model with the best hyperparameters using the entire training set. **Calculate the precision and recall of both the positive class and negative class on the test set.** Write a comment interpreting the results of these metric calculations.\n",
        "\n",
        "You may select the range of possible hyperparameter values, but you must compare at least 50 total models. Be sure to use the linear `SVC(kernel='linear')` support vector classifier in this step."
      ],
      "metadata": {
        "id": "CjwEu0uHfgDq"
      }
    },
    {
      "cell_type": "code",
      "source": [
        "model = Pipeline([('scaler', StandardScaler()),('svm', SVC(kernel='linear'))])\n",
        "\n",
        "params = {'svm__C': np.logspace(-1,1,50)}\n",
        "\n",
        "regr = GridSearchCV(model,params,cv=5)\n",
        "regr.fit(x_train,y_train)\n",
        "\n",
        "print(f'Best score: {regr.best_score_:.3f}')\n",
        "print(f'Best parameters: {regr.best_params_}')\n",
        "\n",
        "best_param = regr.best_estimator_\n",
        "best_param.fit(x_train, y_train)\n",
        "\n",
        "\n",
        "y_pred = best_param.predict(x_test)\n",
        "precisionPositive = precision_score(y_test, y_pred,pos_label=1)\n",
        "precisionNegative = precision_score(y_test, y_pred,pos_label=0)\n",
        "recallPositive = recall_score(y_test, y_pred,pos_label=1)\n",
        "recallNegative = recall_score(y_test, y_pred,pos_label=0)\n",
        "print(f\"Positive Precision: {precisionPositive}\")\n",
        "print(f\"Negative Precision: {precisionNegative}\")\n",
        "print(f\"Positive Recall: {recallPositive}\")\n",
        "print(f\"Negative Recall: {recallNegative}\")"
      ],
      "metadata": {
        "id": "1o4Qd737RQ-6",
        "colab": {
          "base_uri": "https://localhost:8080/"
        },
        "outputId": "c717f2c1-9a4b-4249-f394-5e5acd7fd719"
      },
      "execution_count": null,
      "outputs": [
        {
          "output_type": "stream",
          "name": "stdout",
          "text": [
            "Best score: 0.979\n",
            "Best parameters: {'svm__C': 0.7196856730011519}\n",
            "Positive Precision: 0.9351351351351351\n",
            "Negative Precision: 0.9817295980511571\n",
            "Positive Recall: 0.8218527315914489\n",
            "Negative Recall: 0.9940799210656142\n"
          ]
        }
      ]
    },
    {
      "cell_type": "markdown",
      "source": [
        "From these results, all of the scores are extremely high. The lowest score was .82 for the positive recall. This means this model is extrmely accurate at predictions."
      ],
      "metadata": {
        "id": "IAdffLkb_oPF"
      }
    },
    {
      "cell_type": "markdown",
      "source": [
        "#### Step 4: Class-Balancing\n",
        "\n",
        "Repeat the analysis in Step 3, but use the class-balancing option `SVC(kernel='linear', class_weight='balanced')` for all models. Write a comment comparing the precision and recall scores of the best class-balanced model with the original analysis in Step 3."
      ],
      "metadata": {
        "id": "e-XjMra0jzfQ"
      }
    },
    {
      "cell_type": "code",
      "source": [
        "model = Pipeline([('scaler', StandardScaler()),('svm', SVC(kernel='linear', class_weight = 'balanced'))])\n",
        "\n",
        "params = {'svm__C': np.logspace(-1,1,50)}\n",
        "\n",
        "regr = GridSearchCV(model,params,cv=5)\n",
        "regr.fit(x_train,y_train)\n",
        "\n",
        "print(f'Best score: {regr.best_score_:.3f}')\n",
        "print(f'Best parameters: {regr.best_params_}')\n",
        "\n",
        "best_param = regr.best_estimator_\n",
        "best_param.fit(x_train, y_train)\n",
        "\n",
        "\n",
        "y_pred = best_param.predict(x_test)\n",
        "precisionPositive = precision_score(y_test, y_pred,pos_label=1)\n",
        "precisionNegative = precision_score(y_test, y_pred,pos_label=0)\n",
        "recallPositive = recall_score(y_test, y_pred,pos_label=1)\n",
        "recallNegative = recall_score(y_test, y_pred,pos_label=0)\n",
        "print(f\"Positive Precision: {precisionPositive}\")\n",
        "print(f\"Negative Precision: {precisionNegative}\")\n",
        "print(f\"Positive Recall: {recallPositive}\")\n",
        "print(f\"Negative Recall: {recallNegative}\")"
      ],
      "metadata": {
        "id": "5sNkQIGBjzsy",
        "colab": {
          "base_uri": "https://localhost:8080/"
        },
        "outputId": "36ca8b0a-acfb-4279-f850-2f6a307bfb58"
      },
      "execution_count": null,
      "outputs": [
        {
          "output_type": "stream",
          "name": "stdout",
          "text": [
            "Best score: 0.975\n",
            "Best parameters: {'svm__C': 0.1}\n",
            "Positive Precision: 0.8272138228941684\n",
            "Negative Precision: 0.9905284147557328\n",
            "Positive Recall: 0.9097387173396675\n",
            "Negative Recall: 0.9802664035520473\n"
          ]
        }
      ]
    },
    {
      "cell_type": "markdown",
      "source": [
        "The positive recall score is much metter using balanced, but the positive precision is much worse. The negative precision is marginaly better and the negative recall is marginaly worse. With all categories combined its about equal to step 3"
      ],
      "metadata": {
        "id": "iyiLuhNhke_L"
      }
    },
    {
      "cell_type": "markdown",
      "source": [
        "#### Step 5: Hyperparameter optimization for pulsar detection with kernel SVM\n",
        "\n",
        "1. **Construct a modeling `sklearn.pipeline.Pipeline` for fitting the data.** The pipeline should include:\n",
        "  - `sklearn.preprocessing.StandardScaler` standardization transformation.\n",
        "  - `sklearn.svm.SVC` support vector classification model.\n",
        "2. **Perform a grid search `RandomizedSearchCV`** over\n",
        "  - `C`: the regularization penalty strength parameter\n",
        "  - `class_weight`: consider `class_weight=None` or `class_weight='balanced'`\n",
        "  - `kernel`: consider the radial basis function kernel `kernel='rbf'`, the polynomial features kernel `kernel='poly'`, and the sigmoid kernel `kernel='sigmoid'`.\n",
        "  - `gamma`: a scaling parameter in the `rbf`, `poly`, and `sigmoid` kernels. Consider `gamma='scale'` or `gamma='auto'`.\n",
        "3. **Print out the best cross-validation score and corresponding parameters.**\n",
        "4. Retrain the `SVC` model with the best hyperparameters using the entire training set. **Calculate the precision and recall of both the positive class and negative class on the test set.** Write a comment interpreting the results of these metric calculations.\n",
        "\n",
        "You may select the range of possible hyperparameter values, but you must compare at least 50 total models. In this case, you should use a dense ~50 length array of choices for `C`. This, together with the other considerations described in the problem statement, will produce ~1200 hyperparameter combinations. The `RandomizedSearchCV` will randomly select a subset of these to actually test and report. Read the [documentation](https://scikit-learn.org/stable/modules/generated/sklearn.model_selection.RandomizedSearchCV.html) to learn how to control the number of hyperparameter sets selected for testing."
      ],
      "metadata": {
        "id": "NlNQrE0Ejz0A"
      }
    },
    {
      "cell_type": "code",
      "source": [
        "model = Pipeline([('scaler', StandardScaler()),('svm', SVC())])\n",
        "\n",
        "params = {\n",
        "    'svm__C': np.logspace(-3,3,50),\n",
        "    'svm__class_weight' : [None,'balanced'],\n",
        "    'svm__kernel' : ['rbf','poly','sigmoid'],\n",
        "    'svm__gamma' : ['scale']\n",
        "    }\n",
        "search = RandomizedSearchCV(model,params)\n",
        "search.fit(x_train,y_train)\n",
        "print(f'Best score: {search.best_score_:.3f}')\n",
        "print(f'Best parameters: {search.best_params_}')\n",
        "best_model = search.best_estimator_\n",
        "best_model.fit(x_train, y_train)\n",
        "y_pred = best_model.predict(x_test)\n",
        "precisionPositive = precision_score(y_test, y_pred,pos_label=1)\n",
        "precisionNegative = precision_score(y_test, y_pred,pos_label=0)\n",
        "recallPositive = recall_score(y_test, y_pred,pos_label=1)\n",
        "recallNegative = recall_score(y_test, y_pred,pos_label=0)\n",
        "print(f\"Positive Precision: {precisionPositive}\")\n",
        "print(f\"Negative Precision: {precisionNegative}\")\n",
        "print(f\"Positive Recall: {recallPositive}\")\n",
        "print(f\"Negative Recall: {recallNegative}\")"
      ],
      "metadata": {
        "id": "J8fS9M2Fjz6w",
        "colab": {
          "base_uri": "https://localhost:8080/"
        },
        "outputId": "0d1dba41-f51e-4bc5-9a18-e9ae140a2a53"
      },
      "execution_count": null,
      "outputs": [
        {
          "output_type": "stream",
          "name": "stdout",
          "text": [
            "Best score: 0.979\n",
            "Best parameters: {'svm__kernel': 'rbf', 'svm__gamma': 'scale', 'svm__class_weight': None, 'svm__C': 2.023589647725158}\n",
            "Positive Precision: 0.9276139410187667\n",
            "Negative Precision: 0.9817162359824476\n",
            "Positive Recall: 0.8218527315914489\n",
            "Negative Recall: 0.993339911198816\n"
          ]
        }
      ]
    },
    {
      "cell_type": "markdown",
      "source": [
        "The scores on the are extremely good, and extremely similar to step 3. The results are every so slightly worse than step 3, but it is extremely close."
      ],
      "metadata": {
        "id": "kp5kJbL0liYX"
      }
    },
    {
      "cell_type": "markdown",
      "source": [
        "#### Step 6. Selecting a an appropriate metric\n",
        "\n",
        "Suppose you would like to select a model that balances maximizing the identification of positive examples within a given test set and minimizing the false positive rate. **What metric would you use? Explain your reasoning. Use this metric to perform hyperparameter optimization cross-validation model selection and repeat the analysis in Step 5. Do the number of positive examples identified in the test set improve over the default (Accuracy) selection metric?**"
      ],
      "metadata": {
        "id": "dG5afAQPol5G"
      }
    },
    {
      "cell_type": "code",
      "source": [],
      "metadata": {
        "id": "CUQPpPvpqkRM"
      },
      "execution_count": null,
      "outputs": []
    },
    {
      "cell_type": "markdown",
      "source": [
        "# 2. Gene Expression Clustering\n",
        "\n",
        "This gene expression dataset consists of 40 tissue samples with measurements on 1000 genes. The first 20 samples are from healthy patients, while the second 20 samples are from a diseased group."
      ],
      "metadata": {
        "id": "8r7TTbEIJR7T"
      }
    },
    {
      "cell_type": "code",
      "source": [
        "!wget https://www.statlearning.com/s/Ch10Ex11.csv"
      ],
      "metadata": {
        "id": "6F5UiM1rJT8j",
        "colab": {
          "base_uri": "https://localhost:8080/"
        },
        "outputId": "82af2b38-e980-4a5d-e3f0-1e78d2fcc3b0"
      },
      "execution_count": null,
      "outputs": [
        {
          "output_type": "stream",
          "name": "stdout",
          "text": [
            "--2023-04-26 00:46:55--  https://www.statlearning.com/s/Ch10Ex11.csv\n",
            "Resolving www.statlearning.com (www.statlearning.com)... 198.185.159.144, 198.49.23.145, 198.185.159.145, ...\n",
            "Connecting to www.statlearning.com (www.statlearning.com)|198.185.159.144|:443... connected.\n",
            "HTTP request sent, awaiting response... 302 Found\n",
            "Location: https://static1.squarespace.com/static/5ff2adbe3fe4fe33db902812/t/5fffe072c4c46034a4567141/1610604659250/Ch10Ex11.csv [following]\n",
            "--2023-04-26 00:46:55--  https://static1.squarespace.com/static/5ff2adbe3fe4fe33db902812/t/5fffe072c4c46034a4567141/1610604659250/Ch10Ex11.csv\n",
            "Resolving static1.squarespace.com (static1.squarespace.com)... 151.101.0.238, 151.101.64.238, 151.101.128.238, ...\n",
            "Connecting to static1.squarespace.com (static1.squarespace.com)|151.101.0.238|:443... connected.\n",
            "HTTP request sent, awaiting response... 200 OK\n",
            "Length: 403088 (394K) [text/csv]\n",
            "Saving to: ‘Ch10Ex11.csv’\n",
            "\n",
            "Ch10Ex11.csv        100%[===================>] 393.64K  --.-KB/s    in 0.006s  \n",
            "\n",
            "2023-04-26 00:46:55 (65.9 MB/s) - ‘Ch10Ex11.csv’ saved [403088/403088]\n",
            "\n"
          ]
        }
      ]
    },
    {
      "cell_type": "markdown",
      "source": [
        "### Step 1. Load the dataset\n",
        "\n",
        "Read the data to a dataframe and construct an array `X` containing the gene expression measurements of each tissue sample. Construct an array of labels `y` that contains the sample class (healthy `0` or diseased `1`) based on the information given in the problem statement."
      ],
      "metadata": {
        "id": "b4ompHSPcHvE"
      }
    },
    {
      "cell_type": "code",
      "source": [
        "df = pd.read_csv('Ch10Ex11.csv').T\n",
        "x = df.iloc[:,1:].values.astype(float)\n",
        "y = df.iloc[:,0].values.astype(float)"
      ],
      "metadata": {
        "id": "YNILiBIEcH4b"
      },
      "execution_count": null,
      "outputs": []
    },
    {
      "cell_type": "markdown",
      "source": [
        "### Step 2. Hierarchical clustering\n",
        "\n",
        "Apply hierarchical clustering with `sklearn.cluster.AgglomerativeClustering` to the samples using the `metric='cosine'` keyword argument (see [documentation](https://scikit-learn.org/stable/modules/generated/sklearn.cluster.AgglomerativeClustering.html)). Plot the dendrogram. Do the genes separate the samples into the two groups? Next, change the keyword argument `linkage` to some acceptable value other than `ward` (the default). Do the results depend on the type of linkage method used?"
      ],
      "metadata": {
        "id": "hLJ7pFYJcIF6"
      }
    },
    {
      "cell_type": "code",
      "source": [
        "cluster = AgglomerativeClustering(n_clusters=None, metric=None, linkage='ward', distance_threshold=0)\n",
        "cluster = cluster.fit(x)\n",
        "plt.title(\"Dendrogram Ward\")\n",
        "dend = shc.dendrogram(shc.linkage(x, method='ward'))\n",
        "plt.show()\n"
      ],
      "metadata": {
        "id": "vNLkM0whcIMb",
        "colab": {
          "base_uri": "https://localhost:8080/",
          "height": 455
        },
        "outputId": "244a60e4-3157-45a8-de13-5e4994d2aca3"
      },
      "execution_count": null,
      "outputs": [
        {
          "output_type": "display_data",
          "data": {
            "text/plain": [
              "<Figure size 640x480 with 1 Axes>"
            ],
            "image/png": "[encoded data removed]"
          },
          "metadata": {}
        }
      ]
    },
    {
      "cell_type": "code",
      "source": [
        "cluster = AgglomerativeClustering(n_clusters=None, metric='cosine', linkage='average', distance_threshold=0)\n",
        "cluster = cluster.fit(x)\n",
        "plt.title(\"Dendrogram Average\")\n",
        "dend = shc.dendrogram(shc.linkage(x, method='average'))\n",
        "plt.show()"
      ],
      "metadata": {
        "colab": {
          "base_uri": "https://localhost:8080/",
          "height": 455
        },
        "id": "OHGnbLARDtMk",
        "outputId": "5481a4fc-075d-4577-e992-55ead7982919"
      },
      "execution_count": null,
      "outputs": [
        {
          "output_type": "display_data",
          "data": {
            "text/plain": [
              "<Figure size 640x480 with 1 Axes>"
            ],
            "image/png": "[encoded data removed]"
          },
          "metadata": {}
        }
      ]
    },
    {
      "cell_type": "markdown",
      "source": [
        "The results relatively similar, with the main difference being the inital height of the first split. It is hard to say if the linkage is the sole dependant method. The main reason for this is that when the linkage is set to ward, and the metric is set to cosine it produces the eroor \" cosine was provided as metric. Ward can only work with euclidean distances\" This error is only fixed by setting metric to none. Becuase of this It is hard to tell if the results do depend on the linkage, but I do believe they do."
      ],
      "metadata": {
        "id": "uj-c7f7-Dtxb"
      }
    },
    {
      "cell_type": "markdown",
      "source": [
        "### Step 3. Determine important gene variations\n",
        "\n",
        "Your collaborator wants to know which genes differ the most across the two groups. Suggest a way to answer this question, and apply it here."
      ],
      "metadata": {
        "id": "VPAd-XHocIUK"
      }
    },
    {
      "cell_type": "code",
      "source": [],
      "metadata": {
        "id": "MlL1hlXQcItL"
      },
      "execution_count": null,
      "outputs": []
    },
    {
      "cell_type": "markdown",
      "source": [
        "#3. Clustering Synthetic Data"
      ],
      "metadata": {
        "id": "r99XmdU4UN5b"
      }
    },
    {
      "cell_type": "markdown",
      "source": [
        "### Step 1. Generate synthetic dataset\n",
        "\n",
        "Generate a synthetic dataset with 20 observations in each of three classes (i.e. 60 observations total) and 50 variables. HINT: You can use the `sklearn.datasets.make_classification` ([documentation](https://scikit-learn.org/stable/modules/generated/sklearn.datasets.make_classification.html#sklearn.datasets.make_classification/)) function to generate data."
      ],
      "metadata": {
        "id": "Qx0HGyY5UkQD"
      }
    },
    {
      "cell_type": "code",
      "source": [
        "x,y = make_classification(n_samples=60,n_features=50,n_classes=3, n_clusters_per_class=1)"
      ],
      "metadata": {
        "id": "0CW4XA9NURMi"
      },
      "execution_count": null,
      "outputs": []
    },
    {
      "cell_type": "markdown",
      "source": [
        "### Step 2. Perform PCA\n",
        "\n",
        "Perform PCA on the 60 observations and plot the first two principal component score vectors. Use a different color to indicate the observations in each of the three classes. If the three classes appear separated in this plot, then continue on to Step 3. If not, then return to Step 1 and modify the data generation so that there is greater separation between the three classes."
      ],
      "metadata": {
        "id": "KOzWfo0GVRxz"
      }
    },
    {
      "cell_type": "code",
      "source": [
        "pca = PCA(n_components =2)\n",
        "x_pca = pca.fit_transform(x)\n",
        "\n",
        "colors = ['r','g','b']\n",
        "for class_label, color in zip(set(y),colors):\n",
        "  plt.scatter(x_pca[y==class_label,0], x_pca[y==class_label,1],color=color,label=class_label)\n",
        "plt.legend()\n",
        "plt.show()"
      ],
      "metadata": {
        "id": "kd87uRsDVpnr",
        "colab": {
          "base_uri": "https://localhost:8080/",
          "height": 430
        },
        "outputId": "36be0070-b059-44cb-ff80-eb12f92b27f6"
      },
      "execution_count": null,
      "outputs": [
        {
          "output_type": "display_data",
          "data": {
            "text/plain": [
              "<Figure size 640x480 with 1 Axes>"
            ],
            "image/png": "[encoded data removed]"
          },
          "metadata": {}
        }
      ]
    },
    {
      "cell_type": "markdown",
      "source": [
        "### Step 3. K-means Clustering\n",
        "\n",
        "Perform K-means clustering of the observations with $K=2$, $K=3$, and $K=4$. Describe your results. How well do the clusters that you obtained in K-means clustering compare to the true class labels?"
      ],
      "metadata": {
        "id": "-Ma9SvWlVtVj"
      }
    },
    {
      "cell_type": "code",
      "source": [
        "true_labels = y\n",
        "for n_clusters in range(2,5):\n",
        "  kmeans = KMeans(n_clusters=n_clusters)\n",
        "  pred = kmeans.fit_predict(x)\n",
        "  print(\"True Labels\")\n",
        "  print(true_labels)\n",
        "  print(\"prediction\")\n",
        "  print(pred)\n",
        ""
      ],
      "metadata": {
        "id": "sKl7Ai77aXly",
        "colab": {
          "base_uri": "https://localhost:8080/"
        },
        "outputId": "20e75eec-764a-43e2-ef3f-da635f3504fc"
      },
      "execution_count": null,
      "outputs": [
        {
          "output_type": "stream",
          "name": "stdout",
          "text": [
            "True Labels\n",
            "[0 2 2 0 1 1 0 0 0 2 2 1 2 0 2 0 0 0 2 1 1 1 0 1 1 2 1 0 1 0 2 0 2 1 0 0 2\n",
            " 1 2 2 1 0 2 1 1 0 1 2 0 1 2 2 1 2 0 2 0 2 1 0]\n",
            "prediction\n",
            "[1 1 1 1 0 1 1 1 0 1 1 0 1 1 1 1 1 0 1 1 1 0 1 0 1 1 1 0 0 1 1 0 1 1 0 1 1\n",
            " 1 1 1 0 0 1 1 1 0 1 1 0 0 1 1 0 1 0 1 1 1 1 0]\n",
            "True Labels\n",
            "[0 2 2 0 1 1 0 0 0 2 2 1 2 0 2 0 0 0 2 1 1 1 0 1 1 2 1 0 1 0 2 0 2 1 0 0 2\n",
            " 1 2 2 1 0 2 1 1 0 1 2 0 1 2 2 1 2 0 2 0 2 1 0]\n",
            "prediction\n",
            "[1 1 1 0 2 0 1 1 2 1 1 0 1 2 1 0 1 1 1 1 0 2 1 2 1 1 1 2 0 1 1 0 1 2 0 0 1\n",
            " 1 1 1 0 2 1 2 2 0 1 1 0 2 0 1 0 1 2 1 1 1 1 2]\n",
            "True Labels\n",
            "[0 2 2 0 1 1 0 0 0 2 2 1 2 0 2 0 0 0 2 1 1 1 0 1 1 2 1 0 1 0 2 0 2 1 0 0 2\n",
            " 1 2 2 1 0 2 1 1 0 1 2 0 1 2 2 1 2 0 2 0 2 1 0]\n",
            "prediction\n",
            "[1 0 1 1 1 3 1 2 1 0 2 1 3 1 1 1 0 1 2 2 2 2 0 1 2 0 2 1 1 2 2 1 1 1 1 1 0\n",
            " 2 2 1 3 1 2 2 2 1 0 0 1 2 3 3 1 1 1 0 1 1 2 1]\n"
          ]
        },
        {
          "output_type": "stream",
          "name": "stderr",
          "text": [
            "/usr/local/lib/python3.9/dist-packages/sklearn/cluster/_kmeans.py:870: FutureWarning: The default value of `n_init` will change from 10 to 'auto' in 1.4. Set the value of `n_init` explicitly to suppress the warning\n",
            "  warnings.warn(\n",
            "/usr/local/lib/python3.9/dist-packages/sklearn/cluster/_kmeans.py:870: FutureWarning: The default value of `n_init` will change from 10 to 'auto' in 1.4. Set the value of `n_init` explicitly to suppress the warning\n",
            "  warnings.warn(\n",
            "/usr/local/lib/python3.9/dist-packages/sklearn/cluster/_kmeans.py:870: FutureWarning: The default value of `n_init` will change from 10 to 'auto' in 1.4. Set the value of `n_init` explicitly to suppress the warning\n",
            "  warnings.warn(\n"
          ]
        }
      ]
    },
    {
      "cell_type": "markdown",
      "source": [
        "The results show that K = 3 has the closest predictions to the true class labels, but overall each have poor values which means k-means clustering is not a good match for the class labels."
      ],
      "metadata": {
        "id": "c4NULiE3duoM"
      }
    },
    {
      "cell_type": "markdown",
      "source": [
        "### Step 4. PCA + K-means\n",
        "\n",
        "Perform K-means clustering with $K=3$ on the first two principal component score vectors, rather than on the raw data. That is, perform K-means clustering on the [60, 2] array of which the first column is the first principal component score vector, and the second column is the second principal component score vector. Comment on the results."
      ],
      "metadata": {
        "id": "15V-wDymabU7"
      }
    },
    {
      "cell_type": "code",
      "source": [
        "kmeans_pca = KMeans(n_clusters=3)\n",
        "kmeans_pca = kmeans_pca.fit(x_pca[:,:2])\n",
        "print(\"PCA\")\n",
        "print(kmeans_pca.labels_)\n",
        "print(\"True labels\")\n",
        "print(true_labels)"
      ],
      "metadata": {
        "id": "eY41Kbrpabbr",
        "colab": {
          "base_uri": "https://localhost:8080/"
        },
        "outputId": "2594ec3c-7c4b-468c-8d9b-c8232c4a7fc6"
      },
      "execution_count": null,
      "outputs": [
        {
          "output_type": "stream",
          "name": "stdout",
          "text": [
            "PCA\n",
            "[0 0 0 1 1 1 2 0 2 0 1 1 1 0 0 2 1 2 0 1 0 2 2 2 1 0 0 2 1 0 0 2 0 1 2 0 0\n",
            " 0 0 0 1 2 0 1 0 1 1 0 2 0 1 1 1 1 2 1 0 0 0 2]\n",
            "True labels\n",
            "[0 2 2 0 1 1 0 0 0 2 2 1 2 0 2 0 0 0 2 1 1 1 0 1 1 2 1 0 1 0 2 0 2 1 0 0 2\n",
            " 1 2 2 1 0 2 1 1 0 1 2 0 1 2 2 1 2 0 2 0 2 1 0]\n"
          ]
        },
        {
          "output_type": "stream",
          "name": "stderr",
          "text": [
            "/usr/local/lib/python3.9/dist-packages/sklearn/cluster/_kmeans.py:870: FutureWarning: The default value of `n_init` will change from 10 to 'auto' in 1.4. Set the value of `n_init` explicitly to suppress the warning\n",
            "  warnings.warn(\n"
          ]
        }
      ]
    },
    {
      "cell_type": "markdown",
      "source": [
        "Overall the results from the principal components are much better"
      ],
      "metadata": {
        "id": "sgKP0ARcgfA-"
      }
    },
    {
      "cell_type": "markdown",
      "source": [
        "### Step 5. Scaling + K-means\n",
        "\n",
        "Using the `sklearn.preprocessing.StandardScaler()` class or similar, perform K-means clustering with $K=3$ on the data after scaling each variable to have standard deviation one. How do these results compare to the results from Step 3?"
      ],
      "metadata": {
        "id": "GbkY-52Dabja"
      }
    },
    {
      "cell_type": "code",
      "source": [
        "data = StandardScaler().fit_transform(x)\n",
        "kmeans_scaler = KMeans(n_clusters=3)\n",
        "kmeans_scaler = kmeans_scaler.fit(data)\n",
        "print(\"Scaled Data\")\n",
        "print(kmeans_scaler.labels_)\n",
        "print(\"True Lables\")\n",
        "print(true_labels)"
      ],
      "metadata": {
        "id": "7Pm1ch9labtS",
        "colab": {
          "base_uri": "https://localhost:8080/"
        },
        "outputId": "c55aa4ab-7361-4482-c915-132374ef4592"
      },
      "execution_count": null,
      "outputs": [
        {
          "output_type": "stream",
          "name": "stderr",
          "text": [
            "/usr/local/lib/python3.9/dist-packages/sklearn/cluster/_kmeans.py:870: FutureWarning: The default value of `n_init` will change from 10 to 'auto' in 1.4. Set the value of `n_init` explicitly to suppress the warning\n",
            "  warnings.warn(\n"
          ]
        },
        {
          "output_type": "stream",
          "name": "stdout",
          "text": [
            "Scaled Data\n",
            "[0 0 0 0 0 0 0 0 0 0 0 0 0 0 0 0 0 0 0 0 2 2 1 1 1 2 2 2 2 1 1 2 1 1 2 2 1\n",
            " 2 2 2]\n",
            "True Lables\n",
            "[0 2 2 0 1 1 0 0 0 2 2 1 2 0 2 0 0 0 2 1 1 1 0 1 1 2 1 0 1 0 2 0 2 1 0 0 2\n",
            " 1 2 2 1 0 2 1 1 0 1 2 0 1 2 2 1 2 0 2 0 2 1 0]\n"
          ]
        }
      ]
    },
    {
      "cell_type": "markdown",
      "source": [
        "The results from scaling the data is signifcantly worse than step 3"
      ],
      "metadata": {
        "id": "Lv-o81iVh65v"
      }
    }
  ]
}